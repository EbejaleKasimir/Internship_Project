{
 "cells": [
  {
   "cell_type": "code",
   "execution_count": 1,
   "id": "316ae1c9-ef90-42d3-a33b-3f7d1c0d7025",
   "metadata": {
    "tags": []
   },
   "outputs": [],
   "source": [
    "# Import libraries\n",
    "\n",
    "import pandas as pd\n",
    "import numpy as np\n",
    "import matplotlib.pyplot as plt\n",
    "import seaborn as sns"
   ]
  },
  {
   "cell_type": "code",
   "execution_count": 2,
   "id": "a6cc7cae-a48e-4d11-94b1-73e7db60447c",
   "metadata": {
    "tags": []
   },
   "outputs": [
    {
     "data": {
      "text/html": [
       "<div>\n",
       "<style scoped>\n",
       "    .dataframe tbody tr th:only-of-type {\n",
       "        vertical-align: middle;\n",
       "    }\n",
       "\n",
       "    .dataframe tbody tr th {\n",
       "        vertical-align: top;\n",
       "    }\n",
       "\n",
       "    .dataframe thead th {\n",
       "        text-align: right;\n",
       "    }\n",
       "</style>\n",
       "<table border=\"1\" class=\"dataframe\">\n",
       "  <thead>\n",
       "    <tr style=\"text-align: right;\">\n",
       "      <th></th>\n",
       "      <th>Product_ID</th>\n",
       "      <th>product</th>\n",
       "      <th>price_dollars</th>\n",
       "      <th>star_ratings</th>\n",
       "      <th>total_ratings</th>\n",
       "      <th>url</th>\n",
       "      <th>category</th>\n",
       "      <th>Customer_1_ID</th>\n",
       "      <th>Customer_1_Star_Rating</th>\n",
       "      <th>Customer_1_Comment</th>\n",
       "      <th>Customer_1_buying_influence</th>\n",
       "      <th>Customer_2_ID</th>\n",
       "      <th>Customer_2_Star_Rating</th>\n",
       "      <th>Customer_2_Comment</th>\n",
       "      <th>Customer_2_buying_influence</th>\n",
       "      <th>Customer_3_ID</th>\n",
       "      <th>Customer_3_Star_Rating</th>\n",
       "      <th>Customer_3_Comment</th>\n",
       "      <th>Customer_3_buying_influence</th>\n",
       "      <th>Customer_4_ID</th>\n",
       "      <th>Customer_4_Star_Rating</th>\n",
       "      <th>Customer_4_Comment</th>\n",
       "      <th>Customer_4_buying_influence</th>\n",
       "      <th>Customer_5_ID</th>\n",
       "      <th>Customer_5_Star_Rating</th>\n",
       "      <th>Customer_5_Comment</th>\n",
       "      <th>Customer_5_buying_influence</th>\n",
       "      <th>Top_Positive_Review_Cust_ID</th>\n",
       "      <th>Top_Positive_Review_Cust_Name</th>\n",
       "      <th>Top_Positive_Review_Cust_Influenced</th>\n",
       "      <th>Top_Positive_Review_Cust_Comment</th>\n",
       "      <th>Top_Positive_Review_Cust_Comment_Title</th>\n",
       "      <th>Top_Positive_Review_Cust_Date</th>\n",
       "      <th>Top_Positive_Review_Cust_Star_Rating</th>\n",
       "      <th>Critical_Review_Cust_ID</th>\n",
       "      <th>Critical_Review_Cust_Name</th>\n",
       "      <th>Critical_Review_Cust_Influenced</th>\n",
       "      <th>Critical_Review_Cust_Comment</th>\n",
       "      <th>Critical_Review_Cust_Comment_Title</th>\n",
       "      <th>Critical_Review_Cust_Date</th>\n",
       "      <th>Critical_Review_Cust_Star_Rating</th>\n",
       "    </tr>\n",
       "  </thead>\n",
       "  <tbody>\n",
       "    <tr>\n",
       "      <th>0</th>\n",
       "      <td>B0BZ9XNBRB</td>\n",
       "      <td>Google Pixel 7a - Unlocked Android Cell Phone ...</td>\n",
       "      <td>499.00</td>\n",
       "      <td>4.2</td>\n",
       "      <td>546</td>\n",
       "      <td>https://www.amazon.com/product-reviews/B0BZ9XN...</td>\n",
       "      <td>Smartphones</td>\n",
       "      <td>R1B3EGMQP3U9HM</td>\n",
       "      <td>5.0</td>\n",
       "      <td>Pixel 7a: Unleashes the Pixel Magic at an Affo...</td>\n",
       "      <td>37.0</td>\n",
       "      <td>ROSGYBSL94XZ5</td>\n",
       "      <td>4.0</td>\n",
       "      <td>Poor man's iPhone</td>\n",
       "      <td>7.0</td>\n",
       "      <td>R2GJ7L8RJJR7FV</td>\n",
       "      <td>4.0</td>\n",
       "      <td>Great overall, especially call screening, thou...</td>\n",
       "      <td>15.0</td>\n",
       "      <td>R1ARDK7GYTSU3X</td>\n",
       "      <td>4.0</td>\n",
       "      <td>Surprisingly nice phone.</td>\n",
       "      <td>8.0</td>\n",
       "      <td>R2M2XB8HL58NXX</td>\n",
       "      <td>2.0</td>\n",
       "      <td>Horrific battery life, be cautious before you buy</td>\n",
       "      <td>82.0</td>\n",
       "      <td>R1B3EGMQP3U9HM</td>\n",
       "      <td>Carnelian</td>\n",
       "      <td>37.0</td>\n",
       "      <td>In a world dominated by smartphones with hefty...</td>\n",
       "      <td>Pixel 7a: Unleashes the Pixel Magic at an Affo...</td>\n",
       "      <td>2023-06-15</td>\n",
       "      <td>5.0</td>\n",
       "      <td>R2M2XB8HL58NXX</td>\n",
       "      <td>Camden</td>\n",
       "      <td>82.0</td>\n",
       "      <td>I'm an android developer; I do a lot of resear...</td>\n",
       "      <td>Horrific battery life, be cautious before you buy</td>\n",
       "      <td>2023-06-30</td>\n",
       "      <td>2.0</td>\n",
       "    </tr>\n",
       "    <tr>\n",
       "      <th>1</th>\n",
       "      <td>B0BLP2Y34S</td>\n",
       "      <td>SAMSUNG Galaxy S23 Ultra Cell Phone, Factory U...</td>\n",
       "      <td>1179.99</td>\n",
       "      <td>4.7</td>\n",
       "      <td>370</td>\n",
       "      <td>https://www.amazon.com/product-reviews/B0BLP2Y...</td>\n",
       "      <td>Smartphones</td>\n",
       "      <td>R2LC7ZJVNFGV1I</td>\n",
       "      <td>5.0</td>\n",
       "      <td>Worlds better than anything from Apple.</td>\n",
       "      <td>1.0</td>\n",
       "      <td>R1ZFOC0PC92CAR</td>\n",
       "      <td>5.0</td>\n",
       "      <td>Amazing Phone also got an error \"Sim 1 Not All...</td>\n",
       "      <td>1.0</td>\n",
       "      <td>RNB2E4X75AW55</td>\n",
       "      <td>5.0</td>\n",
       "      <td>Love it!</td>\n",
       "      <td>0.0</td>\n",
       "      <td>R19Y94YPF7URU0</td>\n",
       "      <td>5.0</td>\n",
       "      <td>The best cell phone</td>\n",
       "      <td>5.0</td>\n",
       "      <td>R2OD66BML50DDB</td>\n",
       "      <td>5.0</td>\n",
       "      <td>Best phone period</td>\n",
       "      <td>3.0</td>\n",
       "      <td>R2LC7ZJVNFGV1I</td>\n",
       "      <td>Amazon Customer</td>\n",
       "      <td>1.0</td>\n",
       "      <td>I've never have a phone so quick, smooth, easy...</td>\n",
       "      <td>Worlds better than anything from Apple.</td>\n",
       "      <td>2023-09-21</td>\n",
       "      <td>5.0</td>\n",
       "      <td>RNG0BCVBELY6Y</td>\n",
       "      <td>dane</td>\n",
       "      <td>5.0</td>\n",
       "      <td>bought this for my wife, the unboxing experien...</td>\n",
       "      <td>damaged packaging</td>\n",
       "      <td>2023-03-07</td>\n",
       "      <td>3.0</td>\n",
       "    </tr>\n",
       "    <tr>\n",
       "      <th>2</th>\n",
       "      <td>B0BSLRXF1H</td>\n",
       "      <td>SAMSUNG Galaxy A54 5G A Series Cell Phone, Fac...</td>\n",
       "      <td>349.99</td>\n",
       "      <td>4.4</td>\n",
       "      <td>196</td>\n",
       "      <td>https://www.amazon.com/product-reviews/B0BSLRX...</td>\n",
       "      <td>Smartphones</td>\n",
       "      <td>R1NBWDYCN898NM</td>\n",
       "      <td>5.0</td>\n",
       "      <td>Impressed</td>\n",
       "      <td>3.0</td>\n",
       "      <td>R36WW3GRJEAPZ8</td>\n",
       "      <td>4.0</td>\n",
       "      <td>Long battery life</td>\n",
       "      <td>25.0</td>\n",
       "      <td>R3IE0NDNZZXBN9</td>\n",
       "      <td>5.0</td>\n",
       "      <td>Good phone</td>\n",
       "      <td>7.0</td>\n",
       "      <td>R1DCCD4MQU12LM</td>\n",
       "      <td>5.0</td>\n",
       "      <td>Great Battery Life and Customization</td>\n",
       "      <td>20.0</td>\n",
       "      <td>R2OJ9WHPMX469I</td>\n",
       "      <td>4.0</td>\n",
       "      <td>If You Get SIM 1 Not allowed</td>\n",
       "      <td>9.0</td>\n",
       "      <td>R1NBWDYCN898NM</td>\n",
       "      <td>Smitty</td>\n",
       "      <td>3.0</td>\n",
       "      <td>This phone is amazing.  This unlocked phone wo...</td>\n",
       "      <td>Impressed</td>\n",
       "      <td>2023-09-26</td>\n",
       "      <td>5.0</td>\n",
       "      <td>R1QBO18YMKGS6M</td>\n",
       "      <td>Shiane Monday</td>\n",
       "      <td>3.0</td>\n",
       "      <td>My old phone was the galaxy S10e. Very basic p...</td>\n",
       "      <td>It's okay.</td>\n",
       "      <td>2023-08-17</td>\n",
       "      <td>3.0</td>\n",
       "    </tr>\n",
       "  </tbody>\n",
       "</table>\n",
       "</div>"
      ],
      "text/plain": [
       "   Product_ID                                            product  \\\n",
       "0  B0BZ9XNBRB  Google Pixel 7a - Unlocked Android Cell Phone ...   \n",
       "1  B0BLP2Y34S  SAMSUNG Galaxy S23 Ultra Cell Phone, Factory U...   \n",
       "2  B0BSLRXF1H  SAMSUNG Galaxy A54 5G A Series Cell Phone, Fac...   \n",
       "\n",
       "   price_dollars  star_ratings  total_ratings  \\\n",
       "0         499.00           4.2            546   \n",
       "1        1179.99           4.7            370   \n",
       "2         349.99           4.4            196   \n",
       "\n",
       "                                                 url     category  \\\n",
       "0  https://www.amazon.com/product-reviews/B0BZ9XN...  Smartphones   \n",
       "1  https://www.amazon.com/product-reviews/B0BLP2Y...  Smartphones   \n",
       "2  https://www.amazon.com/product-reviews/B0BSLRX...  Smartphones   \n",
       "\n",
       "    Customer_1_ID  Customer_1_Star_Rating  \\\n",
       "0  R1B3EGMQP3U9HM                     5.0   \n",
       "1  R2LC7ZJVNFGV1I                     5.0   \n",
       "2  R1NBWDYCN898NM                     5.0   \n",
       "\n",
       "                                  Customer_1_Comment  \\\n",
       "0  Pixel 7a: Unleashes the Pixel Magic at an Affo...   \n",
       "1            Worlds better than anything from Apple.   \n",
       "2                                          Impressed   \n",
       "\n",
       "   Customer_1_buying_influence   Customer_2_ID  Customer_2_Star_Rating  \\\n",
       "0                         37.0   ROSGYBSL94XZ5                     4.0   \n",
       "1                          1.0  R1ZFOC0PC92CAR                     5.0   \n",
       "2                          3.0  R36WW3GRJEAPZ8                     4.0   \n",
       "\n",
       "                                  Customer_2_Comment  \\\n",
       "0                                  Poor man's iPhone   \n",
       "1  Amazing Phone also got an error \"Sim 1 Not All...   \n",
       "2                                  Long battery life   \n",
       "\n",
       "   Customer_2_buying_influence   Customer_3_ID  Customer_3_Star_Rating  \\\n",
       "0                          7.0  R2GJ7L8RJJR7FV                     4.0   \n",
       "1                          1.0   RNB2E4X75AW55                     5.0   \n",
       "2                         25.0  R3IE0NDNZZXBN9                     5.0   \n",
       "\n",
       "                                  Customer_3_Comment  \\\n",
       "0  Great overall, especially call screening, thou...   \n",
       "1                                           Love it!   \n",
       "2                                         Good phone   \n",
       "\n",
       "   Customer_3_buying_influence   Customer_4_ID  Customer_4_Star_Rating  \\\n",
       "0                         15.0  R1ARDK7GYTSU3X                     4.0   \n",
       "1                          0.0  R19Y94YPF7URU0                     5.0   \n",
       "2                          7.0  R1DCCD4MQU12LM                     5.0   \n",
       "\n",
       "                     Customer_4_Comment  Customer_4_buying_influence  \\\n",
       "0              Surprisingly nice phone.                          8.0   \n",
       "1                   The best cell phone                          5.0   \n",
       "2  Great Battery Life and Customization                         20.0   \n",
       "\n",
       "    Customer_5_ID  Customer_5_Star_Rating  \\\n",
       "0  R2M2XB8HL58NXX                     2.0   \n",
       "1  R2OD66BML50DDB                     5.0   \n",
       "2  R2OJ9WHPMX469I                     4.0   \n",
       "\n",
       "                                  Customer_5_Comment  \\\n",
       "0  Horrific battery life, be cautious before you buy   \n",
       "1                                  Best phone period   \n",
       "2                       If You Get SIM 1 Not allowed   \n",
       "\n",
       "   Customer_5_buying_influence Top_Positive_Review_Cust_ID  \\\n",
       "0                         82.0              R1B3EGMQP3U9HM   \n",
       "1                          3.0              R2LC7ZJVNFGV1I   \n",
       "2                          9.0              R1NBWDYCN898NM   \n",
       "\n",
       "  Top_Positive_Review_Cust_Name  Top_Positive_Review_Cust_Influenced  \\\n",
       "0                     Carnelian                                 37.0   \n",
       "1               Amazon Customer                                  1.0   \n",
       "2                        Smitty                                  3.0   \n",
       "\n",
       "                    Top_Positive_Review_Cust_Comment  \\\n",
       "0  In a world dominated by smartphones with hefty...   \n",
       "1  I've never have a phone so quick, smooth, easy...   \n",
       "2  This phone is amazing.  This unlocked phone wo...   \n",
       "\n",
       "              Top_Positive_Review_Cust_Comment_Title  \\\n",
       "0  Pixel 7a: Unleashes the Pixel Magic at an Affo...   \n",
       "1            Worlds better than anything from Apple.   \n",
       "2                                          Impressed   \n",
       "\n",
       "  Top_Positive_Review_Cust_Date  Top_Positive_Review_Cust_Star_Rating  \\\n",
       "0                    2023-06-15                                   5.0   \n",
       "1                    2023-09-21                                   5.0   \n",
       "2                    2023-09-26                                   5.0   \n",
       "\n",
       "  Critical_Review_Cust_ID Critical_Review_Cust_Name  \\\n",
       "0          R2M2XB8HL58NXX                    Camden   \n",
       "1           RNG0BCVBELY6Y                      dane   \n",
       "2          R1QBO18YMKGS6M             Shiane Monday   \n",
       "\n",
       "   Critical_Review_Cust_Influenced  \\\n",
       "0                             82.0   \n",
       "1                              5.0   \n",
       "2                              3.0   \n",
       "\n",
       "                        Critical_Review_Cust_Comment  \\\n",
       "0  I'm an android developer; I do a lot of resear...   \n",
       "1  bought this for my wife, the unboxing experien...   \n",
       "2  My old phone was the galaxy S10e. Very basic p...   \n",
       "\n",
       "                  Critical_Review_Cust_Comment_Title  \\\n",
       "0  Horrific battery life, be cautious before you buy   \n",
       "1                                  damaged packaging   \n",
       "2                                         It's okay.   \n",
       "\n",
       "  Critical_Review_Cust_Date  Critical_Review_Cust_Star_Rating  \n",
       "0                2023-06-30                               2.0  \n",
       "1                2023-03-07                               3.0  \n",
       "2                2023-08-17                               3.0  "
      ]
     },
     "execution_count": 2,
     "metadata": {},
     "output_type": "execute_result"
    }
   ],
   "source": [
    "# Loading dataset\n",
    "df = pd.read_csv('amazon_data.csv')\n",
    "pd.set_option('display.max_columns', None)\n",
    "df.head(3)"
   ]
  },
  {
   "cell_type": "markdown",
   "id": "7fb7facb-d96f-4a0d-bd67-39de52a53c78",
   "metadata": {},
   "source": [
    "### Data Assessment and Preprocessing"
   ]
  },
  {
   "cell_type": "code",
   "execution_count": 3,
   "id": "011e84a2-3fe4-43ad-8725-805ef315fb6a",
   "metadata": {
    "tags": []
   },
   "outputs": [
    {
     "name": "stdout",
     "output_type": "stream",
     "text": [
      "Number of rows: 1508\n",
      "Number of columns: 41\n"
     ]
    }
   ],
   "source": [
    "# Check data dimensionality\n",
    "rows, columns = df.shape\n",
    "print('Number of rows:', rows)\n",
    "print('Number of columns:', columns)"
   ]
  },
  {
   "cell_type": "code",
   "execution_count": 4,
   "id": "439f03d9-a963-40a4-8b3d-bf8880118f6e",
   "metadata": {
    "tags": []
   },
   "outputs": [
    {
     "name": "stdout",
     "output_type": "stream",
     "text": [
      "<class 'pandas.core.frame.DataFrame'>\n",
      "RangeIndex: 1508 entries, 0 to 1507\n",
      "Data columns (total 41 columns):\n",
      " #   Column                                  Non-Null Count  Dtype  \n",
      "---  ------                                  --------------  -----  \n",
      " 0   Product_ID                              1508 non-null   object \n",
      " 1   product                                 1508 non-null   object \n",
      " 2   price_dollars                           1508 non-null   float64\n",
      " 3   star_ratings                            1508 non-null   float64\n",
      " 4   total_ratings                           1508 non-null   int64  \n",
      " 5   url                                     1508 non-null   object \n",
      " 6   category                                1508 non-null   object \n",
      " 7   Customer_1_ID                           1508 non-null   object \n",
      " 8   Customer_1_Star_Rating                  1508 non-null   float64\n",
      " 9   Customer_1_Comment                      1508 non-null   object \n",
      " 10  Customer_1_buying_influence             1508 non-null   float64\n",
      " 11  Customer_2_ID                           1508 non-null   object \n",
      " 12  Customer_2_Star_Rating                  1453 non-null   float64\n",
      " 13  Customer_2_Comment                      1508 non-null   object \n",
      " 14  Customer_2_buying_influence             1453 non-null   float64\n",
      " 15  Customer_3_ID                           1508 non-null   object \n",
      " 16  Customer_3_Star_Rating                  1406 non-null   float64\n",
      " 17  Customer_3_Comment                      1508 non-null   object \n",
      " 18  Customer_3_buying_influence             1406 non-null   float64\n",
      " 19  Customer_4_ID                           1508 non-null   object \n",
      " 20  Customer_4_Star_Rating                  1373 non-null   float64\n",
      " 21  Customer_4_Comment                      1508 non-null   object \n",
      " 22  Customer_4_buying_influence             1373 non-null   float64\n",
      " 23  Customer_5_ID                           1508 non-null   object \n",
      " 24  Customer_5_Star_Rating                  1354 non-null   float64\n",
      " 25  Customer_5_Comment                      1508 non-null   object \n",
      " 26  Customer_5_buying_influence             1354 non-null   float64\n",
      " 27  Top_Positive_Review_Cust_ID             1508 non-null   object \n",
      " 28  Top_Positive_Review_Cust_Name           1508 non-null   object \n",
      " 29  Top_Positive_Review_Cust_Influenced     1508 non-null   float64\n",
      " 30  Top_Positive_Review_Cust_Comment        1507 non-null   object \n",
      " 31  Top_Positive_Review_Cust_Comment_Title  1508 non-null   object \n",
      " 32  Top_Positive_Review_Cust_Date           1508 non-null   object \n",
      " 33  Top_Positive_Review_Cust_Star_Rating    1508 non-null   float64\n",
      " 34  Critical_Review_Cust_ID                 1508 non-null   object \n",
      " 35  Critical_Review_Cust_Name               1508 non-null   object \n",
      " 36  Critical_Review_Cust_Influenced         1508 non-null   float64\n",
      " 37  Critical_Review_Cust_Comment            1507 non-null   object \n",
      " 38  Critical_Review_Cust_Comment_Title      1508 non-null   object \n",
      " 39  Critical_Review_Cust_Date               1508 non-null   object \n",
      " 40  Critical_Review_Cust_Star_Rating        1508 non-null   float64\n",
      "dtypes: float64(16), int64(1), object(24)\n",
      "memory usage: 483.2+ KB\n"
     ]
    }
   ],
   "source": [
    "# Display information about the DataFrame\n",
    "df.info()"
   ]
  },
  {
   "cell_type": "code",
   "execution_count": 5,
   "id": "a6e3c910-cd20-45fd-a140-caa769c19a44",
   "metadata": {
    "tags": []
   },
   "outputs": [
    {
     "data": {
      "text/plain": [
       "0"
      ]
     },
     "execution_count": 5,
     "metadata": {},
     "output_type": "execute_result"
    }
   ],
   "source": [
    "# Check for duplicates\n",
    "df.duplicated().sum()"
   ]
  },
  {
   "cell_type": "code",
   "execution_count": 6,
   "id": "325f8a8d-ef09-4de1-9741-d1107c42c7c5",
   "metadata": {
    "tags": []
   },
   "outputs": [
    {
     "data": {
      "text/plain": [
       "Customer_2_Star_Rating               55\n",
       "Customer_2_buying_influence          55\n",
       "Customer_3_Star_Rating              102\n",
       "Customer_3_buying_influence         102\n",
       "Customer_4_Star_Rating              135\n",
       "Customer_4_buying_influence         135\n",
       "Customer_5_Star_Rating              154\n",
       "Customer_5_buying_influence         154\n",
       "Top_Positive_Review_Cust_Comment      1\n",
       "Critical_Review_Cust_Comment          1\n",
       "dtype: int64"
      ]
     },
     "execution_count": 6,
     "metadata": {},
     "output_type": "execute_result"
    }
   ],
   "source": [
    "# Check for columns with null values\n",
    "null_values = df.isnull().sum()\n",
    "null_values[null_values > 0]"
   ]
  },
  {
   "cell_type": "code",
   "execution_count": 7,
   "id": "f83eebaf-df87-4fa1-a913-c412b53280e5",
   "metadata": {
    "tags": []
   },
   "outputs": [],
   "source": [
    "# Filling null values in numerical columns\n",
    "numerical_col = ['Customer_2_Star_Rating', 'Customer_2_buying_influence', 'Customer_3_Star_Rating', 'Customer_3_buying_influence',\n",
    "               'Customer_4_Star_Rating', 'Customer_4_buying_influence', 'Customer_5_Star_Rating', 'Customer_5_buying_influence']\n",
    "\n",
    "# Loop to impute the median value in place of null values\n",
    "for column in numerical_col:\n",
    "    median_value = df[column].median()\n",
    "    df[column].fillna(median_value, inplace=True)       "
   ]
  },
  {
   "cell_type": "code",
   "execution_count": 8,
   "id": "60baba03-6fd5-4f59-8dd8-879e6291d014",
   "metadata": {
    "tags": []
   },
   "outputs": [],
   "source": [
    "# Categorical columns with null values\n",
    "cat_null = ['Top_Positive_Review_Cust_Comment', 'Critical_Review_Cust_Comment']\n",
    "\n",
    "# A loop to drop rows with null values in each categorical column\n",
    "for column in cat_null:\n",
    "    df.dropna(subset=[column], inplace=True)"
   ]
  },
  {
   "cell_type": "code",
   "execution_count": 9,
   "id": "de857232-6906-4ad4-9318-5c4a41a0a63e",
   "metadata": {
    "tags": []
   },
   "outputs": [
    {
     "data": {
      "text/plain": [
       "234"
      ]
     },
     "execution_count": 9,
     "metadata": {},
     "output_type": "execute_result"
    }
   ],
   "source": [
    "# Count rows where 'Critical_Review_Cust_Date' equals '1677-09-21'\n",
    "(df['Critical_Review_Cust_Date'] == '1677-09-21').sum()"
   ]
  },
  {
   "cell_type": "code",
   "execution_count": 10,
   "id": "af670bfa-4f24-4e28-8e17-9e8acce3fe92",
   "metadata": {
    "tags": []
   },
   "outputs": [],
   "source": [
    "# Filter out rows with the date '1677-09-21' in the 'Critical_Review_Cust_Date' column\n",
    "df = df[df['Critical_Review_Cust_Date'] != '1677-09-21']"
   ]
  },
  {
   "cell_type": "code",
   "execution_count": 11,
   "id": "afcdd769-2d17-4f99-9595-0d216249cc4c",
   "metadata": {
    "tags": []
   },
   "outputs": [],
   "source": [
    "# List of date columns to be parsed\n",
    "date_columns = ['Top_Positive_Review_Cust_Date', 'Critical_Review_Cust_Date']\n",
    "\n",
    "# Loop through each date column and parse it to datetime\n",
    "for date in date_columns:\n",
    "    df[date] = pd.to_datetime(df[date])"
   ]
  },
  {
   "cell_type": "code",
   "execution_count": 12,
   "id": "137403d8-f452-441e-b2e3-f8693a1b61c0",
   "metadata": {
    "tags": []
   },
   "outputs": [
    {
     "data": {
      "text/html": [
       "<div>\n",
       "<style scoped>\n",
       "    .dataframe tbody tr th:only-of-type {\n",
       "        vertical-align: middle;\n",
       "    }\n",
       "\n",
       "    .dataframe tbody tr th {\n",
       "        vertical-align: top;\n",
       "    }\n",
       "\n",
       "    .dataframe thead th {\n",
       "        text-align: right;\n",
       "    }\n",
       "</style>\n",
       "<table border=\"1\" class=\"dataframe\">\n",
       "  <thead>\n",
       "    <tr style=\"text-align: right;\">\n",
       "      <th></th>\n",
       "      <th>Product_ID</th>\n",
       "      <th>product</th>\n",
       "      <th>price_dollars</th>\n",
       "      <th>star_ratings</th>\n",
       "      <th>total_ratings</th>\n",
       "      <th>url</th>\n",
       "      <th>category</th>\n",
       "      <th>Customer_1_ID</th>\n",
       "      <th>Customer_1_Star_Rating</th>\n",
       "      <th>Customer_1_Comment</th>\n",
       "      <th>Customer_1_buying_influence</th>\n",
       "      <th>Customer_2_ID</th>\n",
       "      <th>Customer_2_Star_Rating</th>\n",
       "      <th>Customer_2_Comment</th>\n",
       "      <th>Customer_2_buying_influence</th>\n",
       "      <th>Customer_3_ID</th>\n",
       "      <th>Customer_3_Star_Rating</th>\n",
       "      <th>Customer_3_Comment</th>\n",
       "      <th>Customer_3_buying_influence</th>\n",
       "      <th>Customer_4_ID</th>\n",
       "      <th>Customer_4_Star_Rating</th>\n",
       "      <th>Customer_4_Comment</th>\n",
       "      <th>Customer_4_buying_influence</th>\n",
       "      <th>Customer_5_ID</th>\n",
       "      <th>Customer_5_Star_Rating</th>\n",
       "      <th>Customer_5_Comment</th>\n",
       "      <th>Customer_5_buying_influence</th>\n",
       "      <th>Top_Positive_Review_Cust_ID</th>\n",
       "      <th>Top_Positive_Review_Cust_Name</th>\n",
       "      <th>Top_Positive_Review_Cust_Influenced</th>\n",
       "      <th>Top_Positive_Review_Cust_Comment</th>\n",
       "      <th>Top_Positive_Review_Cust_Comment_Title</th>\n",
       "      <th>Top_Positive_Review_Cust_Date</th>\n",
       "      <th>Top_Positive_Review_Cust_Star_Rating</th>\n",
       "      <th>Critical_Review_Cust_ID</th>\n",
       "      <th>Critical_Review_Cust_Name</th>\n",
       "      <th>Critical_Review_Cust_Influenced</th>\n",
       "      <th>Critical_Review_Cust_Comment</th>\n",
       "      <th>Critical_Review_Cust_Comment_Title</th>\n",
       "      <th>Critical_Review_Cust_Date</th>\n",
       "      <th>Critical_Review_Cust_Star_Rating</th>\n",
       "    </tr>\n",
       "  </thead>\n",
       "  <tbody>\n",
       "    <tr>\n",
       "      <th>0</th>\n",
       "      <td>B0BZ9XNBRB</td>\n",
       "      <td>Google Pixel 7a - Unlocked Android Cell Phone ...</td>\n",
       "      <td>499.00</td>\n",
       "      <td>4.2</td>\n",
       "      <td>546</td>\n",
       "      <td>https://www.amazon.com/product-reviews/B0BZ9XN...</td>\n",
       "      <td>Smartphones</td>\n",
       "      <td>R1B3EGMQP3U9HM</td>\n",
       "      <td>5.0</td>\n",
       "      <td>Pixel 7a: Unleashes the Pixel Magic at an Affo...</td>\n",
       "      <td>37.0</td>\n",
       "      <td>ROSGYBSL94XZ5</td>\n",
       "      <td>4.0</td>\n",
       "      <td>Poor man's iPhone</td>\n",
       "      <td>7.0</td>\n",
       "      <td>R2GJ7L8RJJR7FV</td>\n",
       "      <td>4.0</td>\n",
       "      <td>Great overall, especially call screening, thou...</td>\n",
       "      <td>15.0</td>\n",
       "      <td>R1ARDK7GYTSU3X</td>\n",
       "      <td>4.0</td>\n",
       "      <td>Surprisingly nice phone.</td>\n",
       "      <td>8.0</td>\n",
       "      <td>R2M2XB8HL58NXX</td>\n",
       "      <td>2.0</td>\n",
       "      <td>Horrific battery life, be cautious before you buy</td>\n",
       "      <td>82.0</td>\n",
       "      <td>R1B3EGMQP3U9HM</td>\n",
       "      <td>Carnelian</td>\n",
       "      <td>37.0</td>\n",
       "      <td>In a world dominated by smartphones with hefty...</td>\n",
       "      <td>Pixel 7a: Unleashes the Pixel Magic at an Affo...</td>\n",
       "      <td>2023-06-15</td>\n",
       "      <td>5.0</td>\n",
       "      <td>R2M2XB8HL58NXX</td>\n",
       "      <td>Camden</td>\n",
       "      <td>82.0</td>\n",
       "      <td>I'm an android developer; I do a lot of resear...</td>\n",
       "      <td>Horrific battery life, be cautious before you buy</td>\n",
       "      <td>2023-06-30</td>\n",
       "      <td>2.0</td>\n",
       "    </tr>\n",
       "    <tr>\n",
       "      <th>1</th>\n",
       "      <td>B0BLP2Y34S</td>\n",
       "      <td>SAMSUNG Galaxy S23 Ultra Cell Phone, Factory U...</td>\n",
       "      <td>1179.99</td>\n",
       "      <td>4.7</td>\n",
       "      <td>370</td>\n",
       "      <td>https://www.amazon.com/product-reviews/B0BLP2Y...</td>\n",
       "      <td>Smartphones</td>\n",
       "      <td>R2LC7ZJVNFGV1I</td>\n",
       "      <td>5.0</td>\n",
       "      <td>Worlds better than anything from Apple.</td>\n",
       "      <td>1.0</td>\n",
       "      <td>R1ZFOC0PC92CAR</td>\n",
       "      <td>5.0</td>\n",
       "      <td>Amazing Phone also got an error \"Sim 1 Not All...</td>\n",
       "      <td>1.0</td>\n",
       "      <td>RNB2E4X75AW55</td>\n",
       "      <td>5.0</td>\n",
       "      <td>Love it!</td>\n",
       "      <td>0.0</td>\n",
       "      <td>R19Y94YPF7URU0</td>\n",
       "      <td>5.0</td>\n",
       "      <td>The best cell phone</td>\n",
       "      <td>5.0</td>\n",
       "      <td>R2OD66BML50DDB</td>\n",
       "      <td>5.0</td>\n",
       "      <td>Best phone period</td>\n",
       "      <td>3.0</td>\n",
       "      <td>R2LC7ZJVNFGV1I</td>\n",
       "      <td>Amazon Customer</td>\n",
       "      <td>1.0</td>\n",
       "      <td>I've never have a phone so quick, smooth, easy...</td>\n",
       "      <td>Worlds better than anything from Apple.</td>\n",
       "      <td>2023-09-21</td>\n",
       "      <td>5.0</td>\n",
       "      <td>RNG0BCVBELY6Y</td>\n",
       "      <td>dane</td>\n",
       "      <td>5.0</td>\n",
       "      <td>bought this for my wife, the unboxing experien...</td>\n",
       "      <td>damaged packaging</td>\n",
       "      <td>2023-03-07</td>\n",
       "      <td>3.0</td>\n",
       "    </tr>\n",
       "  </tbody>\n",
       "</table>\n",
       "</div>"
      ],
      "text/plain": [
       "   Product_ID                                            product  \\\n",
       "0  B0BZ9XNBRB  Google Pixel 7a - Unlocked Android Cell Phone ...   \n",
       "1  B0BLP2Y34S  SAMSUNG Galaxy S23 Ultra Cell Phone, Factory U...   \n",
       "\n",
       "   price_dollars  star_ratings  total_ratings  \\\n",
       "0         499.00           4.2            546   \n",
       "1        1179.99           4.7            370   \n",
       "\n",
       "                                                 url     category  \\\n",
       "0  https://www.amazon.com/product-reviews/B0BZ9XN...  Smartphones   \n",
       "1  https://www.amazon.com/product-reviews/B0BLP2Y...  Smartphones   \n",
       "\n",
       "    Customer_1_ID  Customer_1_Star_Rating  \\\n",
       "0  R1B3EGMQP3U9HM                     5.0   \n",
       "1  R2LC7ZJVNFGV1I                     5.0   \n",
       "\n",
       "                                  Customer_1_Comment  \\\n",
       "0  Pixel 7a: Unleashes the Pixel Magic at an Affo...   \n",
       "1            Worlds better than anything from Apple.   \n",
       "\n",
       "   Customer_1_buying_influence   Customer_2_ID  Customer_2_Star_Rating  \\\n",
       "0                         37.0   ROSGYBSL94XZ5                     4.0   \n",
       "1                          1.0  R1ZFOC0PC92CAR                     5.0   \n",
       "\n",
       "                                  Customer_2_Comment  \\\n",
       "0                                  Poor man's iPhone   \n",
       "1  Amazing Phone also got an error \"Sim 1 Not All...   \n",
       "\n",
       "   Customer_2_buying_influence   Customer_3_ID  Customer_3_Star_Rating  \\\n",
       "0                          7.0  R2GJ7L8RJJR7FV                     4.0   \n",
       "1                          1.0   RNB2E4X75AW55                     5.0   \n",
       "\n",
       "                                  Customer_3_Comment  \\\n",
       "0  Great overall, especially call screening, thou...   \n",
       "1                                           Love it!   \n",
       "\n",
       "   Customer_3_buying_influence   Customer_4_ID  Customer_4_Star_Rating  \\\n",
       "0                         15.0  R1ARDK7GYTSU3X                     4.0   \n",
       "1                          0.0  R19Y94YPF7URU0                     5.0   \n",
       "\n",
       "         Customer_4_Comment  Customer_4_buying_influence   Customer_5_ID  \\\n",
       "0  Surprisingly nice phone.                          8.0  R2M2XB8HL58NXX   \n",
       "1       The best cell phone                          5.0  R2OD66BML50DDB   \n",
       "\n",
       "   Customer_5_Star_Rating                                 Customer_5_Comment  \\\n",
       "0                     2.0  Horrific battery life, be cautious before you buy   \n",
       "1                     5.0                                  Best phone period   \n",
       "\n",
       "   Customer_5_buying_influence Top_Positive_Review_Cust_ID  \\\n",
       "0                         82.0              R1B3EGMQP3U9HM   \n",
       "1                          3.0              R2LC7ZJVNFGV1I   \n",
       "\n",
       "  Top_Positive_Review_Cust_Name  Top_Positive_Review_Cust_Influenced  \\\n",
       "0                     Carnelian                                 37.0   \n",
       "1               Amazon Customer                                  1.0   \n",
       "\n",
       "                    Top_Positive_Review_Cust_Comment  \\\n",
       "0  In a world dominated by smartphones with hefty...   \n",
       "1  I've never have a phone so quick, smooth, easy...   \n",
       "\n",
       "              Top_Positive_Review_Cust_Comment_Title  \\\n",
       "0  Pixel 7a: Unleashes the Pixel Magic at an Affo...   \n",
       "1            Worlds better than anything from Apple.   \n",
       "\n",
       "  Top_Positive_Review_Cust_Date  Top_Positive_Review_Cust_Star_Rating  \\\n",
       "0                    2023-06-15                                   5.0   \n",
       "1                    2023-09-21                                   5.0   \n",
       "\n",
       "  Critical_Review_Cust_ID Critical_Review_Cust_Name  \\\n",
       "0          R2M2XB8HL58NXX                    Camden   \n",
       "1           RNG0BCVBELY6Y                      dane   \n",
       "\n",
       "   Critical_Review_Cust_Influenced  \\\n",
       "0                             82.0   \n",
       "1                              5.0   \n",
       "\n",
       "                        Critical_Review_Cust_Comment  \\\n",
       "0  I'm an android developer; I do a lot of resear...   \n",
       "1  bought this for my wife, the unboxing experien...   \n",
       "\n",
       "                  Critical_Review_Cust_Comment_Title  \\\n",
       "0  Horrific battery life, be cautious before you buy   \n",
       "1                                  damaged packaging   \n",
       "\n",
       "  Critical_Review_Cust_Date  Critical_Review_Cust_Star_Rating  \n",
       "0                2023-06-30                               2.0  \n",
       "1                2023-03-07                               3.0  "
      ]
     },
     "execution_count": 12,
     "metadata": {},
     "output_type": "execute_result"
    }
   ],
   "source": [
    "# Create a copy of the DataFrame for exploratory data analysis\n",
    "df_eda = df.copy()\n",
    "\n",
    "# Display the first 2 rows of the copied DataFrame\n",
    "df_eda.head(2)"
   ]
  },
  {
   "cell_type": "code",
   "execution_count": 13,
   "id": "a41e1331-8de8-4d78-ae3d-fecc877b7d1b",
   "metadata": {
    "tags": []
   },
   "outputs": [],
   "source": [
    "# List of columns to drop before EDA\n",
    "columns_drop = ['Product_ID', 'url', 'Customer_1_ID', 'Customer_2_ID', 'Customer_3_ID', 'Customer_4_ID', 'Customer_5_ID', \n",
    "                'Top_Positive_Review_Cust_ID', 'Critical_Review_Cust_ID']\n",
    "\n",
    "# Looping through dataframe to drop above columns\n",
    "for col in columns_drop:\n",
    "    df_eda.drop(col, axis=1, inplace=True)"
   ]
  },
  {
   "cell_type": "code",
   "execution_count": 14,
   "id": "178e8080-15cf-418d-bee2-f4c2f1aed88f",
   "metadata": {
    "tags": []
   },
   "outputs": [],
   "source": [
    "# Renaming columns for better readability\n",
    "df_eda.rename(columns={'price_dollars': 'price', 'Customer_1_Star_Rating': 'Rating_1', 'Customer_1_Comment': 'Comment_1',\n",
    "                      'Customer_1_buying_influence': 'Influence_1', 'Customer_2_Star_Rating': 'Rating_2', 'Customer_2_Comment': 'Comment_2',\n",
    "                      'Customer_2_buying_influence': 'Influence_2', 'Customer_3_Star_Rating': 'Rating_3', 'Customer_3_Comment': 'Comment_3',\n",
    "                       'Customer_3_buying_influence': 'Influence_3', 'Customer_4_Star_Rating': 'Rating_4', 'Customer_4_Comment': 'Comment_4',\n",
    "                      'Customer_4_buying_influence': 'Influence_4', 'Customer_5_Star_Rating': 'Rating_5', 'Customer_5_Comment': 'Comment_5',\n",
    "                      'Customer_5_buying_influence': 'Influence_5', 'Top_Positive_Review_Cust_Name': 'TPR_Cust_Name',\n",
    "                      'Top_Positive_Review_Cust_Influenced': 'TPR_Influence', 'Top_Positive_Review_Cust_Comment' : 'TPR_Comment',\n",
    "                      'Top_Positive_Review_Cust_Comment_Title' : 'TPR_Title', 'Top_Positive_Review_Cust_Date' : 'TPR_Date',\n",
    "                      'Top_Positive_Review_Cust_Star_Rating' : 'TPR_Rating', 'Critical_Review_Cust_Name': 'CR_Cust_Name',\n",
    "                      'Critical_Review_Cust_Influenced': 'CR_Influence', 'Critical_Review_Cust_Comment' : 'CR_Comment',\n",
    "                      'Critical_Review_Cust_Comment_Title' : 'CR_Title', 'Critical_Review_Cust_Date' : 'CR_Date',\n",
    "                      'Critical_Review_Cust_Star_Rating' : 'CR_Rating'}, inplace=True)"
   ]
  },
  {
   "cell_type": "markdown",
   "id": "16b9ff9a-f1b9-44bd-8b9b-ee7264b98706",
   "metadata": {
    "tags": []
   },
   "source": [
    "## Exploratory Data Analysis (EDA)"
   ]
  },
  {
   "cell_type": "code",
   "execution_count": 15,
   "id": "f95ba2b2-819b-4180-9256-37102a5cec0c",
   "metadata": {
    "tags": []
   },
   "outputs": [
    {
     "data": {
      "text/html": [
       "<div>\n",
       "<style scoped>\n",
       "    .dataframe tbody tr th:only-of-type {\n",
       "        vertical-align: middle;\n",
       "    }\n",
       "\n",
       "    .dataframe tbody tr th {\n",
       "        vertical-align: top;\n",
       "    }\n",
       "\n",
       "    .dataframe thead th {\n",
       "        text-align: right;\n",
       "    }\n",
       "</style>\n",
       "<table border=\"1\" class=\"dataframe\">\n",
       "  <thead>\n",
       "    <tr style=\"text-align: right;\">\n",
       "      <th></th>\n",
       "      <th>product</th>\n",
       "      <th>price</th>\n",
       "      <th>star_ratings</th>\n",
       "      <th>total_ratings</th>\n",
       "      <th>category</th>\n",
       "      <th>Rating_1</th>\n",
       "      <th>Comment_1</th>\n",
       "      <th>Influence_1</th>\n",
       "      <th>Rating_2</th>\n",
       "      <th>Comment_2</th>\n",
       "      <th>Influence_2</th>\n",
       "      <th>Rating_3</th>\n",
       "      <th>Comment_3</th>\n",
       "      <th>Influence_3</th>\n",
       "      <th>Rating_4</th>\n",
       "      <th>Comment_4</th>\n",
       "      <th>Influence_4</th>\n",
       "      <th>Rating_5</th>\n",
       "      <th>Comment_5</th>\n",
       "      <th>Influence_5</th>\n",
       "      <th>TPR_Cust_Name</th>\n",
       "      <th>TPR_Influence</th>\n",
       "      <th>TPR_Comment</th>\n",
       "      <th>TPR_Title</th>\n",
       "      <th>TPR_Date</th>\n",
       "      <th>TPR_Rating</th>\n",
       "      <th>CR_Cust_Name</th>\n",
       "      <th>CR_Influence</th>\n",
       "      <th>CR_Comment</th>\n",
       "      <th>CR_Title</th>\n",
       "      <th>CR_Date</th>\n",
       "      <th>CR_Rating</th>\n",
       "    </tr>\n",
       "  </thead>\n",
       "  <tbody>\n",
       "    <tr>\n",
       "      <th>0</th>\n",
       "      <td>Google Pixel 7a - Unlocked Android Cell Phone ...</td>\n",
       "      <td>499.00</td>\n",
       "      <td>4.2</td>\n",
       "      <td>546</td>\n",
       "      <td>Smartphones</td>\n",
       "      <td>5.0</td>\n",
       "      <td>Pixel 7a: Unleashes the Pixel Magic at an Affo...</td>\n",
       "      <td>37.0</td>\n",
       "      <td>4.0</td>\n",
       "      <td>Poor man's iPhone</td>\n",
       "      <td>7.0</td>\n",
       "      <td>4.0</td>\n",
       "      <td>Great overall, especially call screening, thou...</td>\n",
       "      <td>15.0</td>\n",
       "      <td>4.0</td>\n",
       "      <td>Surprisingly nice phone.</td>\n",
       "      <td>8.0</td>\n",
       "      <td>2.0</td>\n",
       "      <td>Horrific battery life, be cautious before you buy</td>\n",
       "      <td>82.0</td>\n",
       "      <td>Carnelian</td>\n",
       "      <td>37.0</td>\n",
       "      <td>In a world dominated by smartphones with hefty...</td>\n",
       "      <td>Pixel 7a: Unleashes the Pixel Magic at an Affo...</td>\n",
       "      <td>2023-06-15</td>\n",
       "      <td>5.0</td>\n",
       "      <td>Camden</td>\n",
       "      <td>82.0</td>\n",
       "      <td>I'm an android developer; I do a lot of resear...</td>\n",
       "      <td>Horrific battery life, be cautious before you buy</td>\n",
       "      <td>2023-06-30</td>\n",
       "      <td>2.0</td>\n",
       "    </tr>\n",
       "    <tr>\n",
       "      <th>1</th>\n",
       "      <td>SAMSUNG Galaxy S23 Ultra Cell Phone, Factory U...</td>\n",
       "      <td>1179.99</td>\n",
       "      <td>4.7</td>\n",
       "      <td>370</td>\n",
       "      <td>Smartphones</td>\n",
       "      <td>5.0</td>\n",
       "      <td>Worlds better than anything from Apple.</td>\n",
       "      <td>1.0</td>\n",
       "      <td>5.0</td>\n",
       "      <td>Amazing Phone also got an error \"Sim 1 Not All...</td>\n",
       "      <td>1.0</td>\n",
       "      <td>5.0</td>\n",
       "      <td>Love it!</td>\n",
       "      <td>0.0</td>\n",
       "      <td>5.0</td>\n",
       "      <td>The best cell phone</td>\n",
       "      <td>5.0</td>\n",
       "      <td>5.0</td>\n",
       "      <td>Best phone period</td>\n",
       "      <td>3.0</td>\n",
       "      <td>Amazon Customer</td>\n",
       "      <td>1.0</td>\n",
       "      <td>I've never have a phone so quick, smooth, easy...</td>\n",
       "      <td>Worlds better than anything from Apple.</td>\n",
       "      <td>2023-09-21</td>\n",
       "      <td>5.0</td>\n",
       "      <td>dane</td>\n",
       "      <td>5.0</td>\n",
       "      <td>bought this for my wife, the unboxing experien...</td>\n",
       "      <td>damaged packaging</td>\n",
       "      <td>2023-03-07</td>\n",
       "      <td>3.0</td>\n",
       "    </tr>\n",
       "    <tr>\n",
       "      <th>2</th>\n",
       "      <td>SAMSUNG Galaxy A54 5G A Series Cell Phone, Fac...</td>\n",
       "      <td>349.99</td>\n",
       "      <td>4.4</td>\n",
       "      <td>196</td>\n",
       "      <td>Smartphones</td>\n",
       "      <td>5.0</td>\n",
       "      <td>Impressed</td>\n",
       "      <td>3.0</td>\n",
       "      <td>4.0</td>\n",
       "      <td>Long battery life</td>\n",
       "      <td>25.0</td>\n",
       "      <td>5.0</td>\n",
       "      <td>Good phone</td>\n",
       "      <td>7.0</td>\n",
       "      <td>5.0</td>\n",
       "      <td>Great Battery Life and Customization</td>\n",
       "      <td>20.0</td>\n",
       "      <td>4.0</td>\n",
       "      <td>If You Get SIM 1 Not allowed</td>\n",
       "      <td>9.0</td>\n",
       "      <td>Smitty</td>\n",
       "      <td>3.0</td>\n",
       "      <td>This phone is amazing.  This unlocked phone wo...</td>\n",
       "      <td>Impressed</td>\n",
       "      <td>2023-09-26</td>\n",
       "      <td>5.0</td>\n",
       "      <td>Shiane Monday</td>\n",
       "      <td>3.0</td>\n",
       "      <td>My old phone was the galaxy S10e. Very basic p...</td>\n",
       "      <td>It's okay.</td>\n",
       "      <td>2023-08-17</td>\n",
       "      <td>3.0</td>\n",
       "    </tr>\n",
       "  </tbody>\n",
       "</table>\n",
       "</div>"
      ],
      "text/plain": [
       "                                             product    price  star_ratings  \\\n",
       "0  Google Pixel 7a - Unlocked Android Cell Phone ...   499.00           4.2   \n",
       "1  SAMSUNG Galaxy S23 Ultra Cell Phone, Factory U...  1179.99           4.7   \n",
       "2  SAMSUNG Galaxy A54 5G A Series Cell Phone, Fac...   349.99           4.4   \n",
       "\n",
       "   total_ratings     category  Rating_1  \\\n",
       "0            546  Smartphones       5.0   \n",
       "1            370  Smartphones       5.0   \n",
       "2            196  Smartphones       5.0   \n",
       "\n",
       "                                           Comment_1  Influence_1  Rating_2  \\\n",
       "0  Pixel 7a: Unleashes the Pixel Magic at an Affo...         37.0       4.0   \n",
       "1            Worlds better than anything from Apple.          1.0       5.0   \n",
       "2                                          Impressed          3.0       4.0   \n",
       "\n",
       "                                           Comment_2  Influence_2  Rating_3  \\\n",
       "0                                  Poor man's iPhone          7.0       4.0   \n",
       "1  Amazing Phone also got an error \"Sim 1 Not All...          1.0       5.0   \n",
       "2                                  Long battery life         25.0       5.0   \n",
       "\n",
       "                                           Comment_3  Influence_3  Rating_4  \\\n",
       "0  Great overall, especially call screening, thou...         15.0       4.0   \n",
       "1                                           Love it!          0.0       5.0   \n",
       "2                                         Good phone          7.0       5.0   \n",
       "\n",
       "                              Comment_4  Influence_4  Rating_5  \\\n",
       "0              Surprisingly nice phone.          8.0       2.0   \n",
       "1                   The best cell phone          5.0       5.0   \n",
       "2  Great Battery Life and Customization         20.0       4.0   \n",
       "\n",
       "                                           Comment_5  Influence_5  \\\n",
       "0  Horrific battery life, be cautious before you buy         82.0   \n",
       "1                                  Best phone period          3.0   \n",
       "2                       If You Get SIM 1 Not allowed          9.0   \n",
       "\n",
       "     TPR_Cust_Name  TPR_Influence  \\\n",
       "0        Carnelian           37.0   \n",
       "1  Amazon Customer            1.0   \n",
       "2           Smitty            3.0   \n",
       "\n",
       "                                         TPR_Comment  \\\n",
       "0  In a world dominated by smartphones with hefty...   \n",
       "1  I've never have a phone so quick, smooth, easy...   \n",
       "2  This phone is amazing.  This unlocked phone wo...   \n",
       "\n",
       "                                           TPR_Title   TPR_Date  TPR_Rating  \\\n",
       "0  Pixel 7a: Unleashes the Pixel Magic at an Affo... 2023-06-15         5.0   \n",
       "1            Worlds better than anything from Apple. 2023-09-21         5.0   \n",
       "2                                          Impressed 2023-09-26         5.0   \n",
       "\n",
       "    CR_Cust_Name  CR_Influence  \\\n",
       "0         Camden          82.0   \n",
       "1           dane           5.0   \n",
       "2  Shiane Monday           3.0   \n",
       "\n",
       "                                          CR_Comment  \\\n",
       "0  I'm an android developer; I do a lot of resear...   \n",
       "1  bought this for my wife, the unboxing experien...   \n",
       "2  My old phone was the galaxy S10e. Very basic p...   \n",
       "\n",
       "                                            CR_Title    CR_Date  CR_Rating  \n",
       "0  Horrific battery life, be cautious before you buy 2023-06-30        2.0  \n",
       "1                                  damaged packaging 2023-03-07        3.0  \n",
       "2                                         It's okay. 2023-08-17        3.0  "
      ]
     },
     "execution_count": 15,
     "metadata": {},
     "output_type": "execute_result"
    }
   ],
   "source": [
    "# Display the first 3 rows of the DataFrame df_eda\n",
    "df_eda.head(3)"
   ]
  },
  {
   "cell_type": "code",
   "execution_count": 16,
   "id": "3309b361-e979-4b0a-b5c9-3c6fd366f37f",
   "metadata": {
    "tags": []
   },
   "outputs": [
    {
     "data": {
      "text/plain": [
       "'Google Pixel 7a - Unlocked Android Cell Phone - Smartphone with Wide Angle Lens and 24-Hour Battery - 128 GB  2013 Charcoal'"
      ]
     },
     "execution_count": 16,
     "metadata": {},
     "output_type": "execute_result"
    }
   ],
   "source": [
    "df_eda.loc[0, 'product']"
   ]
  },
  {
   "cell_type": "code",
   "execution_count": 17,
   "id": "f6cd60c4-55b2-4261-9290-3ea54e50b850",
   "metadata": {
    "tags": []
   },
   "outputs": [
    {
     "data": {
      "text/plain": [
       "<Axes: xlabel='price'>"
      ]
     },
     "execution_count": 17,
     "metadata": {},
     "output_type": "execute_result"
    },
    {
     "data": {
      "image/png": "[encoded data removed]",
      "text/plain": [
       "<Figure size 1200x400 with 1 Axes>"
      ]
     },
     "metadata": {},
     "output_type": "display_data"
    }
   ],
   "source": [
    "# Visualizing the distribution of price\n",
    "plt.figure(figsize=(12,4))\n",
    "sns.boxplot(x=df_eda['price'])"
   ]
  },
  {
   "cell_type": "code",
   "execution_count": 18,
   "id": "5003e351-4cab-4555-92b6-11a5f6bd3ef8",
   "metadata": {
    "tags": []
   },
   "outputs": [
    {
     "data": {
      "text/plain": [
       "<Axes: xlabel='category', ylabel='count'>"
      ]
     },
     "execution_count": 18,
     "metadata": {},
     "output_type": "execute_result"
    },
    {
     "data": {
      "image/png": "[encoded data removed]",
      "text/plain": [
       "<Figure size 1200x400 with 1 Axes>"
      ]
     },
     "metadata": {},
     "output_type": "display_data"
    }
   ],
   "source": [
    "# Customer purchase across categories\n",
    "plt.figure(figsize=(12,4))\n",
    "sns.countplot(data=df_eda, x='category')"
   ]
  },
  {
   "cell_type": "code",
   "execution_count": 19,
   "id": "cfa131ab-0262-4428-912b-abe6cde7fc72",
   "metadata": {
    "tags": []
   },
   "outputs": [
    {
     "data": {
      "text/plain": [
       "<Axes: xlabel='star_ratings'>"
      ]
     },
     "execution_count": 19,
     "metadata": {},
     "output_type": "execute_result"
    },
    {
     "data": {
      "image/png": "[encoded data removed]",
      "text/plain": [
       "<Figure size 1200x400 with 1 Axes>"
      ]
     },
     "metadata": {},
     "output_type": "display_data"
    }
   ],
   "source": [
    "# Star rating distribution\n",
    "plt.figure(figsize=(12,4))\n",
    "sns.boxplot(x=df_eda['star_ratings'])"
   ]
  },
  {
   "cell_type": "code",
   "execution_count": 20,
   "id": "fdf8d3b1-a697-4b08-bd6e-c4f4ebe9786b",
   "metadata": {
    "tags": []
   },
   "outputs": [
    {
     "data": {
      "text/plain": [
       "<Axes: xlabel='category', ylabel='star_ratings'>"
      ]
     },
     "execution_count": 20,
     "metadata": {},
     "output_type": "execute_result"
    },
    {
     "data": {
      "image/png": "[encoded data removed]",
      "text/plain": [
       "<Figure size 640x480 with 1 Axes>"
      ]
     },
     "metadata": {},
     "output_type": "display_data"
    }
   ],
   "source": [
    "sns.barplot(data=df_eda, x='category', y='star_ratings')"
   ]
  },
  {
   "cell_type": "code",
   "execution_count": null,
   "id": "04f71c09-90cb-40a7-801c-47da50a27752",
   "metadata": {},
   "outputs": [],
   "source": []
  }
 ],
 "metadata": {
  "kernelspec": {
   "display_name": "Python 3 (ipykernel)",
   "language": "python",
   "name": "python3"
  },
  "language_info": {
   "codemirror_mode": {
    "name": "ipython",
    "version": 3
   },
   "file_extension": ".py",
   "mimetype": "text/x-python",
   "name": "python",
   "nbconvert_exporter": "python",
   "pygments_lexer": "ipython3",
   "version": "3.11.4"
  }
 },
 "nbformat": 4,
 "nbformat_minor": 5
}
