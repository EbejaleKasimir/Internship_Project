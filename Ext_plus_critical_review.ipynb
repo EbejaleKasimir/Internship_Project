{
 "cells": [
  {
   "cell_type": "code",
   "execution_count": 11,
   "metadata": {},
   "outputs": [
    {
     "name": "stderr",
     "output_type": "stream",
     "text": [
      "INFO:WDM:====== WebDriver manager ======\n",
      "INFO:WDM:Get LATEST edgedriver version for Edge 117.0.2045\n",
      "INFO:WDM:Get LATEST edgedriver version for Edge 117.0.2045\n",
      "INFO:WDM:There is no [win64] edgedriver \"117.0.2045.60\" for browser edge \"117.0.2045\" in cache\n",
      "INFO:WDM:Get LATEST edgedriver version for Edge 117.0.2045\n",
      "INFO:WDM:About to download new driver from https://msedgedriver.azureedge.net/117.0.2045.60/edgedriver_win64.zip\n",
      "INFO:WDM:Driver downloading response is 200\n",
      "INFO:WDM:Get LATEST edgedriver version for Edge 117.0.2045\n",
      "INFO:WDM:Driver has been saved in cache [C:\\Users\\Kasim\\.wdm\\drivers\\edgedriver\\win64\\117.0.2045.60]\n",
      "WARNING:root:Failed to scrape total rating for product \n",
      "INFO:root:Successfully scraped total 1609 rating for product B09DXQZVP7\n",
      "INFO:root:Successfully scraped total 227 rating for product B0BK59SBPJ\n"
     ]
    },
    {
     "name": "stdout",
     "output_type": "stream",
     "text": [
      "Tag not found in https://www.amazon.com/product-reviews/B09DXQZVP7/ref=cm_cr_dp_d_show_all_top?ie=UTF8&reviewerType=all_reviews&sortBy=recent\n",
      "Tag not found in https://www.amazon.com/product-reviews/B09DXQZVP7/ref=cm_cr_dp_d_show_all_top?ie=UTF8&reviewerType=all_reviews&sortBy=recent\n"
     ]
    },
    {
     "name": "stderr",
     "output_type": "stream",
     "text": [
      "INFO:root:Successfully scraped total 201 rating for product B09N98H65M\n"
     ]
    },
    {
     "name": "stdout",
     "output_type": "stream",
     "text": [
      "Helpful Text: One person found this helpful\n",
      "Tag not found in https://www.amazon.com/product-reviews/B0BK59SBPJ/ref=cm_cr_dp_d_show_all_top?ie=UTF8&reviewerType=all_reviews&sortBy=recent\n"
     ]
    },
    {
     "name": "stderr",
     "output_type": "stream",
     "text": [
      "INFO:root:Successfully scraped total 279 rating for product B0BK87XWF8\n"
     ]
    },
    {
     "name": "stdout",
     "output_type": "stream",
     "text": [
      "Tag not found in https://www.amazon.com/product-reviews/B09N98H65M/ref=cm_cr_dp_d_show_all_top?ie=UTF8&reviewerType=all_reviews&sortBy=recent\n",
      "Tag not found in https://www.amazon.com/product-reviews/B09N98H65M/ref=cm_cr_dp_d_show_all_top?ie=UTF8&reviewerType=all_reviews&sortBy=recent\n"
     ]
    },
    {
     "name": "stderr",
     "output_type": "stream",
     "text": [
      "INFO:root:Successfully scraped total 3811 rating for product \n",
      "WARNING:root:Failed to scrape total rating for product \n",
      "INFO:root:Successfully scraped total 3269 rating for product B0B65FRR4X\n"
     ]
    },
    {
     "name": "stdout",
     "output_type": "stream",
     "text": [
      "Helpful Text: One person found this helpful\n",
      "Helpful Text: One person found this helpful\n",
      "Failed to scrape item name in https://www.amazon.com/s?k=accessories+for+clothes&ref=nb_sb_noss&page=1\n"
     ]
    },
    {
     "name": "stderr",
     "output_type": "stream",
     "text": [
      "INFO:root:Successfully scraped total 1028 rating for product B098WWRQ6K\n"
     ]
    },
    {
     "name": "stdout",
     "output_type": "stream",
     "text": [
      "Tag not found in https://www.amazon.com/product-reviews/B0B65FRR4X/ref=cm_cr_dp_d_show_all_top?ie=UTF8&reviewerType=all_reviews&sortBy=recent\n",
      "Helpful Text: 7 people found this helpful\n"
     ]
    },
    {
     "name": "stderr",
     "output_type": "stream",
     "text": [
      "INFO:root:Successfully scraped total 91 rating for product B0B62X9B87\n"
     ]
    },
    {
     "name": "stdout",
     "output_type": "stream",
     "text": [
      "Helpful Text: 2 people found this helpful\n",
      "Helpful Text: 2 people found this helpful\n"
     ]
    },
    {
     "name": "stderr",
     "output_type": "stream",
     "text": [
      "INFO:root:Successfully scraped total 5249 rating for product B0BY241TD2\n",
      "INFO:root:Successfully scraped total 54 rating for product B08NQ36SXS\n"
     ]
    },
    {
     "name": "stdout",
     "output_type": "stream",
     "text": [
      "Tag not found in https://www.amazon.com/product-reviews/B0BY241TD2/ref=cm_cr_dp_d_show_all_top?ie=UTF8&reviewerType=all_reviews&sortBy=recent\n",
      "Tag not found in https://www.amazon.com/product-reviews/B0BY241TD2/ref=cm_cr_dp_d_show_all_top?ie=UTF8&reviewerType=all_reviews&sortBy=recent\n"
     ]
    },
    {
     "name": "stderr",
     "output_type": "stream",
     "text": [
      "INFO:root:Successfully scraped total 700 rating for product B0BQ6HCVRY\n",
      "INFO:root:Successfully scraped total 122 rating for product B0BHDWZYRT\n"
     ]
    },
    {
     "name": "stdout",
     "output_type": "stream",
     "text": [
      "Helpful Text: 14 people found this helpful\n",
      "Tag not found in https://www.amazon.com/product-reviews/B0BQ6HCVRY/ref=cm_cr_dp_d_show_all_top?ie=UTF8&reviewerType=all_reviews&sortBy=recent\n"
     ]
    },
    {
     "name": "stderr",
     "output_type": "stream",
     "text": [
      "WARNING:root:Failed to scrape total rating for product \n",
      "WARNING:root:Failed to scrape total rating for product \n",
      "WARNING:root:Failed to scrape total rating for product \n",
      "INFO:root:Successfully scraped total 52 rating for product B0BH4Z9Z2B\n"
     ]
    },
    {
     "name": "stdout",
     "output_type": "stream",
     "text": [
      "Failed to scrape item name in https://www.amazon.com/s?k=accessories+for+clothes&ref=nb_sb_noss&page=1\n",
      "Failed to scrape item name in https://www.amazon.com/s?k=accessories+for+clothes&ref=nb_sb_noss&page=1\n"
     ]
    },
    {
     "name": "stderr",
     "output_type": "stream",
     "text": [
      "INFO:root:Successfully scraped total 18 rating for product B0CBCC4HWK\n",
      "INFO:root:Successfully scraped total 19821 rating for product B07JGWT25L\n"
     ]
    },
    {
     "name": "stdout",
     "output_type": "stream",
     "text": [
      "Tag not found in https://www.amazon.com/product-reviews/B0CBCC4HWK/ref=cm_cr_dp_d_show_all_top?ie=UTF8&reviewerType=all_reviews&sortBy=recent\n",
      "Tag not found in https://www.amazon.com/product-reviews/B0CBCC4HWK/ref=cm_cr_dp_d_show_all_top?ie=UTF8&reviewerType=all_reviews&sortBy=recent\n"
     ]
    },
    {
     "name": "stderr",
     "output_type": "stream",
     "text": [
      "INFO:root:Successfully scraped total 9 rating for product B0BWFRS63C\n"
     ]
    },
    {
     "name": "stdout",
     "output_type": "stream",
     "text": [
      "Helpful Text: One person found this helpful\n",
      "Tag not found in https://www.amazon.com/product-reviews/B07JGWT25L/ref=cm_cr_dp_d_show_all_top?ie=UTF8&reviewerType=all_reviews&sortBy=recent\n"
     ]
    },
    {
     "name": "stderr",
     "output_type": "stream",
     "text": [
      "INFO:root:Successfully scraped total 506 rating for product B097NPY4SL\n",
      "INFO:root:Successfully scraped total 4435 rating for product B09Y46XFLL\n"
     ]
    },
    {
     "name": "stdout",
     "output_type": "stream",
     "text": [
      "Tag not found in https://www.amazon.com/product-reviews/B097NPY4SL/ref=cm_cr_dp_d_show_all_top?ie=UTF8&reviewerType=all_reviews&sortBy=recent\n",
      "Helpful Text: 5 people found this helpful\n"
     ]
    },
    {
     "name": "stderr",
     "output_type": "stream",
     "text": [
      "WARNING:root:Failed to scrape total rating for product B0CHYH3XR3\n"
     ]
    },
    {
     "name": "stdout",
     "output_type": "stream",
     "text": [
      "Helpful Text: One person found this helpful\n",
      "Tag not found in https://www.amazon.com/product-reviews/B09Y46XFLL/ref=cm_cr_dp_d_show_all_top?ie=UTF8&reviewerType=all_reviews&sortBy=recent\n"
     ]
    },
    {
     "name": "stderr",
     "output_type": "stream",
     "text": [
      "INFO:root:Successfully scraped total 9050 rating for product B08CS6H4LK\n"
     ]
    },
    {
     "name": "stdout",
     "output_type": "stream",
     "text": [
      "TimeoutException: Could not find reviews for https://www.amazon.com/product-reviews/B0CHYH3XR3/ref=cm_cr_dp_d_show_all_top?ie=UTF8&reviewerType=all_reviews&sortBy=recent\n"
     ]
    },
    {
     "name": "stderr",
     "output_type": "stream",
     "text": [
      "INFO:root:Successfully scraped total 866 rating for product B0BD4Y9633\n"
     ]
    },
    {
     "name": "stdout",
     "output_type": "stream",
     "text": [
      "Tag not found in https://www.amazon.com/product-reviews/B08CS6H4LK/ref=cm_cr_dp_d_show_all_top?ie=UTF8&reviewerType=all_reviews&sortBy=recent\n",
      "Helpful Text: 2 people found this helpful\n"
     ]
    },
    {
     "name": "stderr",
     "output_type": "stream",
     "text": [
      "INFO:root:Successfully scraped total 17026 rating for product B07XRF1WD7\n"
     ]
    },
    {
     "name": "stdout",
     "output_type": "stream",
     "text": [
      "Helpful Text: One person found this helpful\n",
      "Helpful Text: One person found this helpful\n"
     ]
    },
    {
     "name": "stderr",
     "output_type": "stream",
     "text": [
      "INFO:root:Successfully scraped total 789 rating for product B081X2QHYD\n"
     ]
    },
    {
     "name": "stdout",
     "output_type": "stream",
     "text": [
      "Tag not found in https://www.amazon.com/product-reviews/B07XRF1WD7/ref=cm_cr_dp_d_show_all_top?ie=UTF8&reviewerType=all_reviews&sortBy=recent\n",
      "Tag not found in https://www.amazon.com/product-reviews/B07XRF1WD7/ref=cm_cr_dp_d_show_all_top?ie=UTF8&reviewerType=all_reviews&sortBy=recent\n"
     ]
    },
    {
     "name": "stderr",
     "output_type": "stream",
     "text": [
      "WARNING:root:Failed to scrape total rating for product B0C66CF33H\n"
     ]
    },
    {
     "name": "stdout",
     "output_type": "stream",
     "text": [
      "Helpful Text: One person found this helpful\n",
      "Helpful Text: One person found this helpful\n"
     ]
    },
    {
     "name": "stderr",
     "output_type": "stream",
     "text": [
      "INFO:root:Successfully scraped total 240 rating for product B0B3R54YJB\n"
     ]
    },
    {
     "name": "stdout",
     "output_type": "stream",
     "text": [
      "TimeoutException: Could not find reviews for https://www.amazon.com/product-reviews/B0C66CF33H/ref=cm_cr_dp_d_show_all_top?ie=UTF8&reviewerType=all_reviews&sortBy=recent\n"
     ]
    },
    {
     "name": "stderr",
     "output_type": "stream",
     "text": [
      "INFO:root:Successfully scraped total 6005 rating for product B091BTKCSV\n"
     ]
    },
    {
     "name": "stdout",
     "output_type": "stream",
     "text": [
      "Helpful Text: 12 people found this helpful\n",
      "Helpful Text: One person found this helpful\n"
     ]
    },
    {
     "name": "stderr",
     "output_type": "stream",
     "text": [
      "INFO:root:Successfully scraped total 35 rating for product B0CFGYLQQG\n"
     ]
    },
    {
     "name": "stdout",
     "output_type": "stream",
     "text": [
      "Helpful Text: One person found this helpful\n",
      "Tag not found in https://www.amazon.com/product-reviews/B091BTKCSV/ref=cm_cr_dp_d_show_all_top?ie=UTF8&reviewerType=all_reviews&sortBy=recent\n"
     ]
    },
    {
     "name": "stderr",
     "output_type": "stream",
     "text": [
      "INFO:root:Successfully scraped total 533 rating for product B08J7WR52N\n"
     ]
    },
    {
     "name": "stdout",
     "output_type": "stream",
     "text": [
      "Tag not found in https://www.amazon.com/product-reviews/B0CFGYLQQG/ref=cm_cr_dp_d_show_all_top?ie=UTF8&reviewerType=all_reviews&sortBy=recent\n",
      "Helpful Text: One person found this helpful\n"
     ]
    },
    {
     "name": "stderr",
     "output_type": "stream",
     "text": [
      "INFO:root:Successfully scraped total 4308 rating for product B00MY5X75E\n"
     ]
    },
    {
     "name": "stdout",
     "output_type": "stream",
     "text": [
      "Tag not found in https://www.amazon.com/product-reviews/B08J7WR52N/ref=cm_cr_dp_d_show_all_top?ie=UTF8&reviewerType=all_reviews&sortBy=recent\n",
      "Tag not found in https://www.amazon.com/product-reviews/B08J7WR52N/ref=cm_cr_dp_d_show_all_top?ie=UTF8&reviewerType=all_reviews&sortBy=recent\n"
     ]
    },
    {
     "name": "stderr",
     "output_type": "stream",
     "text": [
      "INFO:root:Successfully scraped total 8 rating for product B0B776R8VB\n"
     ]
    },
    {
     "name": "stdout",
     "output_type": "stream",
     "text": [
      "Helpful Text: 2 people found this helpful\n",
      "Tag not found in https://www.amazon.com/product-reviews/B00MY5X75E/ref=cm_cr_dp_d_show_all_top?ie=UTF8&reviewerType=all_reviews&sortBy=recent\n"
     ]
    },
    {
     "name": "stderr",
     "output_type": "stream",
     "text": [
      "INFO:root:Successfully scraped total 282 rating for product B0B4S4PDR7\n",
      "INFO:root:Successfully scraped total 72 rating for product B0C7QZ33SP\n"
     ]
    },
    {
     "name": "stdout",
     "output_type": "stream",
     "text": [
      "Helpful Text: 2 people found this helpful\n",
      "Helpful Text: 2 people found this helpful\n"
     ]
    },
    {
     "name": "stderr",
     "output_type": "stream",
     "text": [
      "INFO:root:Successfully scraped total 33 rating for product B0C85T91ZJ\n"
     ]
    },
    {
     "name": "stdout",
     "output_type": "stream",
     "text": [
      "Helpful Text: One person found this helpful\n",
      "Tag not found in https://www.amazon.com/product-reviews/B0C7QZ33SP/ref=cm_cr_dp_d_show_all_top?ie=UTF8&reviewerType=all_reviews&sortBy=recent\n"
     ]
    },
    {
     "name": "stderr",
     "output_type": "stream",
     "text": [
      "WARNING:root:Failed to scrape total rating for product B0CC5RGJ3Y\n"
     ]
    },
    {
     "name": "stdout",
     "output_type": "stream",
     "text": [
      "Tag not found in https://www.amazon.com/product-reviews/B0C85T91ZJ/ref=cm_cr_dp_d_show_all_top?ie=UTF8&reviewerType=all_reviews&sortBy=recent\n",
      "Tag not found in https://www.amazon.com/product-reviews/B0C85T91ZJ/ref=cm_cr_dp_d_show_all_top?ie=UTF8&reviewerType=all_reviews&sortBy=recent\n"
     ]
    },
    {
     "name": "stderr",
     "output_type": "stream",
     "text": [
      "INFO:root:Successfully scraped total 2750 rating for product B0C6LMK56W\n"
     ]
    },
    {
     "name": "stdout",
     "output_type": "stream",
     "text": [
      "TimeoutException: Could not find reviews for https://www.amazon.com/product-reviews/B0CC5RGJ3Y/ref=cm_cr_dp_d_show_all_top?ie=UTF8&reviewerType=all_reviews&sortBy=recent\n"
     ]
    },
    {
     "name": "stderr",
     "output_type": "stream",
     "text": [
      "INFO:root:Successfully scraped total 20 rating for product B0CCDBFPPT\n"
     ]
    },
    {
     "name": "stdout",
     "output_type": "stream",
     "text": [
      "Helpful Text: 3 people found this helpful\n",
      "Helpful Text: 2 people found this helpful\n"
     ]
    },
    {
     "name": "stderr",
     "output_type": "stream",
     "text": [
      "INFO:root:Successfully scraped total 48 rating for product B0BFB5TZL4\n"
     ]
    },
    {
     "name": "stdout",
     "output_type": "stream",
     "text": [
      "Tag not found in https://www.amazon.com/product-reviews/B0CCDBFPPT/ref=cm_cr_dp_d_show_all_top?ie=UTF8&reviewerType=all_reviews&sortBy=recent\n",
      "Tag not found in https://www.amazon.com/product-reviews/B0CCDBFPPT/ref=cm_cr_dp_d_show_all_top?ie=UTF8&reviewerType=all_reviews&sortBy=recent\n"
     ]
    },
    {
     "name": "stderr",
     "output_type": "stream",
     "text": [
      "INFO:root:Successfully scraped total 83 rating for product B0CC2DG82R\n"
     ]
    },
    {
     "name": "stdout",
     "output_type": "stream",
     "text": [
      "Helpful Text: One person found this helpful\n",
      "Helpful Text: 3 people found this helpful\n"
     ]
    },
    {
     "name": "stderr",
     "output_type": "stream",
     "text": [
      "INFO:root:Successfully scraped total 11 rating for product B0CGTL9G6Q\n"
     ]
    },
    {
     "name": "stdout",
     "output_type": "stream",
     "text": [
      "Helpful Text: 2 people found this helpful\n",
      "Tag not found in https://www.amazon.com/product-reviews/B0CC2DG82R/ref=cm_cr_dp_d_show_all_top?ie=UTF8&reviewerType=all_reviews&sortBy=recent\n"
     ]
    },
    {
     "name": "stderr",
     "output_type": "stream",
     "text": [
      "INFO:root:Successfully scraped total 43 rating for product B0C95RTN1T\n",
      "INFO:root:Successfully scraped total 1 rating for product B0C89TM8PC\n"
     ]
    },
    {
     "name": "stdout",
     "output_type": "stream",
     "text": [
      "Helpful Text: 2 people found this helpful\n",
      "Helpful Text: 4 people found this helpful\n"
     ]
    },
    {
     "name": "stderr",
     "output_type": "stream",
     "text": [
      "INFO:root:Successfully scraped total 449 rating for product B0B6PJXVV8\n",
      "INFO:root:Successfully scraped total 10101 rating for product B073P4BRSB\n"
     ]
    },
    {
     "name": "stdout",
     "output_type": "stream",
     "text": [
      "Tag not found in https://www.amazon.com/product-reviews/B0B6PJXVV8/ref=cm_cr_dp_d_show_all_top?ie=UTF8&reviewerType=all_reviews&sortBy=recent\n",
      "Helpful Text: One person found this helpful\n"
     ]
    },
    {
     "name": "stderr",
     "output_type": "stream",
     "text": [
      "INFO:root:Successfully scraped total 871 rating for product B08P8DPH72\n"
     ]
    },
    {
     "name": "stdout",
     "output_type": "stream",
     "text": [
      "Helpful Text: 4 people found this helpful\n",
      "Tag not found in https://www.amazon.com/product-reviews/B073P4BRSB/ref=cm_cr_dp_d_show_all_top?ie=UTF8&reviewerType=all_reviews&sortBy=recent\n"
     ]
    },
    {
     "name": "stderr",
     "output_type": "stream",
     "text": [
      "INFO:root:Successfully scraped total 1353 rating for product B09V7F16HQ\n"
     ]
    },
    {
     "name": "stdout",
     "output_type": "stream",
     "text": [
      "Tag not found in https://www.amazon.com/product-reviews/B08P8DPH72/ref=cm_cr_dp_d_show_all_top?ie=UTF8&reviewerType=all_reviews&sortBy=recent\n",
      "Helpful Text: One person found this helpful\n"
     ]
    },
    {
     "name": "stderr",
     "output_type": "stream",
     "text": [
      "INFO:root:Successfully scraped total 60 rating for product B0B5WDSFJ8\n"
     ]
    },
    {
     "name": "stdout",
     "output_type": "stream",
     "text": [
      "Tag not found in https://www.amazon.com/product-reviews/B09V7F16HQ/ref=cm_cr_dp_d_show_all_top?ie=UTF8&reviewerType=all_reviews&sortBy=recent\n",
      "Helpful Text: 2 people found this helpful\n"
     ]
    },
    {
     "name": "stderr",
     "output_type": "stream",
     "text": [
      "INFO:root:Successfully scraped total 1445 rating for product B088693Y8F\n",
      "INFO:root:Successfully scraped total 39 rating for product B0CBDDKRC3\n"
     ]
    },
    {
     "name": "stdout",
     "output_type": "stream",
     "text": [
      "Helpful Text: 2 people found this helpful\n",
      "Tag not found in https://www.amazon.com/product-reviews/B088693Y8F/ref=cm_cr_dp_d_show_all_top?ie=UTF8&reviewerType=all_reviews&sortBy=recent\n"
     ]
    },
    {
     "name": "stderr",
     "output_type": "stream",
     "text": [
      "INFO:root:Successfully scraped total 67 rating for product B0BCNZ9VZ5\n"
     ]
    },
    {
     "name": "stdout",
     "output_type": "stream",
     "text": [
      "Tag not found in https://www.amazon.com/product-reviews/B0CBDDKRC3/ref=cm_cr_dp_d_show_all_top?ie=UTF8&reviewerType=all_reviews&sortBy=recent\n",
      "Helpful Text: One person found this helpful\n"
     ]
    },
    {
     "name": "stderr",
     "output_type": "stream",
     "text": [
      "INFO:root:Successfully scraped total 2786 rating for product B09PZSX63C\n"
     ]
    },
    {
     "name": "stdout",
     "output_type": "stream",
     "text": [
      "Tag not found in https://www.amazon.com/product-reviews/B0BCNZ9VZ5/ref=cm_cr_dp_d_show_all_top?ie=UTF8&reviewerType=all_reviews&sortBy=recent\n",
      "Tag not found in https://www.amazon.com/product-reviews/B0BCNZ9VZ5/ref=cm_cr_dp_d_show_all_top?ie=UTF8&reviewerType=all_reviews&sortBy=recent\n"
     ]
    },
    {
     "name": "stderr",
     "output_type": "stream",
     "text": [
      "INFO:root:Successfully scraped total 68 rating for product B0B2W1Q855\n"
     ]
    },
    {
     "name": "stdout",
     "output_type": "stream",
     "text": [
      "Helpful Text: 5 people found this helpful\n",
      "Tag not found in https://www.amazon.com/product-reviews/B09PZSX63C/ref=cm_cr_dp_d_show_all_top?ie=UTF8&reviewerType=all_reviews&sortBy=recent\n"
     ]
    },
    {
     "name": "stderr",
     "output_type": "stream",
     "text": [
      "INFO:root:Successfully scraped total 1847 rating for product B09FTCP6GH\n"
     ]
    },
    {
     "name": "stdout",
     "output_type": "stream",
     "text": [
      "Tag not found in https://www.amazon.com/product-reviews/B0B2W1Q855/ref=cm_cr_dp_d_show_all_top?ie=UTF8&reviewerType=all_reviews&sortBy=recent\n",
      "Helpful Text: 2 people found this helpful\n"
     ]
    },
    {
     "name": "stderr",
     "output_type": "stream",
     "text": [
      "INFO:root:Successfully scraped total 149 rating for product B0BLTF9N8Y\n"
     ]
    },
    {
     "name": "stdout",
     "output_type": "stream",
     "text": [
      "Tag not found in https://www.amazon.com/product-reviews/B09FTCP6GH/ref=cm_cr_dp_d_show_all_top?ie=UTF8&reviewerType=all_reviews&sortBy=recent\n",
      "Helpful Text: One person found this helpful\n"
     ]
    },
    {
     "name": "stderr",
     "output_type": "stream",
     "text": [
      "INFO:root:Successfully scraped total 3284 rating for product B0BZ46ND31\n"
     ]
    },
    {
     "name": "stdout",
     "output_type": "stream",
     "text": [
      "Tag not found in https://www.amazon.com/product-reviews/B0BLTF9N8Y/ref=cm_cr_dp_d_show_all_top?ie=UTF8&reviewerType=all_reviews&sortBy=recent\n",
      "Helpful Text: 4 people found this helpful\n"
     ]
    },
    {
     "name": "stderr",
     "output_type": "stream",
     "text": [
      "INFO:root:Successfully scraped total 98 rating for product B0BZH1V57G\n"
     ]
    },
    {
     "name": "stdout",
     "output_type": "stream",
     "text": [
      "Tag not found in https://www.amazon.com/product-reviews/B0BZ46ND31/ref=cm_cr_dp_d_show_all_top?ie=UTF8&reviewerType=all_reviews&sortBy=recent\n",
      "Tag not found in https://www.amazon.com/product-reviews/B0BZ46ND31/ref=cm_cr_dp_d_show_all_top?ie=UTF8&reviewerType=all_reviews&sortBy=recent\n"
     ]
    },
    {
     "name": "stderr",
     "output_type": "stream",
     "text": [
      "INFO:root:Successfully scraped total 1225 rating for product B099W7GZTV\n"
     ]
    },
    {
     "name": "stdout",
     "output_type": "stream",
     "text": [
      "Tag not found in https://www.amazon.com/product-reviews/B0BZH1V57G/ref=cm_cr_dp_d_show_all_top?ie=UTF8&reviewerType=all_reviews&sortBy=recent\n",
      "Tag not found in https://www.amazon.com/product-reviews/B0BZH1V57G/ref=cm_cr_dp_d_show_all_top?ie=UTF8&reviewerType=all_reviews&sortBy=recent\n"
     ]
    },
    {
     "name": "stderr",
     "output_type": "stream",
     "text": [
      "INFO:root:Successfully scraped total 9750 rating for product B09ZNTDC3C\n"
     ]
    },
    {
     "name": "stdout",
     "output_type": "stream",
     "text": [
      "Tag not found in https://www.amazon.com/product-reviews/B099W7GZTV/ref=cm_cr_dp_d_show_all_top?ie=UTF8&reviewerType=all_reviews&sortBy=recent\n",
      "Tag not found in https://www.amazon.com/product-reviews/B099W7GZTV/ref=cm_cr_dp_d_show_all_top?ie=UTF8&reviewerType=all_reviews&sortBy=recent\n"
     ]
    },
    {
     "name": "stderr",
     "output_type": "stream",
     "text": [
      "INFO:root:Successfully scraped total 8 rating for product B0B776R8VB\n",
      "INFO:root:Successfully scraped total 55 rating for product B0BGQK1WLN\n"
     ]
    },
    {
     "name": "stdout",
     "output_type": "stream",
     "text": [
      "Helpful Text: 21 people found this helpful\n",
      "Tag not found in https://www.amazon.com/product-reviews/B09ZNTDC3C/ref=cm_cr_dp_d_show_all_top?ie=UTF8&reviewerType=all_reviews&sortBy=recent\n"
     ]
    },
    {
     "name": "stderr",
     "output_type": "stream",
     "text": [
      "INFO:root:Successfully scraped total 546 rating for product B0006IEH78\n"
     ]
    },
    {
     "name": "stdout",
     "output_type": "stream",
     "text": [
      "Tag not found in https://www.amazon.com/product-reviews/B0BGQK1WLN/ref=cm_cr_dp_d_show_all_top?ie=UTF8&reviewerType=all_reviews&sortBy=recent\n",
      "Tag not found in https://www.amazon.com/product-reviews/B0BGQK1WLN/ref=cm_cr_dp_d_show_all_top?ie=UTF8&reviewerType=all_reviews&sortBy=recent\n"
     ]
    },
    {
     "name": "stderr",
     "output_type": "stream",
     "text": [
      "WARNING:root:Failed to scrape total rating for product B0CFQQX32Z\n"
     ]
    },
    {
     "name": "stdout",
     "output_type": "stream",
     "text": [
      "Helpful Text: One person found this helpful\n",
      "Tag not found in https://www.amazon.com/product-reviews/B0006IEH78/ref=cm_cr_dp_d_show_all_top?ie=UTF8&reviewerType=all_reviews&sortBy=recent\n"
     ]
    },
    {
     "name": "stderr",
     "output_type": "stream",
     "text": [
      "INFO:root:Successfully scraped total 673 rating for product \n",
      "WARNING:root:Failed to scrape total rating for product \n",
      "WARNING:root:Failed to scrape total rating for product \n",
      "WARNING:root:Failed to scrape total rating for product \n",
      "WARNING:root:Failed to scrape total rating for product \n",
      "WARNING:root:Failed to scrape total rating for product \n"
     ]
    },
    {
     "name": "stdout",
     "output_type": "stream",
     "text": [
      "TimeoutException: Could not find reviews for https://www.amazon.com/product-reviews/B0CFQQX32Z/ref=cm_cr_dp_d_show_all_top?ie=UTF8&reviewerType=all_reviews&sortBy=recent\n",
      "Failed to scrape item name in https://www.amazon.com/s?k=accessories+for+clothes&ref=nb_sb_noss&page=1\n",
      "Failed to scrape item name in https://www.amazon.com/s?k=accessories+for+clothes&ref=nb_sb_noss&page=1\n",
      "Failed to scrape item name in https://www.amazon.com/s?k=accessories+for+clothes&ref=nb_sb_noss&page=1\n",
      "Failed to scrape item name in https://www.amazon.com/s?k=accessories+for+clothes&ref=nb_sb_noss&page=1\n",
      "Failed to scrape item name in https://www.amazon.com/s?k=accessories+for+clothes&ref=nb_sb_noss&page=1\n"
     ]
    },
    {
     "name": "stderr",
     "output_type": "stream",
     "text": [
      "WARNING:root:Failed to scrape total rating for product \n",
      "INFO:root:Successfully scraped total 282 rating for product B0BCJT8PR6\n",
      "INFO:root:Successfully scraped total 1654 rating for product B07LDVRKK8\n"
     ]
    },
    {
     "name": "stdout",
     "output_type": "stream",
     "text": [
      "Helpful Text: 2 people found this helpful\n",
      "Helpful Text: 2 people found this helpful\n"
     ]
    },
    {
     "name": "stderr",
     "output_type": "stream",
     "text": [
      "INFO:root:Successfully scraped total 10473 rating for product B0B7BP6CJN\n"
     ]
    },
    {
     "name": "stdout",
     "output_type": "stream",
     "text": [
      "Tag not found in https://www.amazon.com/product-reviews/B07LDVRKK8/ref=cm_cr_dp_d_show_all_top?ie=UTF8&reviewerType=all_reviews&sortBy=recent\n",
      "Helpful Text: 2 people found this helpful\n"
     ]
    },
    {
     "name": "stderr",
     "output_type": "stream",
     "text": [
      "INFO:root:Successfully scraped total 125 rating for product B0B3RDRQJV\n"
     ]
    },
    {
     "name": "stdout",
     "output_type": "stream",
     "text": [
      "Helpful Text: 29 people found this helpful\n",
      "Tag not found in https://www.amazon.com/product-reviews/B0B7BP6CJN/ref=cm_cr_dp_d_show_all_top?ie=UTF8&reviewerType=all_reviews&sortBy=recent\n"
     ]
    },
    {
     "name": "stderr",
     "output_type": "stream",
     "text": [
      "INFO:root:Successfully scraped total 3907 rating for product B0B65GPMYC\n"
     ]
    },
    {
     "name": "stdout",
     "output_type": "stream",
     "text": [
      "Tag not found in https://www.amazon.com/product-reviews/B0B3RDRQJV/ref=cm_cr_dp_d_show_all_top?ie=UTF8&reviewerType=all_reviews&sortBy=recent\n",
      "Helpful Text: One person found this helpful\n"
     ]
    },
    {
     "name": "stderr",
     "output_type": "stream",
     "text": [
      "INFO:root:Successfully scraped total 50 rating for product B0BTRZ9S7N\n"
     ]
    },
    {
     "name": "stdout",
     "output_type": "stream",
     "text": [
      "Helpful Text: 7 people found this helpful\n",
      "Tag not found in https://www.amazon.com/product-reviews/B0B65GPMYC/ref=cm_cr_dp_d_show_all_top?ie=UTF8&reviewerType=all_reviews&sortBy=recent\n"
     ]
    },
    {
     "name": "stderr",
     "output_type": "stream",
     "text": [
      "INFO:root:Successfully scraped total 7945 rating for product B0BRKM7T5J\n"
     ]
    },
    {
     "name": "stdout",
     "output_type": "stream",
     "text": [
      "Tag not found in https://www.amazon.com/product-reviews/B0BTRZ9S7N/ref=cm_cr_dp_d_show_all_top?ie=UTF8&reviewerType=all_reviews&sortBy=recent\n",
      "Tag not found in https://www.amazon.com/product-reviews/B0BTRZ9S7N/ref=cm_cr_dp_d_show_all_top?ie=UTF8&reviewerType=all_reviews&sortBy=recent\n"
     ]
    },
    {
     "name": "stderr",
     "output_type": "stream",
     "text": [
      "INFO:root:Successfully scraped total 3811 rating for product \n",
      "WARNING:root:Failed to scrape total rating for product \n",
      "INFO:root:Successfully scraped total 1 rating for product B0CBBCFN8W\n"
     ]
    },
    {
     "name": "stdout",
     "output_type": "stream",
     "text": [
      "Tag not found in https://www.amazon.com/product-reviews/B0BRKM7T5J/ref=cm_cr_dp_d_show_all_top?ie=UTF8&reviewerType=all_reviews&sortBy=recent\n",
      "Tag not found in https://www.amazon.com/product-reviews/B0BRKM7T5J/ref=cm_cr_dp_d_show_all_top?ie=UTF8&reviewerType=all_reviews&sortBy=recent\n",
      "Failed to scrape item name in https://www.amazon.com/s?k=accessories+for+clothes&ref=nb_sb_noss&page=2\n"
     ]
    },
    {
     "name": "stderr",
     "output_type": "stream",
     "text": [
      "INFO:root:Successfully scraped total 230 rating for product B0BQ8ZG6XS\n"
     ]
    },
    {
     "name": "stdout",
     "output_type": "stream",
     "text": [
      "TimeoutException: Could not find reviews for https://www.amazon.com/product-reviews/B0CBBCFN8W/ref=cm_cr_dp_d_show_all_top?ie=UTF8&reviewerType=all_reviews&sortBy=recent\n"
     ]
    },
    {
     "name": "stderr",
     "output_type": "stream",
     "text": [
      "INFO:root:Successfully scraped total 1976 rating for product B07JNV79PT\n"
     ]
    },
    {
     "name": "stdout",
     "output_type": "stream",
     "text": [
      "Tag not found in https://www.amazon.com/product-reviews/B0BQ8ZG6XS/ref=cm_cr_dp_d_show_all_top?ie=UTF8&reviewerType=all_reviews&sortBy=recent\n",
      "Tag not found in https://www.amazon.com/product-reviews/B0BQ8ZG6XS/ref=cm_cr_dp_d_show_all_top?ie=UTF8&reviewerType=all_reviews&sortBy=recent\n"
     ]
    },
    {
     "name": "stderr",
     "output_type": "stream",
     "text": [
      "INFO:root:Successfully scraped total 1556 rating for product B08Y8R8KN5\n"
     ]
    },
    {
     "name": "stdout",
     "output_type": "stream",
     "text": [
      "Tag not found in https://www.amazon.com/product-reviews/B07JNV79PT/ref=cm_cr_dp_d_show_all_top?ie=UTF8&reviewerType=all_reviews&sortBy=recent\n",
      "Tag not found in https://www.amazon.com/product-reviews/B07JNV79PT/ref=cm_cr_dp_d_show_all_top?ie=UTF8&reviewerType=all_reviews&sortBy=recent\n"
     ]
    },
    {
     "name": "stderr",
     "output_type": "stream",
     "text": [
      "INFO:root:Successfully scraped total 43 rating for product B0BQLMMTDJ\n"
     ]
    },
    {
     "name": "stdout",
     "output_type": "stream",
     "text": [
      "Tag not found in https://www.amazon.com/product-reviews/B08Y8R8KN5/ref=cm_cr_dp_d_show_all_top?ie=UTF8&reviewerType=all_reviews&sortBy=recent\n",
      "Tag not found in https://www.amazon.com/product-reviews/B08Y8R8KN5/ref=cm_cr_dp_d_show_all_top?ie=UTF8&reviewerType=all_reviews&sortBy=recent\n"
     ]
    },
    {
     "name": "stderr",
     "output_type": "stream",
     "text": [
      "INFO:root:Successfully scraped total 71 rating for product B0BVYCQSBN\n"
     ]
    },
    {
     "name": "stdout",
     "output_type": "stream",
     "text": [
      "Tag not found in https://www.amazon.com/product-reviews/B0BQLMMTDJ/ref=cm_cr_dp_d_show_all_top?ie=UTF8&reviewerType=all_reviews&sortBy=recent\n",
      "Tag not found in https://www.amazon.com/product-reviews/B0BQLMMTDJ/ref=cm_cr_dp_d_show_all_top?ie=UTF8&reviewerType=all_reviews&sortBy=recent\n"
     ]
    },
    {
     "name": "stderr",
     "output_type": "stream",
     "text": [
      "INFO:root:Successfully scraped total 235 rating for product B09BQMF8QZ\n"
     ]
    },
    {
     "name": "stdout",
     "output_type": "stream",
     "text": [
      "Helpful Text: One person found this helpful\n",
      "Tag not found in https://www.amazon.com/product-reviews/B0BVYCQSBN/ref=cm_cr_dp_d_show_all_top?ie=UTF8&reviewerType=all_reviews&sortBy=recent\n"
     ]
    },
    {
     "name": "stderr",
     "output_type": "stream",
     "text": [
      "INFO:root:Successfully scraped total 2221 rating for product B089F9X6HM\n"
     ]
    },
    {
     "name": "stdout",
     "output_type": "stream",
     "text": [
      "Tag not found in https://www.amazon.com/product-reviews/B09BQMF8QZ/ref=cm_cr_dp_d_show_all_top?ie=UTF8&reviewerType=all_reviews&sortBy=recent\n",
      "Helpful Text: 3 people found this helpful\n"
     ]
    },
    {
     "name": "stderr",
     "output_type": "stream",
     "text": [
      "INFO:root:Successfully scraped total 50 rating for product B09KP99YGG\n"
     ]
    },
    {
     "name": "stdout",
     "output_type": "stream",
     "text": [
      "Tag not found in https://www.amazon.com/product-reviews/B089F9X6HM/ref=cm_cr_dp_d_show_all_top?ie=UTF8&reviewerType=all_reviews&sortBy=recent\n",
      "Tag not found in https://www.amazon.com/product-reviews/B089F9X6HM/ref=cm_cr_dp_d_show_all_top?ie=UTF8&reviewerType=all_reviews&sortBy=recent\n"
     ]
    },
    {
     "name": "stderr",
     "output_type": "stream",
     "text": [
      "INFO:root:Successfully scraped total 533 rating for product B0BPY7WCK5\n",
      "INFO:root:Successfully scraped total 3135 rating for product B07F58CM82\n"
     ]
    },
    {
     "name": "stdout",
     "output_type": "stream",
     "text": [
      "Tag not found in https://www.amazon.com/product-reviews/B0BPY7WCK5/ref=cm_cr_dp_d_show_all_top?ie=UTF8&reviewerType=all_reviews&sortBy=recent\n",
      "Tag not found in https://www.amazon.com/product-reviews/B0BPY7WCK5/ref=cm_cr_dp_d_show_all_top?ie=UTF8&reviewerType=all_reviews&sortBy=recent\n"
     ]
    },
    {
     "name": "stderr",
     "output_type": "stream",
     "text": [
      "INFO:root:Successfully scraped total 38 rating for product B0BV1QS6D4\n"
     ]
    },
    {
     "name": "stdout",
     "output_type": "stream",
     "text": [
      "Tag not found in https://www.amazon.com/product-reviews/B07F58CM82/ref=cm_cr_dp_d_show_all_top?ie=UTF8&reviewerType=all_reviews&sortBy=recent\n",
      "Helpful Text: One person found this helpful\n"
     ]
    },
    {
     "name": "stderr",
     "output_type": "stream",
     "text": [
      "INFO:root:Successfully scraped total 13392 rating for product B07CY13SDN\n",
      "INFO:root:Successfully scraped total 71 rating for product B0BLVBTV85\n"
     ]
    },
    {
     "name": "stdout",
     "output_type": "stream",
     "text": [
      "Helpful Text: 6 people found this helpful\n",
      "Helpful Text: One person found this helpful\n"
     ]
    },
    {
     "name": "stderr",
     "output_type": "stream",
     "text": [
      "INFO:root:Successfully scraped total 996 rating for product B092VZXLG4\n"
     ]
    },
    {
     "name": "stdout",
     "output_type": "stream",
     "text": [
      "Helpful Text: One person found this helpful\n",
      "Tag not found in https://www.amazon.com/product-reviews/B0BLVBTV85/ref=cm_cr_dp_d_show_all_top?ie=UTF8&reviewerType=all_reviews&sortBy=recent\n"
     ]
    },
    {
     "name": "stderr",
     "output_type": "stream",
     "text": [
      "INFO:root:Successfully scraped total 1928 rating for product B09WD5276T\n"
     ]
    },
    {
     "name": "stdout",
     "output_type": "stream",
     "text": [
      "Tag not found in https://www.amazon.com/product-reviews/B092VZXLG4/ref=cm_cr_dp_d_show_all_top?ie=UTF8&reviewerType=all_reviews&sortBy=recent\n",
      "Tag not found in https://www.amazon.com/product-reviews/B092VZXLG4/ref=cm_cr_dp_d_show_all_top?ie=UTF8&reviewerType=all_reviews&sortBy=recent\n"
     ]
    },
    {
     "name": "stderr",
     "output_type": "stream",
     "text": [
      "INFO:root:Successfully scraped total 60 rating for product B0BXN5WTW9\n"
     ]
    },
    {
     "name": "stdout",
     "output_type": "stream",
     "text": [
      "Helpful Text: One person found this helpful\n",
      "Tag not found in https://www.amazon.com/product-reviews/B09WD5276T/ref=cm_cr_dp_d_show_all_top?ie=UTF8&reviewerType=all_reviews&sortBy=recent\n"
     ]
    },
    {
     "name": "stderr",
     "output_type": "stream",
     "text": [
      "INFO:root:Successfully scraped total 456 rating for product B0C6YGBTTM\n"
     ]
    },
    {
     "name": "stdout",
     "output_type": "stream",
     "text": [
      "Tag not found in https://www.amazon.com/product-reviews/B0BXN5WTW9/ref=cm_cr_dp_d_show_all_top?ie=UTF8&reviewerType=all_reviews&sortBy=recent\n",
      "Tag not found in https://www.amazon.com/product-reviews/B0BXN5WTW9/ref=cm_cr_dp_d_show_all_top?ie=UTF8&reviewerType=all_reviews&sortBy=recent\n"
     ]
    },
    {
     "name": "stderr",
     "output_type": "stream",
     "text": [
      "INFO:root:Successfully scraped total 4308 rating for product B015QCSXGO\n"
     ]
    },
    {
     "name": "stdout",
     "output_type": "stream",
     "text": [
      "Tag not found in https://www.amazon.com/product-reviews/B0C6YGBTTM/ref=cm_cr_dp_d_show_all_top?ie=UTF8&reviewerType=all_reviews&sortBy=recent\n",
      "Tag not found in https://www.amazon.com/product-reviews/B0C6YGBTTM/ref=cm_cr_dp_d_show_all_top?ie=UTF8&reviewerType=all_reviews&sortBy=recent\n"
     ]
    },
    {
     "name": "stderr",
     "output_type": "stream",
     "text": [
      "INFO:root:Successfully scraped total 699 rating for product B081LRX8L2\n"
     ]
    },
    {
     "name": "stdout",
     "output_type": "stream",
     "text": [
      "Helpful Text: 2 people found this helpful\n",
      "Tag not found in https://www.amazon.com/product-reviews/B015QCSXGO/ref=cm_cr_dp_d_show_all_top?ie=UTF8&reviewerType=all_reviews&sortBy=recent\n"
     ]
    },
    {
     "name": "stderr",
     "output_type": "stream",
     "text": [
      "INFO:root:Successfully scraped total 118 rating for product B0B8NP615F\n"
     ]
    },
    {
     "name": "stdout",
     "output_type": "stream",
     "text": [
      "Tag not found in https://www.amazon.com/product-reviews/B081LRX8L2/ref=cm_cr_dp_d_show_all_top?ie=UTF8&reviewerType=all_reviews&sortBy=recent\n",
      "Tag not found in https://www.amazon.com/product-reviews/B081LRX8L2/ref=cm_cr_dp_d_show_all_top?ie=UTF8&reviewerType=all_reviews&sortBy=recent\n"
     ]
    },
    {
     "name": "stderr",
     "output_type": "stream",
     "text": [
      "INFO:root:Successfully scraped total 4766 rating for product B0B1ZSJCKL\n"
     ]
    },
    {
     "name": "stdout",
     "output_type": "stream",
     "text": [
      "Tag not found in https://www.amazon.com/product-reviews/B0B8NP615F/ref=cm_cr_dp_d_show_all_top?ie=UTF8&reviewerType=all_reviews&sortBy=recent\n",
      "Tag not found in https://www.amazon.com/product-reviews/B0B8NP615F/ref=cm_cr_dp_d_show_all_top?ie=UTF8&reviewerType=all_reviews&sortBy=recent\n"
     ]
    },
    {
     "name": "stderr",
     "output_type": "stream",
     "text": [
      "INFO:root:Successfully scraped total 27 rating for product B09VGY98HW\n"
     ]
    },
    {
     "name": "stdout",
     "output_type": "stream",
     "text": [
      "Helpful Text: One person found this helpful\n",
      "Tag not found in https://www.amazon.com/product-reviews/B0B1ZSJCKL/ref=cm_cr_dp_d_show_all_top?ie=UTF8&reviewerType=all_reviews&sortBy=recent\n"
     ]
    },
    {
     "name": "stderr",
     "output_type": "stream",
     "text": [
      "INFO:root:Successfully scraped total 58 rating for product B0C26RM3X8\n"
     ]
    },
    {
     "name": "stdout",
     "output_type": "stream",
     "text": [
      "Helpful Text: One person found this helpful\n",
      "Tag not found in https://www.amazon.com/product-reviews/B09VGY98HW/ref=cm_cr_dp_d_show_all_top?ie=UTF8&reviewerType=all_reviews&sortBy=recent\n"
     ]
    },
    {
     "name": "stderr",
     "output_type": "stream",
     "text": [
      "INFO:root:Successfully scraped total 175 rating for product B0BR7RWDLB\n"
     ]
    },
    {
     "name": "stdout",
     "output_type": "stream",
     "text": [
      "Helpful Text: 2 people found this helpful\n",
      "Tag not found in https://www.amazon.com/product-reviews/B0C26RM3X8/ref=cm_cr_dp_d_show_all_top?ie=UTF8&reviewerType=all_reviews&sortBy=recent\n"
     ]
    },
    {
     "name": "stderr",
     "output_type": "stream",
     "text": [
      "INFO:root:Successfully scraped total 5772 rating for product B0C57CMXP8\n"
     ]
    },
    {
     "name": "stdout",
     "output_type": "stream",
     "text": [
      "Tag not found in https://www.amazon.com/product-reviews/B0BR7RWDLB/ref=cm_cr_dp_d_show_all_top?ie=UTF8&reviewerType=all_reviews&sortBy=recent\n",
      "Tag not found in https://www.amazon.com/product-reviews/B0BR7RWDLB/ref=cm_cr_dp_d_show_all_top?ie=UTF8&reviewerType=all_reviews&sortBy=recent\n"
     ]
    },
    {
     "name": "stderr",
     "output_type": "stream",
     "text": [
      "INFO:root:Successfully scraped total 4351 rating for product B07D21RLLX\n"
     ]
    },
    {
     "name": "stdout",
     "output_type": "stream",
     "text": [
      "Helpful Text: 10 people found this helpful\n",
      "Tag not found in https://www.amazon.com/product-reviews/B0C57CMXP8/ref=cm_cr_dp_d_show_all_top?ie=UTF8&reviewerType=all_reviews&sortBy=recent\n"
     ]
    },
    {
     "name": "stderr",
     "output_type": "stream",
     "text": [
      "INFO:root:Successfully scraped total 10 rating for product B0CGV5RDPZ\n"
     ]
    },
    {
     "name": "stdout",
     "output_type": "stream",
     "text": [
      "Tag not found in https://www.amazon.com/product-reviews/B07D21RLLX/ref=cm_cr_dp_d_show_all_top?ie=UTF8&reviewerType=all_reviews&sortBy=recent\n",
      "Tag not found in https://www.amazon.com/product-reviews/B07D21RLLX/ref=cm_cr_dp_d_show_all_top?ie=UTF8&reviewerType=all_reviews&sortBy=recent\n"
     ]
    },
    {
     "name": "stderr",
     "output_type": "stream",
     "text": [
      "INFO:root:Successfully scraped total 215 rating for product B07KW42C5S\n"
     ]
    },
    {
     "name": "stdout",
     "output_type": "stream",
     "text": [
      "Helpful Text: One person found this helpful\n",
      "Helpful Text: One person found this helpful\n"
     ]
    },
    {
     "name": "stderr",
     "output_type": "stream",
     "text": [
      "INFO:root:Successfully scraped total 838 rating for product B0B9ZSRND1\n"
     ]
    },
    {
     "name": "stdout",
     "output_type": "stream",
     "text": [
      "Helpful Text: 3 people found this helpful\n",
      "Tag not found in https://www.amazon.com/product-reviews/B07KW42C5S/ref=cm_cr_dp_d_show_all_top?ie=UTF8&reviewerType=all_reviews&sortBy=recent\n"
     ]
    },
    {
     "name": "stderr",
     "output_type": "stream",
     "text": [
      "INFO:root:Successfully scraped total 24 rating for product B0C77TRJ2G\n"
     ]
    },
    {
     "name": "stdout",
     "output_type": "stream",
     "text": [
      "Helpful Text: 4 people found this helpful\n",
      "Helpful Text: One person found this helpful\n"
     ]
    },
    {
     "name": "stderr",
     "output_type": "stream",
     "text": [
      "INFO:root:Successfully scraped total 11516 rating for product B01HG74QRC\n"
     ]
    },
    {
     "name": "stdout",
     "output_type": "stream",
     "text": [
      "Tag not found in https://www.amazon.com/product-reviews/B0C77TRJ2G/ref=cm_cr_dp_d_show_all_top?ie=UTF8&reviewerType=all_reviews&sortBy=recent\n",
      "Tag not found in https://www.amazon.com/product-reviews/B0C77TRJ2G/ref=cm_cr_dp_d_show_all_top?ie=UTF8&reviewerType=all_reviews&sortBy=recent\n"
     ]
    },
    {
     "name": "stderr",
     "output_type": "stream",
     "text": [
      "INFO:root:Successfully scraped total 697 rating for product B0BPWL2TFP\n"
     ]
    },
    {
     "name": "stdout",
     "output_type": "stream",
     "text": [
      "Tag not found in https://www.amazon.com/product-reviews/B01HG74QRC/ref=cm_cr_dp_d_show_all_top?ie=UTF8&reviewerType=all_reviews&sortBy=recent\n",
      "Tag not found in https://www.amazon.com/product-reviews/B01HG74QRC/ref=cm_cr_dp_d_show_all_top?ie=UTF8&reviewerType=all_reviews&sortBy=recent\n"
     ]
    },
    {
     "name": "stderr",
     "output_type": "stream",
     "text": [
      "INFO:root:Successfully scraped total 4549 rating for product B07D34KYY9\n"
     ]
    },
    {
     "name": "stdout",
     "output_type": "stream",
     "text": [
      "Tag not found in https://www.amazon.com/product-reviews/B0BPWL2TFP/ref=cm_cr_dp_d_show_all_top?ie=UTF8&reviewerType=all_reviews&sortBy=recent\n",
      "Helpful Text: One person found this helpful\n"
     ]
    },
    {
     "name": "stderr",
     "output_type": "stream",
     "text": [
      "INFO:root:Successfully scraped total 151206 rating for product B07QNS3HZJ\n"
     ]
    },
    {
     "name": "stdout",
     "output_type": "stream",
     "text": [
      "Helpful Text: 7 people found this helpful\n",
      "Tag not found in https://www.amazon.com/product-reviews/B07D34KYY9/ref=cm_cr_dp_d_show_all_top?ie=UTF8&reviewerType=all_reviews&sortBy=recent\n"
     ]
    },
    {
     "name": "stderr",
     "output_type": "stream",
     "text": [
      "INFO:root:Successfully scraped total 119 rating for product B0BLTHLD33\n"
     ]
    },
    {
     "name": "stdout",
     "output_type": "stream",
     "text": [
      "Helpful Text: 94 people found this helpful\n",
      "Tag not found in https://www.amazon.com/product-reviews/B07QNS3HZJ/ref=cm_cr_dp_d_show_all_top?ie=UTF8&reviewerType=all_reviews&sortBy=recent\n"
     ]
    },
    {
     "name": "stderr",
     "output_type": "stream",
     "text": [
      "INFO:root:Successfully scraped total 58 rating for product B0CGDL9QRT\n"
     ]
    },
    {
     "name": "stdout",
     "output_type": "stream",
     "text": [
      "Tag not found in https://www.amazon.com/product-reviews/B0BLTHLD33/ref=cm_cr_dp_d_show_all_top?ie=UTF8&reviewerType=all_reviews&sortBy=recent\n",
      "Helpful Text: 3 people found this helpful\n"
     ]
    },
    {
     "name": "stderr",
     "output_type": "stream",
     "text": [
      "INFO:root:Successfully scraped total 75 rating for product B0CD1WY746\n",
      "INFO:root:Successfully scraped total 23 rating for product B0CB2SWGVF\n",
      "INFO:root:Successfully scraped total 7720 rating for product B08LMRXJNZ\n",
      "INFO:root:Successfully scraped total 199 rating for product B0BCN16W3V\n"
     ]
    },
    {
     "name": "stdout",
     "output_type": "stream",
     "text": [
      "Tag not found in https://www.amazon.com/product-reviews/B08LMRXJNZ/ref=cm_cr_dp_d_show_all_top?ie=UTF8&reviewerType=all_reviews&sortBy=recent\n",
      "Helpful Text: One person found this helpful\n"
     ]
    },
    {
     "name": "stderr",
     "output_type": "stream",
     "text": [
      "INFO:root:Successfully scraped total 890 rating for product B09NP2P25T\n"
     ]
    },
    {
     "name": "stdout",
     "output_type": "stream",
     "text": [
      "Tag not found in https://www.amazon.com/product-reviews/B0BCN16W3V/ref=cm_cr_dp_d_show_all_top?ie=UTF8&reviewerType=all_reviews&sortBy=recent\n",
      "Tag not found in https://www.amazon.com/product-reviews/B0BCN16W3V/ref=cm_cr_dp_d_show_all_top?ie=UTF8&reviewerType=all_reviews&sortBy=recent\n"
     ]
    },
    {
     "name": "stderr",
     "output_type": "stream",
     "text": [
      "INFO:root:Successfully scraped total 150 rating for product B0C38M8XJN\n"
     ]
    },
    {
     "name": "stdout",
     "output_type": "stream",
     "text": [
      "Tag not found in https://www.amazon.com/product-reviews/B09NP2P25T/ref=cm_cr_dp_d_show_all_top?ie=UTF8&reviewerType=all_reviews&sortBy=recent\n",
      "Helpful Text: One person found this helpful\n"
     ]
    },
    {
     "name": "stderr",
     "output_type": "stream",
     "text": [
      "INFO:root:Successfully scraped total 63 rating for product B0BYV7LDMS\n"
     ]
    },
    {
     "name": "stdout",
     "output_type": "stream",
     "text": [
      "Tag not found in https://www.amazon.com/product-reviews/B0C38M8XJN/ref=cm_cr_dp_d_show_all_top?ie=UTF8&reviewerType=all_reviews&sortBy=recent\n",
      "Tag not found in https://www.amazon.com/product-reviews/B0C38M8XJN/ref=cm_cr_dp_d_show_all_top?ie=UTF8&reviewerType=all_reviews&sortBy=recent\n"
     ]
    },
    {
     "name": "stderr",
     "output_type": "stream",
     "text": [
      "INFO:root:Successfully scraped total 162 rating for product B0B564N9Q3\n"
     ]
    },
    {
     "name": "stdout",
     "output_type": "stream",
     "text": [
      "Tag not found in https://www.amazon.com/product-reviews/B0BYV7LDMS/ref=cm_cr_dp_d_show_all_top?ie=UTF8&reviewerType=all_reviews&sortBy=recent\n",
      "Tag not found in https://www.amazon.com/product-reviews/B0BYV7LDMS/ref=cm_cr_dp_d_show_all_top?ie=UTF8&reviewerType=all_reviews&sortBy=recent\n"
     ]
    },
    {
     "name": "stderr",
     "output_type": "stream",
     "text": [
      "INFO:root:Successfully scraped total 1834 rating for product B0C3K2WT1T\n"
     ]
    },
    {
     "name": "stdout",
     "output_type": "stream",
     "text": [
      "Tag not found in https://www.amazon.com/product-reviews/B0B564N9Q3/ref=cm_cr_dp_d_show_all_top?ie=UTF8&reviewerType=all_reviews&sortBy=recent\n",
      "Tag not found in https://www.amazon.com/product-reviews/B0B564N9Q3/ref=cm_cr_dp_d_show_all_top?ie=UTF8&reviewerType=all_reviews&sortBy=recent\n"
     ]
    },
    {
     "name": "stderr",
     "output_type": "stream",
     "text": [
      "INFO:root:Successfully scraped total 33 rating for product B0BRZ4LWQ6\n"
     ]
    },
    {
     "name": "stdout",
     "output_type": "stream",
     "text": [
      "Tag not found in https://www.amazon.com/product-reviews/B0C3K2WT1T/ref=cm_cr_dp_d_show_all_top?ie=UTF8&reviewerType=all_reviews&sortBy=recent\n",
      "Tag not found in https://www.amazon.com/product-reviews/B0C3K2WT1T/ref=cm_cr_dp_d_show_all_top?ie=UTF8&reviewerType=all_reviews&sortBy=recent\n"
     ]
    },
    {
     "name": "stderr",
     "output_type": "stream",
     "text": [
      "INFO:root:Successfully scraped total 49 rating for product B0C8J32WGD\n",
      "INFO:root:Successfully scraped total 4 rating for product B0BYD15YMQ\n",
      "INFO:root:Successfully scraped total 4691 rating for product B0C6JJWMS4\n",
      "INFO:root:Successfully scraped total 53 rating for product B0BFPL54BN\n"
     ]
    },
    {
     "name": "stdout",
     "output_type": "stream",
     "text": [
      "Tag not found in https://www.amazon.com/product-reviews/B0C6JJWMS4/ref=cm_cr_dp_d_show_all_top?ie=UTF8&reviewerType=all_reviews&sortBy=recent\n",
      "Tag not found in https://www.amazon.com/product-reviews/B0C6JJWMS4/ref=cm_cr_dp_d_show_all_top?ie=UTF8&reviewerType=all_reviews&sortBy=recent\n"
     ]
    },
    {
     "name": "stderr",
     "output_type": "stream",
     "text": [
      "INFO:root:Successfully scraped total 74 rating for product B0BM9M1FJZ\n",
      "INFO:root:Successfully scraped total 582 rating for product B07YN3CV84\n"
     ]
    },
    {
     "name": "stdout",
     "output_type": "stream",
     "text": [
      "Tag not found in https://www.amazon.com/product-reviews/B0BM9M1FJZ/ref=cm_cr_dp_d_show_all_top?ie=UTF8&reviewerType=all_reviews&sortBy=recent\n",
      "Tag not found in https://www.amazon.com/product-reviews/B0BM9M1FJZ/ref=cm_cr_dp_d_show_all_top?ie=UTF8&reviewerType=all_reviews&sortBy=recent\n"
     ]
    },
    {
     "name": "stderr",
     "output_type": "stream",
     "text": [
      "WARNING:root:Failed to scrape total rating for product \n",
      "WARNING:root:Failed to scrape total rating for product \n",
      "WARNING:root:Failed to scrape total rating for product \n",
      "WARNING:root:Failed to scrape total rating for product \n"
     ]
    },
    {
     "name": "stdout",
     "output_type": "stream",
     "text": [
      "Helpful Text: 21 people found this helpful\n",
      "Tag not found in https://www.amazon.com/product-reviews/B07YN3CV84/ref=cm_cr_dp_d_show_all_top?ie=UTF8&reviewerType=all_reviews&sortBy=recent\n",
      "Failed to scrape item name in https://www.amazon.com/s?k=accessories+for+clothes&ref=nb_sb_noss&page=2\n",
      "Failed to scrape item name in https://www.amazon.com/s?k=accessories+for+clothes&ref=nb_sb_noss&page=2\n",
      "Failed to scrape item name in https://www.amazon.com/s?k=accessories+for+clothes&ref=nb_sb_noss&page=2\n",
      "Failed to scrape item name in https://www.amazon.com/s?k=accessories+for+clothes&ref=nb_sb_noss&page=2\n"
     ]
    },
    {
     "name": "stderr",
     "output_type": "stream",
     "text": [
      "WARNING:root:Failed to scrape total rating for product \n",
      "INFO:root:Successfully scraped total 9050 rating for product B07X3ZB7SW\n",
      "INFO:root:Successfully scraped total 179 rating for product B0BR7YHHWK\n"
     ]
    },
    {
     "name": "stdout",
     "output_type": "stream",
     "text": [
      "Tag not found in https://www.amazon.com/product-reviews/B07X3ZB7SW/ref=cm_cr_dp_d_show_all_top?ie=UTF8&reviewerType=all_reviews&sortBy=recent\n",
      "Helpful Text: 2 people found this helpful\n"
     ]
    },
    {
     "name": "stderr",
     "output_type": "stream",
     "text": [
      "INFO:root:Successfully scraped total 1654 rating for product B07LDVXH48\n"
     ]
    },
    {
     "name": "stdout",
     "output_type": "stream",
     "text": [
      "Helpful Text: 18 people found this helpful\n",
      "Tag not found in https://www.amazon.com/product-reviews/B0BR7YHHWK/ref=cm_cr_dp_d_show_all_top?ie=UTF8&reviewerType=all_reviews&sortBy=recent\n"
     ]
    },
    {
     "name": "stderr",
     "output_type": "stream",
     "text": [
      "INFO:root:Successfully scraped total 686 rating for product B09YCLF9DM\n"
     ]
    },
    {
     "name": "stdout",
     "output_type": "stream",
     "text": [
      "Tag not found in https://www.amazon.com/product-reviews/B07LDVXH48/ref=cm_cr_dp_d_show_all_top?ie=UTF8&reviewerType=all_reviews&sortBy=recent\n",
      "Helpful Text: 2 people found this helpful\n"
     ]
    },
    {
     "name": "stderr",
     "output_type": "stream",
     "text": [
      "INFO:root:Successfully scraped total 890 rating for product B09NP2P25T\n",
      "INFO:root:Successfully scraped total 10 rating for product B0C743KTXK\n"
     ]
    },
    {
     "name": "stdout",
     "output_type": "stream",
     "text": [
      "Tag not found in https://www.amazon.com/product-reviews/B09YCLF9DM/ref=cm_cr_dp_d_show_all_top?ie=UTF8&reviewerType=all_reviews&sortBy=recent\n",
      "Tag not found in https://www.amazon.com/product-reviews/B09YCLF9DM/ref=cm_cr_dp_d_show_all_top?ie=UTF8&reviewerType=all_reviews&sortBy=recent\n"
     ]
    },
    {
     "name": "stderr",
     "output_type": "stream",
     "text": [
      "INFO:root:Successfully scraped total 103 rating for product B0BRBS77QT\n",
      "INFO:root:Successfully scraped total 1548 rating for product \n",
      "WARNING:root:Failed to scrape total rating for product \n",
      "INFO:root:Successfully scraped total 129 rating for product B09GLPM5RL\n"
     ]
    },
    {
     "name": "stdout",
     "output_type": "stream",
     "text": [
      "Tag not found in https://www.amazon.com/product-reviews/B0BRBS77QT/ref=cm_cr_dp_d_show_all_top?ie=UTF8&reviewerType=all_reviews&sortBy=recent\n",
      "Helpful Text: One person found this helpful\n",
      "Failed to scrape item name in https://www.amazon.com/s?k=accessories+for+clothes&ref=nb_sb_noss&page=3\n"
     ]
    },
    {
     "name": "stderr",
     "output_type": "stream",
     "text": [
      "INFO:root:Successfully scraped total 275 rating for product B087QVMKK3\n"
     ]
    },
    {
     "name": "stdout",
     "output_type": "stream",
     "text": [
      "Tag not found in https://www.amazon.com/product-reviews/B09GLPM5RL/ref=cm_cr_dp_d_show_all_top?ie=UTF8&reviewerType=all_reviews&sortBy=recent\n",
      "Helpful Text: 2 people found this helpful\n"
     ]
    },
    {
     "name": "stderr",
     "output_type": "stream",
     "text": [
      "INFO:root:Successfully scraped total 14 rating for product B0B81ZFNR6\n"
     ]
    },
    {
     "name": "stdout",
     "output_type": "stream",
     "text": [
      "Tag not found in https://www.amazon.com/product-reviews/B087QVMKK3/ref=cm_cr_dp_d_show_all_top?ie=UTF8&reviewerType=all_reviews&sortBy=recent\n",
      "Tag not found in https://www.amazon.com/product-reviews/B087QVMKK3/ref=cm_cr_dp_d_show_all_top?ie=UTF8&reviewerType=all_reviews&sortBy=recent\n"
     ]
    },
    {
     "name": "stderr",
     "output_type": "stream",
     "text": [
      "INFO:root:Successfully scraped total 17 rating for product B0BC136WV4\n",
      "INFO:root:Successfully scraped total 363 rating for product B0B8SQ19RT\n",
      "INFO:root:Successfully scraped total 65 rating for product B0B2VKLWJ8\n"
     ]
    },
    {
     "name": "stdout",
     "output_type": "stream",
     "text": [
      "Tag not found in https://www.amazon.com/product-reviews/B0B8SQ19RT/ref=cm_cr_dp_d_show_all_top?ie=UTF8&reviewerType=all_reviews&sortBy=recent\n",
      "Tag not found in https://www.amazon.com/product-reviews/B0B8SQ19RT/ref=cm_cr_dp_d_show_all_top?ie=UTF8&reviewerType=all_reviews&sortBy=recent\n"
     ]
    },
    {
     "name": "stderr",
     "output_type": "stream",
     "text": [
      "INFO:root:Successfully scraped total 2604 rating for product B01M28O33Y\n",
      "INFO:root:Successfully scraped total 45 rating for product B0C7GYTGM3\n"
     ]
    },
    {
     "name": "stdout",
     "output_type": "stream",
     "text": [
      "Tag not found in https://www.amazon.com/product-reviews/B01M28O33Y/ref=cm_cr_dp_d_show_all_top?ie=UTF8&reviewerType=all_reviews&sortBy=recent\n",
      "Helpful Text: One person found this helpful\n"
     ]
    },
    {
     "name": "stderr",
     "output_type": "stream",
     "text": [
      "INFO:root:Successfully scraped total 866 rating for product B0BD4WW671\n"
     ]
    },
    {
     "name": "stdout",
     "output_type": "stream",
     "text": [
      "Tag not found in https://www.amazon.com/product-reviews/B0C7GYTGM3/ref=cm_cr_dp_d_show_all_top?ie=UTF8&reviewerType=all_reviews&sortBy=recent\n",
      "Tag not found in https://www.amazon.com/product-reviews/B0C7GYTGM3/ref=cm_cr_dp_d_show_all_top?ie=UTF8&reviewerType=all_reviews&sortBy=recent\n"
     ]
    },
    {
     "name": "stderr",
     "output_type": "stream",
     "text": [
      "INFO:root:Successfully scraped total 929 rating for product B08T1872YM\n"
     ]
    },
    {
     "name": "stdout",
     "output_type": "stream",
     "text": [
      "Helpful Text: One person found this helpful\n",
      "Helpful Text: One person found this helpful\n"
     ]
    },
    {
     "name": "stderr",
     "output_type": "stream",
     "text": [
      "INFO:root:Successfully scraped total 2597 rating for product B01NASKU7X\n"
     ]
    },
    {
     "name": "stdout",
     "output_type": "stream",
     "text": [
      "Tag not found in https://www.amazon.com/product-reviews/B08T1872YM/ref=cm_cr_dp_d_show_all_top?ie=UTF8&reviewerType=all_reviews&sortBy=recent\n",
      "Helpful Text: 3 people found this helpful\n"
     ]
    },
    {
     "name": "stderr",
     "output_type": "stream",
     "text": [
      "INFO:root:Successfully scraped total 533 rating for product B0BPY79993\n"
     ]
    },
    {
     "name": "stdout",
     "output_type": "stream",
     "text": [
      "Helpful Text: One person found this helpful\n",
      "Helpful Text: One person found this helpful\n"
     ]
    },
    {
     "name": "stderr",
     "output_type": "stream",
     "text": [
      "INFO:root:Successfully scraped total 10 rating for product B0C23RNRKQ\n"
     ]
    },
    {
     "name": "stdout",
     "output_type": "stream",
     "text": [
      "Tag not found in https://www.amazon.com/product-reviews/B0BPY79993/ref=cm_cr_dp_d_show_all_top?ie=UTF8&reviewerType=all_reviews&sortBy=recent\n",
      "Tag not found in https://www.amazon.com/product-reviews/B0BPY79993/ref=cm_cr_dp_d_show_all_top?ie=UTF8&reviewerType=all_reviews&sortBy=recent\n"
     ]
    },
    {
     "name": "stderr",
     "output_type": "stream",
     "text": [
      "INFO:root:Successfully scraped total 133 rating for product B0C6KN7X18\n",
      "INFO:root:Successfully scraped total 80 rating for product B0BLTDSP24\n"
     ]
    },
    {
     "name": "stdout",
     "output_type": "stream",
     "text": [
      "Helpful Text: One person found this helpful\n",
      "Tag not found in https://www.amazon.com/product-reviews/B0C6KN7X18/ref=cm_cr_dp_d_show_all_top?ie=UTF8&reviewerType=all_reviews&sortBy=recent\n"
     ]
    },
    {
     "name": "stderr",
     "output_type": "stream",
     "text": [
      "INFO:root:Successfully scraped total 20152 rating for product B0BXNH1XTH\n"
     ]
    },
    {
     "name": "stdout",
     "output_type": "stream",
     "text": [
      "Helpful Text: One person found this helpful\n",
      "Helpful Text: One person found this helpful\n"
     ]
    },
    {
     "name": "stderr",
     "output_type": "stream",
     "text": [
      "INFO:root:Successfully scraped total 657 rating for product B087TD97CV\n"
     ]
    },
    {
     "name": "stdout",
     "output_type": "stream",
     "text": [
      "Tag not found in https://www.amazon.com/product-reviews/B0BXNH1XTH/ref=cm_cr_dp_d_show_all_top?ie=UTF8&reviewerType=all_reviews&sortBy=recent\n",
      "Tag not found in https://www.amazon.com/product-reviews/B0BXNH1XTH/ref=cm_cr_dp_d_show_all_top?ie=UTF8&reviewerType=all_reviews&sortBy=recent\n"
     ]
    },
    {
     "name": "stderr",
     "output_type": "stream",
     "text": [
      "INFO:root:Successfully scraped total 173 rating for product B0BP9RRZ75\n"
     ]
    },
    {
     "name": "stdout",
     "output_type": "stream",
     "text": [
      "Tag not found in https://www.amazon.com/product-reviews/B087TD97CV/ref=cm_cr_dp_d_show_all_top?ie=UTF8&reviewerType=all_reviews&sortBy=recent\n",
      "Tag not found in https://www.amazon.com/product-reviews/B087TD97CV/ref=cm_cr_dp_d_show_all_top?ie=UTF8&reviewerType=all_reviews&sortBy=recent\n"
     ]
    },
    {
     "name": "stderr",
     "output_type": "stream",
     "text": [
      "INFO:root:Successfully scraped total 1640 rating for product B097PVWBHX\n"
     ]
    },
    {
     "name": "stdout",
     "output_type": "stream",
     "text": [
      "Tag not found in https://www.amazon.com/product-reviews/B0BP9RRZ75/ref=cm_cr_dp_d_show_all_top?ie=UTF8&reviewerType=all_reviews&sortBy=recent\n",
      "Tag not found in https://www.amazon.com/product-reviews/B0BP9RRZ75/ref=cm_cr_dp_d_show_all_top?ie=UTF8&reviewerType=all_reviews&sortBy=recent\n"
     ]
    },
    {
     "name": "stderr",
     "output_type": "stream",
     "text": [
      "INFO:root:Successfully scraped total 2599 rating for product B0CD42KHB4\n"
     ]
    },
    {
     "name": "stdout",
     "output_type": "stream",
     "text": [
      "Tag not found in https://www.amazon.com/product-reviews/B097PVWBHX/ref=cm_cr_dp_d_show_all_top?ie=UTF8&reviewerType=all_reviews&sortBy=recent\n",
      "Tag not found in https://www.amazon.com/product-reviews/B097PVWBHX/ref=cm_cr_dp_d_show_all_top?ie=UTF8&reviewerType=all_reviews&sortBy=recent\n"
     ]
    },
    {
     "name": "stderr",
     "output_type": "stream",
     "text": [
      "INFO:root:Successfully scraped total 4308 rating for product B015QCUKFQ\n"
     ]
    },
    {
     "name": "stdout",
     "output_type": "stream",
     "text": [
      "Helpful Text: One person found this helpful\n",
      "Tag not found in https://www.amazon.com/product-reviews/B0CD42KHB4/ref=cm_cr_dp_d_show_all_top?ie=UTF8&reviewerType=all_reviews&sortBy=recent\n"
     ]
    },
    {
     "name": "stderr",
     "output_type": "stream",
     "text": [
      "INFO:root:Successfully scraped total 555 rating for product B08QMBF3S2\n"
     ]
    },
    {
     "name": "stdout",
     "output_type": "stream",
     "text": [
      "Helpful Text: 2 people found this helpful\n",
      "Tag not found in https://www.amazon.com/product-reviews/B015QCUKFQ/ref=cm_cr_dp_d_show_all_top?ie=UTF8&reviewerType=all_reviews&sortBy=recent\n"
     ]
    },
    {
     "name": "stderr",
     "output_type": "stream",
     "text": [
      "INFO:root:Successfully scraped total 89 rating for product B0CCDNZH55\n"
     ]
    },
    {
     "name": "stdout",
     "output_type": "stream",
     "text": [
      "Tag not found in https://www.amazon.com/product-reviews/B08QMBF3S2/ref=cm_cr_dp_d_show_all_top?ie=UTF8&reviewerType=all_reviews&sortBy=recent\n",
      "Tag not found in https://www.amazon.com/product-reviews/B08QMBF3S2/ref=cm_cr_dp_d_show_all_top?ie=UTF8&reviewerType=all_reviews&sortBy=recent\n"
     ]
    },
    {
     "name": "stderr",
     "output_type": "stream",
     "text": [
      "INFO:root:Successfully scraped total 485 rating for product B07RNK1FLY\n",
      "INFO:root:Successfully scraped total 125 rating for product B094J8Q8KS\n"
     ]
    },
    {
     "name": "stdout",
     "output_type": "stream",
     "text": [
      "Tag not found in https://www.amazon.com/product-reviews/B07RNK1FLY/ref=cm_cr_dp_d_show_all_top?ie=UTF8&reviewerType=all_reviews&sortBy=recent\n",
      "Tag not found in https://www.amazon.com/product-reviews/B07RNK1FLY/ref=cm_cr_dp_d_show_all_top?ie=UTF8&reviewerType=all_reviews&sortBy=recent\n"
     ]
    },
    {
     "name": "stderr",
     "output_type": "stream",
     "text": [
      "INFO:root:Successfully scraped total 39 rating for product B0BSDXNYFZ\n"
     ]
    },
    {
     "name": "stdout",
     "output_type": "stream",
     "text": [
      "Tag not found in https://www.amazon.com/product-reviews/B094J8Q8KS/ref=cm_cr_dp_d_show_all_top?ie=UTF8&reviewerType=all_reviews&sortBy=recent\n",
      "Tag not found in https://www.amazon.com/product-reviews/B094J8Q8KS/ref=cm_cr_dp_d_show_all_top?ie=UTF8&reviewerType=all_reviews&sortBy=recent\n"
     ]
    },
    {
     "name": "stderr",
     "output_type": "stream",
     "text": [
      "INFO:root:Successfully scraped total 3414 rating for product B08BLKN4XJ\n"
     ]
    },
    {
     "name": "stdout",
     "output_type": "stream",
     "text": [
      "Helpful Text: One person found this helpful\n",
      "Tag not found in https://www.amazon.com/product-reviews/B0BSDXNYFZ/ref=cm_cr_dp_d_show_all_top?ie=UTF8&reviewerType=all_reviews&sortBy=recent\n"
     ]
    },
    {
     "name": "stderr",
     "output_type": "stream",
     "text": [
      "INFO:root:Successfully scraped total 1931 rating for product B08RD3RWDD\n"
     ]
    },
    {
     "name": "stdout",
     "output_type": "stream",
     "text": [
      "Tag not found in https://www.amazon.com/product-reviews/B08BLKN4XJ/ref=cm_cr_dp_d_show_all_top?ie=UTF8&reviewerType=all_reviews&sortBy=recent\n",
      "Tag not found in https://www.amazon.com/product-reviews/B08BLKN4XJ/ref=cm_cr_dp_d_show_all_top?ie=UTF8&reviewerType=all_reviews&sortBy=recent\n"
     ]
    },
    {
     "name": "stderr",
     "output_type": "stream",
     "text": [
      "INFO:root:Successfully scraped total 13 rating for product B0CFL1TBQZ\n"
     ]
    },
    {
     "name": "stdout",
     "output_type": "stream",
     "text": [
      "Tag not found in https://www.amazon.com/product-reviews/B08RD3RWDD/ref=cm_cr_dp_d_show_all_top?ie=UTF8&reviewerType=all_reviews&sortBy=recent\n",
      "Tag not found in https://www.amazon.com/product-reviews/B08RD3RWDD/ref=cm_cr_dp_d_show_all_top?ie=UTF8&reviewerType=all_reviews&sortBy=recent\n"
     ]
    },
    {
     "name": "stderr",
     "output_type": "stream",
     "text": [
      "INFO:root:Successfully scraped total 63 rating for product B0CB47G7NP\n",
      "INFO:root:Successfully scraped total 502 rating for product B0BZTYJNB3\n"
     ]
    },
    {
     "name": "stdout",
     "output_type": "stream",
     "text": [
      "Helpful Text: 6 people found this helpful\n",
      "Tag not found in https://www.amazon.com/product-reviews/B0CB47G7NP/ref=cm_cr_dp_d_show_all_top?ie=UTF8&reviewerType=all_reviews&sortBy=recent\n"
     ]
    },
    {
     "name": "stderr",
     "output_type": "stream",
     "text": [
      "INFO:root:Successfully scraped total 7274 rating for product B099R51ZCL\n"
     ]
    },
    {
     "name": "stdout",
     "output_type": "stream",
     "text": [
      "Tag not found in https://www.amazon.com/product-reviews/B0BZTYJNB3/ref=cm_cr_dp_d_show_all_top?ie=UTF8&reviewerType=all_reviews&sortBy=recent\n",
      "Tag not found in https://www.amazon.com/product-reviews/B0BZTYJNB3/ref=cm_cr_dp_d_show_all_top?ie=UTF8&reviewerType=all_reviews&sortBy=recent\n"
     ]
    },
    {
     "name": "stderr",
     "output_type": "stream",
     "text": [
      "INFO:root:Successfully scraped total 21 rating for product B0C3WH2B7L\n"
     ]
    },
    {
     "name": "stdout",
     "output_type": "stream",
     "text": [
      "Helpful Text: 6 people found this helpful\n",
      "Tag not found in https://www.amazon.com/product-reviews/B099R51ZCL/ref=cm_cr_dp_d_show_all_top?ie=UTF8&reviewerType=all_reviews&sortBy=recent\n"
     ]
    },
    {
     "name": "stderr",
     "output_type": "stream",
     "text": [
      "INFO:root:Successfully scraped total 83549 rating for product B017781YL6\n"
     ]
    },
    {
     "name": "stdout",
     "output_type": "stream",
     "text": [
      "Tag not found in https://www.amazon.com/product-reviews/B0C3WH2B7L/ref=cm_cr_dp_d_show_all_top?ie=UTF8&reviewerType=all_reviews&sortBy=recent\n",
      "Tag not found in https://www.amazon.com/product-reviews/B0C3WH2B7L/ref=cm_cr_dp_d_show_all_top?ie=UTF8&reviewerType=all_reviews&sortBy=recent\n"
     ]
    },
    {
     "name": "stderr",
     "output_type": "stream",
     "text": [
      "INFO:root:Successfully scraped total 524 rating for product B0B21452D6\n"
     ]
    },
    {
     "name": "stdout",
     "output_type": "stream",
     "text": [
      "Helpful Text: 7 people found this helpful\n",
      "Tag not found in https://www.amazon.com/product-reviews/B017781YL6/ref=cm_cr_dp_d_show_all_top?ie=UTF8&reviewerType=all_reviews&sortBy=recent\n"
     ]
    },
    {
     "name": "stderr",
     "output_type": "stream",
     "text": [
      "INFO:root:Successfully scraped total 252 rating for product B0C2TS1M1Y\n"
     ]
    },
    {
     "name": "stdout",
     "output_type": "stream",
     "text": [
      "Tag not found in https://www.amazon.com/product-reviews/B0B21452D6/ref=cm_cr_dp_d_show_all_top?ie=UTF8&reviewerType=all_reviews&sortBy=recent\n",
      "Tag not found in https://www.amazon.com/product-reviews/B0B21452D6/ref=cm_cr_dp_d_show_all_top?ie=UTF8&reviewerType=all_reviews&sortBy=recent\n"
     ]
    },
    {
     "name": "stderr",
     "output_type": "stream",
     "text": [
      "INFO:root:Successfully scraped total 84 rating for product B0BLV8LKVS\n"
     ]
    },
    {
     "name": "stdout",
     "output_type": "stream",
     "text": [
      "Helpful Text: 4 people found this helpful\n",
      "Helpful Text: One person found this helpful\n"
     ]
    },
    {
     "name": "stderr",
     "output_type": "stream",
     "text": [
      "INFO:root:Successfully scraped total 38 rating for product B0969ZT95Q\n"
     ]
    },
    {
     "name": "stdout",
     "output_type": "stream",
     "text": [
      "Tag not found in https://www.amazon.com/product-reviews/B0BLV8LKVS/ref=cm_cr_dp_d_show_all_top?ie=UTF8&reviewerType=all_reviews&sortBy=recent\n",
      "Tag not found in https://www.amazon.com/product-reviews/B0BLV8LKVS/ref=cm_cr_dp_d_show_all_top?ie=UTF8&reviewerType=all_reviews&sortBy=recent\n"
     ]
    },
    {
     "name": "stderr",
     "output_type": "stream",
     "text": [
      "INFO:root:Successfully scraped total 10473 rating for product B0C3QC22D2\n",
      "INFO:root:Successfully scraped total 2 rating for product B0C6XNFH6W\n"
     ]
    },
    {
     "name": "stdout",
     "output_type": "stream",
     "text": [
      "Helpful Text: 29 people found this helpful\n",
      "Tag not found in https://www.amazon.com/product-reviews/B0C3QC22D2/ref=cm_cr_dp_d_show_all_top?ie=UTF8&reviewerType=all_reviews&sortBy=recent\n"
     ]
    },
    {
     "name": "stderr",
     "output_type": "stream",
     "text": [
      "INFO:root:Successfully scraped total 718 rating for product B0C6QQSG7Q\n"
     ]
    },
    {
     "name": "stdout",
     "output_type": "stream",
     "text": [
      "TimeoutException: Could not find reviews for https://www.amazon.com/product-reviews/B0C6XNFH6W/ref=cm_cr_dp_d_show_all_top?ie=UTF8&reviewerType=all_reviews&sortBy=recent\n"
     ]
    },
    {
     "name": "stderr",
     "output_type": "stream",
     "text": [
      "INFO:root:Successfully scraped total 3 rating for product B0C3HKGYZJ\n"
     ]
    },
    {
     "name": "stdout",
     "output_type": "stream",
     "text": [
      "Tag not found in https://www.amazon.com/product-reviews/B0C6QQSG7Q/ref=cm_cr_dp_d_show_all_top?ie=UTF8&reviewerType=all_reviews&sortBy=recent\n",
      "Helpful Text: One person found this helpful\n"
     ]
    },
    {
     "name": "stderr",
     "output_type": "stream",
     "text": [
      "INFO:root:Successfully scraped total 328 rating for product B08KWHB17Q\n",
      "INFO:root:Successfully scraped total 12 rating for product B0C3H64RST\n"
     ]
    },
    {
     "name": "stdout",
     "output_type": "stream",
     "text": [
      "Helpful Text: 2 people found this helpful\n",
      "Tag not found in https://www.amazon.com/product-reviews/B08KWHB17Q/ref=cm_cr_dp_d_show_all_top?ie=UTF8&reviewerType=all_reviews&sortBy=recent\n"
     ]
    },
    {
     "name": "stderr",
     "output_type": "stream",
     "text": [
      "INFO:root:Successfully scraped total 1888 rating for product B09FL1987K\n",
      "INFO:root:Successfully scraped total 458 rating for product B08BLSLHQ9\n"
     ]
    },
    {
     "name": "stdout",
     "output_type": "stream",
     "text": [
      "Helpful Text: One person found this helpful\n",
      "Tag not found in https://www.amazon.com/product-reviews/B09FL1987K/ref=cm_cr_dp_d_show_all_top?ie=UTF8&reviewerType=all_reviews&sortBy=recent\n"
     ]
    },
    {
     "name": "stderr",
     "output_type": "stream",
     "text": [
      "INFO:root:Successfully scraped total 4500 rating for product B07WHXLSHC\n"
     ]
    },
    {
     "name": "stdout",
     "output_type": "stream",
     "text": [
      "Tag not found in https://www.amazon.com/product-reviews/B08BLSLHQ9/ref=cm_cr_dp_d_show_all_top?ie=UTF8&reviewerType=all_reviews&sortBy=recent\n",
      "Helpful Text: 4 people found this helpful\n"
     ]
    },
    {
     "name": "stderr",
     "output_type": "stream",
     "text": [
      "INFO:root:Successfully scraped total 1657 rating for product B08LVLCHMV\n"
     ]
    },
    {
     "name": "stdout",
     "output_type": "stream",
     "text": [
      "Helpful Text: 2 people found this helpful\n",
      "Tag not found in https://www.amazon.com/product-reviews/B07WHXLSHC/ref=cm_cr_dp_d_show_all_top?ie=UTF8&reviewerType=all_reviews&sortBy=recent\n"
     ]
    },
    {
     "name": "stderr",
     "output_type": "stream",
     "text": [
      "WARNING:root:Failed to scrape total rating for product B0CH1X1JHV\n"
     ]
    },
    {
     "name": "stdout",
     "output_type": "stream",
     "text": [
      "Helpful Text: One person found this helpful\n",
      "Tag not found in https://www.amazon.com/product-reviews/B08LVLCHMV/ref=cm_cr_dp_d_show_all_top?ie=UTF8&reviewerType=all_reviews&sortBy=recent\n"
     ]
    },
    {
     "name": "stderr",
     "output_type": "stream",
     "text": [
      "INFO:root:Successfully scraped total 92 rating for product B0BG7VXXZZ\n"
     ]
    },
    {
     "name": "stdout",
     "output_type": "stream",
     "text": [
      "TimeoutException: Could not find reviews for https://www.amazon.com/product-reviews/B0CH1X1JHV/ref=cm_cr_dp_d_show_all_top?ie=UTF8&reviewerType=all_reviews&sortBy=recent\n"
     ]
    },
    {
     "name": "stderr",
     "output_type": "stream",
     "text": [
      "INFO:root:Successfully scraped total 12253 rating for product B004NRNOG8\n"
     ]
    },
    {
     "name": "stdout",
     "output_type": "stream",
     "text": [
      "Tag not found in https://www.amazon.com/product-reviews/B0BG7VXXZZ/ref=cm_cr_dp_d_show_all_top?ie=UTF8&reviewerType=all_reviews&sortBy=recent\n",
      "Tag not found in https://www.amazon.com/product-reviews/B0BG7VXXZZ/ref=cm_cr_dp_d_show_all_top?ie=UTF8&reviewerType=all_reviews&sortBy=recent\n"
     ]
    },
    {
     "name": "stderr",
     "output_type": "stream",
     "text": [
      "INFO:root:Successfully scraped total 24 rating for product B0BKZ5Y82H\n"
     ]
    },
    {
     "name": "stdout",
     "output_type": "stream",
     "text": [
      "Tag not found in https://www.amazon.com/product-reviews/B004NRNOG8/ref=cm_cr_dp_d_show_all_top?ie=UTF8&reviewerType=all_reviews&sortBy=recent\n",
      "Tag not found in https://www.amazon.com/product-reviews/B004NRNOG8/ref=cm_cr_dp_d_show_all_top?ie=UTF8&reviewerType=all_reviews&sortBy=recent\n"
     ]
    },
    {
     "name": "stderr",
     "output_type": "stream",
     "text": [
      "INFO:root:Successfully scraped total 20 rating for product B0BP24BKQH\n"
     ]
    },
    {
     "name": "stdout",
     "output_type": "stream",
     "text": [
      "Tag not found in https://www.amazon.com/product-reviews/B0BKZ5Y82H/ref=cm_cr_dp_d_show_all_top?ie=UTF8&reviewerType=all_reviews&sortBy=recent\n",
      "Tag not found in https://www.amazon.com/product-reviews/B0BKZ5Y82H/ref=cm_cr_dp_d_show_all_top?ie=UTF8&reviewerType=all_reviews&sortBy=recent\n"
     ]
    },
    {
     "name": "stderr",
     "output_type": "stream",
     "text": [
      "WARNING:root:Failed to scrape total rating for product \n",
      "WARNING:root:Failed to scrape total rating for product \n",
      "WARNING:root:Failed to scrape total rating for product \n"
     ]
    },
    {
     "name": "stdout",
     "output_type": "stream",
     "text": [
      "Failed to scrape item name in https://www.amazon.com/s?k=accessories+for+clothes&ref=nb_sb_noss&page=3\n",
      "Failed to scrape item name in https://www.amazon.com/s?k=accessories+for+clothes&ref=nb_sb_noss&page=3\n",
      "Failed to scrape item name in https://www.amazon.com/s?k=accessories+for+clothes&ref=nb_sb_noss&page=3\n"
     ]
    },
    {
     "name": "stderr",
     "output_type": "stream",
     "text": [
      "WARNING:root:Failed to scrape total rating for product \n",
      "INFO:root:Successfully scraped total 102 rating for product B0BBP9RTRY\n",
      "INFO:root:Successfully scraped total 63 rating for product B0CC2JKVVF\n"
     ]
    },
    {
     "name": "stdout",
     "output_type": "stream",
     "text": [
      "Tag not found in https://www.amazon.com/product-reviews/B0BBP9RTRY/ref=cm_cr_dp_d_show_all_top?ie=UTF8&reviewerType=all_reviews&sortBy=recent\n",
      "Tag not found in https://www.amazon.com/product-reviews/B0BBP9RTRY/ref=cm_cr_dp_d_show_all_top?ie=UTF8&reviewerType=all_reviews&sortBy=recent\n"
     ]
    },
    {
     "name": "stderr",
     "output_type": "stream",
     "text": [
      "INFO:root:Successfully scraped total 807 rating for product B08P7FSS7L\n"
     ]
    },
    {
     "name": "stdout",
     "output_type": "stream",
     "text": [
      "Tag not found in https://www.amazon.com/product-reviews/B0CC2JKVVF/ref=cm_cr_dp_d_show_all_top?ie=UTF8&reviewerType=all_reviews&sortBy=recent\n",
      "Tag not found in https://www.amazon.com/product-reviews/B0CC2JKVVF/ref=cm_cr_dp_d_show_all_top?ie=UTF8&reviewerType=all_reviews&sortBy=recent\n"
     ]
    },
    {
     "name": "stderr",
     "output_type": "stream",
     "text": [
      "INFO:root:Successfully scraped total 179 rating for product B0BR7YGYBB\n"
     ]
    },
    {
     "name": "stdout",
     "output_type": "stream",
     "text": [
      "Tag not found in https://www.amazon.com/product-reviews/B08P7FSS7L/ref=cm_cr_dp_d_show_all_top?ie=UTF8&reviewerType=all_reviews&sortBy=recent\n",
      "Tag not found in https://www.amazon.com/product-reviews/B08P7FSS7L/ref=cm_cr_dp_d_show_all_top?ie=UTF8&reviewerType=all_reviews&sortBy=recent\n"
     ]
    },
    {
     "name": "stderr",
     "output_type": "stream",
     "text": [
      "INFO:root:Successfully scraped total 471 rating for product B089HY6234\n"
     ]
    },
    {
     "name": "stdout",
     "output_type": "stream",
     "text": [
      "Helpful Text: 18 people found this helpful\n",
      "Tag not found in https://www.amazon.com/product-reviews/B0BR7YGYBB/ref=cm_cr_dp_d_show_all_top?ie=UTF8&reviewerType=all_reviews&sortBy=recent\n"
     ]
    },
    {
     "name": "stderr",
     "output_type": "stream",
     "text": [
      "INFO:root:Successfully scraped total 92 rating for product B0BG7VXXZZ\n",
      "INFO:root:Successfully scraped total 276 rating for product B09HXP6Y5N\n"
     ]
    },
    {
     "name": "stdout",
     "output_type": "stream",
     "text": [
      "Tag not found in https://www.amazon.com/product-reviews/B089HY6234/ref=cm_cr_dp_d_show_all_top?ie=UTF8&reviewerType=all_reviews&sortBy=recent\n",
      "Tag not found in https://www.amazon.com/product-reviews/B089HY6234/ref=cm_cr_dp_d_show_all_top?ie=UTF8&reviewerType=all_reviews&sortBy=recent\n"
     ]
    },
    {
     "name": "stderr",
     "output_type": "stream",
     "text": [
      "INFO:root:Successfully scraped total 673 rating for product \n",
      "WARNING:root:Failed to scrape total rating for product \n",
      "INFO:root:Successfully scraped total 24 rating for product B0BKZ5Y82H\n",
      "INFO:root:Successfully scraped total 29532 rating for product B07DLBP4XW\n"
     ]
    },
    {
     "name": "stdout",
     "output_type": "stream",
     "text": [
      "Tag not found in https://www.amazon.com/product-reviews/B09HXP6Y5N/ref=cm_cr_dp_d_show_all_top?ie=UTF8&reviewerType=all_reviews&sortBy=recent\n",
      "Tag not found in https://www.amazon.com/product-reviews/B09HXP6Y5N/ref=cm_cr_dp_d_show_all_top?ie=UTF8&reviewerType=all_reviews&sortBy=recent\n",
      "Failed to scrape item name in https://www.amazon.com/s?k=accessories+for+clothes&ref=nb_sb_noss&page=4\n"
     ]
    },
    {
     "name": "stderr",
     "output_type": "stream",
     "text": [
      "INFO:root:Successfully scraped total 28 rating for product B0BTLP611P\n"
     ]
    },
    {
     "name": "stdout",
     "output_type": "stream",
     "text": [
      "Helpful Text: One person found this helpful\n",
      "Tag not found in https://www.amazon.com/product-reviews/B07DLBP4XW/ref=cm_cr_dp_d_show_all_top?ie=UTF8&reviewerType=all_reviews&sortBy=recent\n"
     ]
    },
    {
     "name": "stderr",
     "output_type": "stream",
     "text": [
      "INFO:root:Successfully scraped total 499 rating for product B09TK5Q9N4\n"
     ]
    },
    {
     "name": "stdout",
     "output_type": "stream",
     "text": [
      "Tag not found in https://www.amazon.com/product-reviews/B0BTLP611P/ref=cm_cr_dp_d_show_all_top?ie=UTF8&reviewerType=all_reviews&sortBy=recent\n",
      "Tag not found in https://www.amazon.com/product-reviews/B0BTLP611P/ref=cm_cr_dp_d_show_all_top?ie=UTF8&reviewerType=all_reviews&sortBy=recent\n"
     ]
    },
    {
     "name": "stderr",
     "output_type": "stream",
     "text": [
      "WARNING:root:Failed to scrape total rating for product B0CC41B3NP\n"
     ]
    },
    {
     "name": "stdout",
     "output_type": "stream",
     "text": [
      "Tag not found in https://www.amazon.com/product-reviews/B09TK5Q9N4/ref=cm_cr_dp_d_show_all_top?ie=UTF8&reviewerType=all_reviews&sortBy=recent\n",
      "Tag not found in https://www.amazon.com/product-reviews/B09TK5Q9N4/ref=cm_cr_dp_d_show_all_top?ie=UTF8&reviewerType=all_reviews&sortBy=recent\n"
     ]
    },
    {
     "name": "stderr",
     "output_type": "stream",
     "text": [
      "INFO:root:Successfully scraped total 3018 rating for product B08D9H841Y\n"
     ]
    },
    {
     "name": "stdout",
     "output_type": "stream",
     "text": [
      "TimeoutException: Could not find reviews for https://www.amazon.com/product-reviews/B0CC41B3NP/ref=cm_cr_dp_d_show_all_top?ie=UTF8&reviewerType=all_reviews&sortBy=recent\n"
     ]
    },
    {
     "name": "stderr",
     "output_type": "stream",
     "text": [
      "INFO:root:Successfully scraped total 94 rating for product B0C7K2HS1X\n"
     ]
    },
    {
     "name": "stdout",
     "output_type": "stream",
     "text": [
      "Helpful Text: 2 people found this helpful\n",
      "Tag not found in https://www.amazon.com/product-reviews/B08D9H841Y/ref=cm_cr_dp_d_show_all_top?ie=UTF8&reviewerType=all_reviews&sortBy=recent\n"
     ]
    },
    {
     "name": "stderr",
     "output_type": "stream",
     "text": [
      "INFO:root:Successfully scraped total 1186 rating for product B0BYBZ9HS7\n"
     ]
    },
    {
     "name": "stdout",
     "output_type": "stream",
     "text": [
      "Helpful Text: One person found this helpful\n",
      "Tag not found in https://www.amazon.com/product-reviews/B0C7K2HS1X/ref=cm_cr_dp_d_show_all_top?ie=UTF8&reviewerType=all_reviews&sortBy=recent\n"
     ]
    },
    {
     "name": "stderr",
     "output_type": "stream",
     "text": [
      "INFO:root:Successfully scraped total 254 rating for product B08ZMSFC5J\n"
     ]
    },
    {
     "name": "stdout",
     "output_type": "stream",
     "text": [
      "Tag not found in https://www.amazon.com/product-reviews/B0BYBZ9HS7/ref=cm_cr_dp_d_show_all_top?ie=UTF8&reviewerType=all_reviews&sortBy=recent\n",
      "Tag not found in https://www.amazon.com/product-reviews/B0BYBZ9HS7/ref=cm_cr_dp_d_show_all_top?ie=UTF8&reviewerType=all_reviews&sortBy=recent\n"
     ]
    },
    {
     "name": "stderr",
     "output_type": "stream",
     "text": [
      "INFO:root:Successfully scraped total 533 rating for product B09DYJQTLZ\n"
     ]
    },
    {
     "name": "stdout",
     "output_type": "stream",
     "text": [
      "Helpful Text: One person found this helpful\n",
      "Helpful Text: One person found this helpful\n"
     ]
    },
    {
     "name": "stderr",
     "output_type": "stream",
     "text": [
      "INFO:root:Successfully scraped total 11 rating for product B0C93NZLBK\n"
     ]
    },
    {
     "name": "stdout",
     "output_type": "stream",
     "text": [
      "Tag not found in https://www.amazon.com/product-reviews/B09DYJQTLZ/ref=cm_cr_dp_d_show_all_top?ie=UTF8&reviewerType=all_reviews&sortBy=recent\n",
      "Tag not found in https://www.amazon.com/product-reviews/B09DYJQTLZ/ref=cm_cr_dp_d_show_all_top?ie=UTF8&reviewerType=all_reviews&sortBy=recent\n"
     ]
    },
    {
     "name": "stderr",
     "output_type": "stream",
     "text": [
      "INFO:root:Successfully scraped total 9894 rating for product B09W297C3J\n",
      "INFO:root:Successfully scraped total 449 rating for product B0CBVF2913\n"
     ]
    },
    {
     "name": "stdout",
     "output_type": "stream",
     "text": [
      "Helpful Text: 2 people found this helpful\n",
      "Tag not found in https://www.amazon.com/product-reviews/B09W297C3J/ref=cm_cr_dp_d_show_all_top?ie=UTF8&reviewerType=all_reviews&sortBy=recent\n"
     ]
    },
    {
     "name": "stderr",
     "output_type": "stream",
     "text": [
      "INFO:root:Successfully scraped total 11 rating for product B0C71QV2QP\n"
     ]
    },
    {
     "name": "stdout",
     "output_type": "stream",
     "text": [
      "Helpful Text: One person found this helpful\n",
      "Tag not found in https://www.amazon.com/product-reviews/B0CBVF2913/ref=cm_cr_dp_d_show_all_top?ie=UTF8&reviewerType=all_reviews&sortBy=recent\n"
     ]
    },
    {
     "name": "stderr",
     "output_type": "stream",
     "text": [
      "INFO:root:Successfully scraped total 1147 rating for product B0B1WB3NRT\n",
      "INFO:root:Successfully scraped total 5459 rating for product B004C6QPHU\n"
     ]
    },
    {
     "name": "stdout",
     "output_type": "stream",
     "text": [
      "Tag not found in https://www.amazon.com/product-reviews/B0B1WB3NRT/ref=cm_cr_dp_d_show_all_top?ie=UTF8&reviewerType=all_reviews&sortBy=recent\n",
      "Tag not found in https://www.amazon.com/product-reviews/B0B1WB3NRT/ref=cm_cr_dp_d_show_all_top?ie=UTF8&reviewerType=all_reviews&sortBy=recent\n"
     ]
    },
    {
     "name": "stderr",
     "output_type": "stream",
     "text": [
      "INFO:root:Successfully scraped total 42 rating for product B095WCZ5KL\n"
     ]
    },
    {
     "name": "stdout",
     "output_type": "stream",
     "text": [
      "Tag not found in https://www.amazon.com/product-reviews/B004C6QPHU/ref=cm_cr_dp_d_show_all_top?ie=UTF8&reviewerType=all_reviews&sortBy=recent\n",
      "Tag not found in https://www.amazon.com/product-reviews/B004C6QPHU/ref=cm_cr_dp_d_show_all_top?ie=UTF8&reviewerType=all_reviews&sortBy=recent\n"
     ]
    },
    {
     "name": "stderr",
     "output_type": "stream",
     "text": [
      "INFO:root:Successfully scraped total 23 rating for product B0BVLK7TSD\n",
      "INFO:root:Successfully scraped total 19948 rating for product B0777HG16R\n",
      "INFO:root:Successfully scraped total 4308 rating for product B01GVG707M\n"
     ]
    },
    {
     "name": "stdout",
     "output_type": "stream",
     "text": [
      "Tag not found in https://www.amazon.com/product-reviews/B0777HG16R/ref=cm_cr_dp_d_show_all_top?ie=UTF8&reviewerType=all_reviews&sortBy=recent\n",
      "Tag not found in https://www.amazon.com/product-reviews/B0777HG16R/ref=cm_cr_dp_d_show_all_top?ie=UTF8&reviewerType=all_reviews&sortBy=recent\n"
     ]
    },
    {
     "name": "stderr",
     "output_type": "stream",
     "text": [
      "INFO:root:Successfully scraped total 1723 rating for product B08JFZ5SD8\n"
     ]
    },
    {
     "name": "stdout",
     "output_type": "stream",
     "text": [
      "Helpful Text: 2 people found this helpful\n",
      "Tag not found in https://www.amazon.com/product-reviews/B01GVG707M/ref=cm_cr_dp_d_show_all_top?ie=UTF8&reviewerType=all_reviews&sortBy=recent\n"
     ]
    },
    {
     "name": "stderr",
     "output_type": "stream",
     "text": [
      "INFO:root:Successfully scraped total 1899 rating for product B098DFFW4K\n"
     ]
    },
    {
     "name": "stdout",
     "output_type": "stream",
     "text": [
      "Tag not found in https://www.amazon.com/product-reviews/B08JFZ5SD8/ref=cm_cr_dp_d_show_all_top?ie=UTF8&reviewerType=all_reviews&sortBy=recent\n",
      "Tag not found in https://www.amazon.com/product-reviews/B08JFZ5SD8/ref=cm_cr_dp_d_show_all_top?ie=UTF8&reviewerType=all_reviews&sortBy=recent\n"
     ]
    },
    {
     "name": "stderr",
     "output_type": "stream",
     "text": [
      "INFO:root:Successfully scraped total 5867 rating for product B08DK81PNK\n"
     ]
    },
    {
     "name": "stdout",
     "output_type": "stream",
     "text": [
      "Tag not found in https://www.amazon.com/product-reviews/B098DFFW4K/ref=cm_cr_dp_d_show_all_top?ie=UTF8&reviewerType=all_reviews&sortBy=recent\n",
      "Helpful Text: One person found this helpful\n"
     ]
    },
    {
     "name": "stderr",
     "output_type": "stream",
     "text": [
      "INFO:root:Successfully scraped total 7215 rating for product B07NVCJ95Z\n"
     ]
    },
    {
     "name": "stdout",
     "output_type": "stream",
     "text": [
      "Helpful Text: 4 people found this helpful\n",
      "Helpful Text: 2 people found this helpful\n"
     ]
    },
    {
     "name": "stderr",
     "output_type": "stream",
     "text": [
      "INFO:root:Successfully scraped total 187 rating for product B0BZCPJTQ6\n"
     ]
    },
    {
     "name": "stdout",
     "output_type": "stream",
     "text": [
      "Tag not found in https://www.amazon.com/product-reviews/B07NVCJ95Z/ref=cm_cr_dp_d_show_all_top?ie=UTF8&reviewerType=all_reviews&sortBy=recent\n",
      "Tag not found in https://www.amazon.com/product-reviews/B07NVCJ95Z/ref=cm_cr_dp_d_show_all_top?ie=UTF8&reviewerType=all_reviews&sortBy=recent\n"
     ]
    },
    {
     "name": "stderr",
     "output_type": "stream",
     "text": [
      "INFO:root:Successfully scraped total 769 rating for product B0898WF5W5\n"
     ]
    },
    {
     "name": "stdout",
     "output_type": "stream",
     "text": [
      "Tag not found in https://www.amazon.com/product-reviews/B0BZCPJTQ6/ref=cm_cr_dp_d_show_all_top?ie=UTF8&reviewerType=all_reviews&sortBy=recent\n",
      "Tag not found in https://www.amazon.com/product-reviews/B0BZCPJTQ6/ref=cm_cr_dp_d_show_all_top?ie=UTF8&reviewerType=all_reviews&sortBy=recent\n"
     ]
    },
    {
     "name": "stderr",
     "output_type": "stream",
     "text": [
      "INFO:root:Successfully scraped total 587 rating for product B096SBX8L1\n"
     ]
    },
    {
     "name": "stdout",
     "output_type": "stream",
     "text": [
      "Tag not found in https://www.amazon.com/product-reviews/B0898WF5W5/ref=cm_cr_dp_d_show_all_top?ie=UTF8&reviewerType=all_reviews&sortBy=recent\n",
      "Helpful Text: 5 people found this helpful\n"
     ]
    },
    {
     "name": "stderr",
     "output_type": "stream",
     "text": [
      "INFO:root:Successfully scraped total 11 rating for product B0C27822JC\n"
     ]
    },
    {
     "name": "stdout",
     "output_type": "stream",
     "text": [
      "Tag not found in https://www.amazon.com/product-reviews/B096SBX8L1/ref=cm_cr_dp_d_show_all_top?ie=UTF8&reviewerType=all_reviews&sortBy=recent\n",
      "Tag not found in https://www.amazon.com/product-reviews/B096SBX8L1/ref=cm_cr_dp_d_show_all_top?ie=UTF8&reviewerType=all_reviews&sortBy=recent\n"
     ]
    },
    {
     "name": "stderr",
     "output_type": "stream",
     "text": [
      "INFO:root:Successfully scraped total 8 rating for product B0C1TYLWY6\n",
      "INFO:root:Successfully scraped total 1209 rating for product B0BYSTV9FR\n",
      "INFO:root:Successfully scraped total 2153 rating for product B08L3BP16K\n"
     ]
    },
    {
     "name": "stdout",
     "output_type": "stream",
     "text": [
      "Helpful Text: 2 people found this helpful\n",
      "Tag not found in https://www.amazon.com/product-reviews/B0BYSTV9FR/ref=cm_cr_dp_d_show_all_top?ie=UTF8&reviewerType=all_reviews&sortBy=recent\n"
     ]
    },
    {
     "name": "stderr",
     "output_type": "stream",
     "text": [
      "INFO:root:Successfully scraped total 2110 rating for product B0B4SGMRGG\n"
     ]
    },
    {
     "name": "stdout",
     "output_type": "stream",
     "text": [
      "Tag not found in https://www.amazon.com/product-reviews/B08L3BP16K/ref=cm_cr_dp_d_show_all_top?ie=UTF8&reviewerType=all_reviews&sortBy=recent\n",
      "Helpful Text: One person found this helpful\n"
     ]
    },
    {
     "name": "stderr",
     "output_type": "stream",
     "text": [
      "INFO:root:Successfully scraped total 102 rating for product B0CCXVBXR6\n"
     ]
    },
    {
     "name": "stdout",
     "output_type": "stream",
     "text": [
      "Tag not found in https://www.amazon.com/product-reviews/B0B4SGMRGG/ref=cm_cr_dp_d_show_all_top?ie=UTF8&reviewerType=all_reviews&sortBy=recent\n",
      "Helpful Text: 3 people found this helpful\n"
     ]
    },
    {
     "name": "stderr",
     "output_type": "stream",
     "text": [
      "INFO:root:Successfully scraped total 264 rating for product B09D3TTRRL\n",
      "WARNING:root:Failed to scrape total rating for product B0CGHZDY6Y\n"
     ]
    },
    {
     "name": "stdout",
     "output_type": "stream",
     "text": [
      "Tag not found in https://www.amazon.com/product-reviews/B09D3TTRRL/ref=cm_cr_dp_d_show_all_top?ie=UTF8&reviewerType=all_reviews&sortBy=recent\n",
      "Tag not found in https://www.amazon.com/product-reviews/B09D3TTRRL/ref=cm_cr_dp_d_show_all_top?ie=UTF8&reviewerType=all_reviews&sortBy=recent\n"
     ]
    },
    {
     "name": "stderr",
     "output_type": "stream",
     "text": [
      "INFO:root:Successfully scraped total 134 rating for product B0CDL58WR4\n"
     ]
    },
    {
     "name": "stdout",
     "output_type": "stream",
     "text": [
      "TimeoutException: Could not find reviews for https://www.amazon.com/product-reviews/B0CGHZDY6Y/ref=cm_cr_dp_d_show_all_top?ie=UTF8&reviewerType=all_reviews&sortBy=recent\n"
     ]
    },
    {
     "name": "stderr",
     "output_type": "stream",
     "text": [
      "INFO:root:Successfully scraped total 41 rating for product B0C95TVHS2\n"
     ]
    },
    {
     "name": "stdout",
     "output_type": "stream",
     "text": [
      "Tag not found in https://www.amazon.com/product-reviews/B0CDL58WR4/ref=cm_cr_dp_d_show_all_top?ie=UTF8&reviewerType=all_reviews&sortBy=recent\n",
      "Tag not found in https://www.amazon.com/product-reviews/B0CDL58WR4/ref=cm_cr_dp_d_show_all_top?ie=UTF8&reviewerType=all_reviews&sortBy=recent\n"
     ]
    },
    {
     "name": "stderr",
     "output_type": "stream",
     "text": [
      "INFO:root:Successfully scraped total 2694 rating for product B0828JJRYN\n"
     ]
    },
    {
     "name": "stdout",
     "output_type": "stream",
     "text": [
      "Helpful Text: One person found this helpful\n",
      "Helpful Text: 3 people found this helpful\n"
     ]
    },
    {
     "name": "stderr",
     "output_type": "stream",
     "text": [
      "INFO:root:Successfully scraped total 2 rating for product B0CBBM11S7\n"
     ]
    },
    {
     "name": "stdout",
     "output_type": "stream",
     "text": [
      "Helpful Text: One person found this helpful\n",
      "Helpful Text: One person found this helpful\n"
     ]
    },
    {
     "name": "stderr",
     "output_type": "stream",
     "text": [
      "WARNING:root:Failed to scrape total rating for product B0C99PV44J\n",
      "INFO:root:Successfully scraped total 411 rating for product B0BDQYXSYL\n"
     ]
    },
    {
     "name": "stdout",
     "output_type": "stream",
     "text": [
      "TimeoutException: Could not find reviews for https://www.amazon.com/product-reviews/B0C99PV44J/ref=cm_cr_dp_d_show_all_top?ie=UTF8&reviewerType=all_reviews&sortBy=recent\n"
     ]
    },
    {
     "name": "stderr",
     "output_type": "stream",
     "text": [
      "INFO:root:Successfully scraped total 1316 rating for product B097NRM45M\n"
     ]
    },
    {
     "name": "stdout",
     "output_type": "stream",
     "text": [
      "Tag not found in https://www.amazon.com/product-reviews/B0BDQYXSYL/ref=cm_cr_dp_d_show_all_top?ie=UTF8&reviewerType=all_reviews&sortBy=recent\n",
      "Tag not found in https://www.amazon.com/product-reviews/B0BDQYXSYL/ref=cm_cr_dp_d_show_all_top?ie=UTF8&reviewerType=all_reviews&sortBy=recent\n"
     ]
    },
    {
     "name": "stderr",
     "output_type": "stream",
     "text": [
      "INFO:root:Successfully scraped total 28 rating for product B0BY8VG5ZY\n"
     ]
    },
    {
     "name": "stdout",
     "output_type": "stream",
     "text": [
      "Tag not found in https://www.amazon.com/product-reviews/B097NRM45M/ref=cm_cr_dp_d_show_all_top?ie=UTF8&reviewerType=all_reviews&sortBy=recent\n",
      "Tag not found in https://www.amazon.com/product-reviews/B097NRM45M/ref=cm_cr_dp_d_show_all_top?ie=UTF8&reviewerType=all_reviews&sortBy=recent\n"
     ]
    },
    {
     "name": "stderr",
     "output_type": "stream",
     "text": [
      "INFO:root:Successfully scraped total 643 rating for product B0B87XFJV1\n"
     ]
    },
    {
     "name": "stdout",
     "output_type": "stream",
     "text": [
      "Helpful Text: One person found this helpful\n",
      "Tag not found in https://www.amazon.com/product-reviews/B0BY8VG5ZY/ref=cm_cr_dp_d_show_all_top?ie=UTF8&reviewerType=all_reviews&sortBy=recent\n"
     ]
    },
    {
     "name": "stderr",
     "output_type": "stream",
     "text": [
      "INFO:root:Successfully scraped total 23 rating for product B0B67Y446T\n"
     ]
    },
    {
     "name": "stdout",
     "output_type": "stream",
     "text": [
      "Tag not found in https://www.amazon.com/product-reviews/B0B87XFJV1/ref=cm_cr_dp_d_show_all_top?ie=UTF8&reviewerType=all_reviews&sortBy=recent\n",
      "Helpful Text: One person found this helpful\n"
     ]
    },
    {
     "name": "stderr",
     "output_type": "stream",
     "text": [
      "INFO:root:Successfully scraped total 4 rating for product B0C6LD73RC\n",
      "INFO:root:Successfully scraped total 355 rating for product B0981114M8\n",
      "INFO:root:Successfully scraped total 102 rating for product B0BYD4JPHY\n"
     ]
    },
    {
     "name": "stdout",
     "output_type": "stream",
     "text": [
      "Helpful Text: One person found this helpful\n",
      "Helpful Text: 6 people found this helpful\n"
     ]
    },
    {
     "name": "stderr",
     "output_type": "stream",
     "text": [
      "INFO:root:Successfully scraped total 9536 rating for product B08R7SPBLS\n"
     ]
    },
    {
     "name": "stdout",
     "output_type": "stream",
     "text": [
      "Tag not found in https://www.amazon.com/product-reviews/B0BYD4JPHY/ref=cm_cr_dp_d_show_all_top?ie=UTF8&reviewerType=all_reviews&sortBy=recent\n",
      "Tag not found in https://www.amazon.com/product-reviews/B0BYD4JPHY/ref=cm_cr_dp_d_show_all_top?ie=UTF8&reviewerType=all_reviews&sortBy=recent\n"
     ]
    },
    {
     "name": "stderr",
     "output_type": "stream",
     "text": [
      "INFO:root:Successfully scraped total 677 rating for product B07YBQZKXF\n"
     ]
    },
    {
     "name": "stdout",
     "output_type": "stream",
     "text": [
      "Tag not found in https://www.amazon.com/product-reviews/B08R7SPBLS/ref=cm_cr_dp_d_show_all_top?ie=UTF8&reviewerType=all_reviews&sortBy=recent\n",
      "Tag not found in https://www.amazon.com/product-reviews/B08R7SPBLS/ref=cm_cr_dp_d_show_all_top?ie=UTF8&reviewerType=all_reviews&sortBy=recent\n"
     ]
    },
    {
     "name": "stderr",
     "output_type": "stream",
     "text": [
      "INFO:root:Successfully scraped total 241 rating for product B08TQB9BCY\n"
     ]
    },
    {
     "name": "stdout",
     "output_type": "stream",
     "text": [
      "Tag not found in https://www.amazon.com/product-reviews/B07YBQZKXF/ref=cm_cr_dp_d_show_all_top?ie=UTF8&reviewerType=all_reviews&sortBy=recent\n",
      "Tag not found in https://www.amazon.com/product-reviews/B07YBQZKXF/ref=cm_cr_dp_d_show_all_top?ie=UTF8&reviewerType=all_reviews&sortBy=recent\n"
     ]
    },
    {
     "name": "stderr",
     "output_type": "stream",
     "text": [
      "INFO:root:Successfully scraped total 133 rating for product B0BRBTHPZ6\n"
     ]
    },
    {
     "name": "stdout",
     "output_type": "stream",
     "text": [
      "Tag not found in https://www.amazon.com/product-reviews/B08TQB9BCY/ref=cm_cr_dp_d_show_all_top?ie=UTF8&reviewerType=all_reviews&sortBy=recent\n",
      "Tag not found in https://www.amazon.com/product-reviews/B08TQB9BCY/ref=cm_cr_dp_d_show_all_top?ie=UTF8&reviewerType=all_reviews&sortBy=recent\n"
     ]
    },
    {
     "name": "stderr",
     "output_type": "stream",
     "text": [
      "WARNING:root:Failed to scrape total rating for product B0BT6FRF2V\n"
     ]
    },
    {
     "name": "stdout",
     "output_type": "stream",
     "text": [
      "Tag not found in https://www.amazon.com/product-reviews/B0BRBTHPZ6/ref=cm_cr_dp_d_show_all_top?ie=UTF8&reviewerType=all_reviews&sortBy=recent\n",
      "Tag not found in https://www.amazon.com/product-reviews/B0BRBTHPZ6/ref=cm_cr_dp_d_show_all_top?ie=UTF8&reviewerType=all_reviews&sortBy=recent\n"
     ]
    },
    {
     "name": "stderr",
     "output_type": "stream",
     "text": [
      "WARNING:root:Failed to scrape total rating for product \n",
      "WARNING:root:Failed to scrape total rating for product \n",
      "WARNING:root:Failed to scrape total rating for product \n",
      "WARNING:root:Failed to scrape total rating for product \n"
     ]
    },
    {
     "name": "stdout",
     "output_type": "stream",
     "text": [
      "TimeoutException: Could not find reviews for https://www.amazon.com/product-reviews/B0BT6FRF2V/ref=cm_cr_dp_d_show_all_top?ie=UTF8&reviewerType=all_reviews&sortBy=recent\n",
      "Failed to scrape item name in https://www.amazon.com/s?k=accessories+for+clothes&ref=nb_sb_noss&page=4\n",
      "Failed to scrape item name in https://www.amazon.com/s?k=accessories+for+clothes&ref=nb_sb_noss&page=4\n",
      "Failed to scrape item name in https://www.amazon.com/s?k=accessories+for+clothes&ref=nb_sb_noss&page=4\n",
      "Failed to scrape item name in https://www.amazon.com/s?k=accessories+for+clothes&ref=nb_sb_noss&page=4\n"
     ]
    },
    {
     "name": "stderr",
     "output_type": "stream",
     "text": [
      "WARNING:root:Failed to scrape total rating for product \n",
      "INFO:root:Successfully scraped total 10473 rating for product B0B7BFMHNF\n",
      "INFO:root:Successfully scraped total 179 rating for product B0BR7Z4WV6\n"
     ]
    },
    {
     "name": "stdout",
     "output_type": "stream",
     "text": [
      "Helpful Text: 29 people found this helpful\n",
      "Tag not found in https://www.amazon.com/product-reviews/B0B7BFMHNF/ref=cm_cr_dp_d_show_all_top?ie=UTF8&reviewerType=all_reviews&sortBy=recent\n"
     ]
    },
    {
     "name": "stderr",
     "output_type": "stream",
     "text": [
      "INFO:root:Successfully scraped total 6651 rating for product B0B651DV8V\n"
     ]
    },
    {
     "name": "stdout",
     "output_type": "stream",
     "text": [
      "Helpful Text: 18 people found this helpful\n",
      "Tag not found in https://www.amazon.com/product-reviews/B0BR7Z4WV6/ref=cm_cr_dp_d_show_all_top?ie=UTF8&reviewerType=all_reviews&sortBy=recent\n"
     ]
    },
    {
     "name": "stderr",
     "output_type": "stream",
     "text": [
      "INFO:root:Successfully scraped total 169 rating for product B0BX6PVXLG\n"
     ]
    },
    {
     "name": "stdout",
     "output_type": "stream",
     "text": [
      "Tag not found in https://www.amazon.com/product-reviews/B0B651DV8V/ref=cm_cr_dp_d_show_all_top?ie=UTF8&reviewerType=all_reviews&sortBy=recent\n",
      "Helpful Text: 2 people found this helpful\n"
     ]
    },
    {
     "name": "stderr",
     "output_type": "stream",
     "text": [
      "INFO:root:Successfully scraped total 83 rating for product B0C3H81683\n"
     ]
    },
    {
     "name": "stdout",
     "output_type": "stream",
     "text": [
      "Tag not found in https://www.amazon.com/product-reviews/B0BX6PVXLG/ref=cm_cr_dp_d_show_all_top?ie=UTF8&reviewerType=all_reviews&sortBy=recent\n",
      "Tag not found in https://www.amazon.com/product-reviews/B0BX6PVXLG/ref=cm_cr_dp_d_show_all_top?ie=UTF8&reviewerType=all_reviews&sortBy=recent\n"
     ]
    },
    {
     "name": "stderr",
     "output_type": "stream",
     "text": [
      "INFO:root:Successfully scraped total 241 rating for product B08TQB9BCY\n",
      "INFO:root:Successfully scraped total 710 rating for product B09XCVX3PP\n"
     ]
    },
    {
     "name": "stdout",
     "output_type": "stream",
     "text": [
      "Tag not found in https://www.amazon.com/product-reviews/B0C3H81683/ref=cm_cr_dp_d_show_all_top?ie=UTF8&reviewerType=all_reviews&sortBy=recent\n",
      "Tag not found in https://www.amazon.com/product-reviews/B0C3H81683/ref=cm_cr_dp_d_show_all_top?ie=UTF8&reviewerType=all_reviews&sortBy=recent\n"
     ]
    },
    {
     "name": "stderr",
     "output_type": "stream",
     "text": [
      "INFO:root:Successfully scraped total 8827 rating for product \n",
      "WARNING:root:Failed to scrape total rating for product \n",
      "INFO:root:Successfully scraped total 3101 rating for product B07PHBDWD3\n"
     ]
    },
    {
     "name": "stdout",
     "output_type": "stream",
     "text": [
      "Tag not found in https://www.amazon.com/product-reviews/B09XCVX3PP/ref=cm_cr_dp_d_show_all_top?ie=UTF8&reviewerType=all_reviews&sortBy=recent\n",
      "Tag not found in https://www.amazon.com/product-reviews/B09XCVX3PP/ref=cm_cr_dp_d_show_all_top?ie=UTF8&reviewerType=all_reviews&sortBy=recent\n",
      "Failed to scrape item name in https://www.amazon.com/s?k=accessories+for+clothes&ref=nb_sb_noss&page=5\n"
     ]
    },
    {
     "name": "stderr",
     "output_type": "stream",
     "text": [
      "WARNING:root:Failed to scrape total rating for product B0BT6FRF2V\n",
      "INFO:root:Successfully scraped total 31 rating for product B0BX9GHXBY\n"
     ]
    },
    {
     "name": "stdout",
     "output_type": "stream",
     "text": [
      "Tag not found in https://www.amazon.com/product-reviews/B07PHBDWD3/ref=cm_cr_dp_d_show_all_top?ie=UTF8&reviewerType=all_reviews&sortBy=recent\n",
      "Tag not found in https://www.amazon.com/product-reviews/B07PHBDWD3/ref=cm_cr_dp_d_show_all_top?ie=UTF8&reviewerType=all_reviews&sortBy=recent\n"
     ]
    },
    {
     "name": "stderr",
     "output_type": "stream",
     "text": [
      "INFO:root:Successfully scraped total 85 rating for product B09ZH412WX\n"
     ]
    },
    {
     "name": "stdout",
     "output_type": "stream",
     "text": [
      "Tag not found in https://www.amazon.com/product-reviews/B0BX9GHXBY/ref=cm_cr_dp_d_show_all_top?ie=UTF8&reviewerType=all_reviews&sortBy=recent\n",
      "Helpful Text: 2 people found this helpful\n"
     ]
    },
    {
     "name": "stderr",
     "output_type": "stream",
     "text": [
      "INFO:root:Successfully scraped total 93 rating for product B0CB8WGZ1N\n"
     ]
    },
    {
     "name": "stdout",
     "output_type": "stream",
     "text": [
      "Tag not found in https://www.amazon.com/product-reviews/B09ZH412WX/ref=cm_cr_dp_d_show_all_top?ie=UTF8&reviewerType=all_reviews&sortBy=recent\n",
      "Tag not found in https://www.amazon.com/product-reviews/B09ZH412WX/ref=cm_cr_dp_d_show_all_top?ie=UTF8&reviewerType=all_reviews&sortBy=recent\n"
     ]
    },
    {
     "name": "stderr",
     "output_type": "stream",
     "text": [
      "INFO:root:Successfully scraped total 228 rating for product B0C26NPX6X\n"
     ]
    },
    {
     "name": "stdout",
     "output_type": "stream",
     "text": [
      "Helpful Text: 2 people found this helpful\n",
      "Helpful Text: 5 people found this helpful\n"
     ]
    },
    {
     "name": "stderr",
     "output_type": "stream",
     "text": [
      "INFO:root:Successfully scraped total 762 rating for product B07Y62DNQ2\n"
     ]
    },
    {
     "name": "stdout",
     "output_type": "stream",
     "text": [
      "Helpful Text: 6 people found this helpful\n",
      "Tag not found in https://www.amazon.com/product-reviews/B0C26NPX6X/ref=cm_cr_dp_d_show_all_top?ie=UTF8&reviewerType=all_reviews&sortBy=recent\n"
     ]
    },
    {
     "name": "stderr",
     "output_type": "stream",
     "text": [
      "INFO:root:Successfully scraped total 1 rating for product B0C6F2PGP9\n"
     ]
    },
    {
     "name": "stdout",
     "output_type": "stream",
     "text": [
      "Tag not found in https://www.amazon.com/product-reviews/B07Y62DNQ2/ref=cm_cr_dp_d_show_all_top?ie=UTF8&reviewerType=all_reviews&sortBy=recent\n",
      "Helpful Text: One person found this helpful\n"
     ]
    },
    {
     "name": "stderr",
     "output_type": "stream",
     "text": [
      "INFO:root:Successfully scraped total 5 rating for product B0C3H62GLV\n"
     ]
    },
    {
     "name": "stdout",
     "output_type": "stream",
     "text": [
      "TimeoutException: Could not find reviews for https://www.amazon.com/product-reviews/B0C6F2PGP9/ref=cm_cr_dp_d_show_all_top?ie=UTF8&reviewerType=all_reviews&sortBy=recent\n"
     ]
    },
    {
     "name": "stderr",
     "output_type": "stream",
     "text": [
      "INFO:root:Successfully scraped total 533 rating for product B09BQSTMPC\n",
      "INFO:root:Successfully scraped total 5 rating for product B0C553KR3Q\n"
     ]
    },
    {
     "name": "stdout",
     "output_type": "stream",
     "text": [
      "Tag not found in https://www.amazon.com/product-reviews/B09BQSTMPC/ref=cm_cr_dp_d_show_all_top?ie=UTF8&reviewerType=all_reviews&sortBy=recent\n",
      "Tag not found in https://www.amazon.com/product-reviews/B09BQSTMPC/ref=cm_cr_dp_d_show_all_top?ie=UTF8&reviewerType=all_reviews&sortBy=recent\n"
     ]
    },
    {
     "name": "stderr",
     "output_type": "stream",
     "text": [
      "INFO:root:Successfully scraped total 1102 rating for product B018K3481A\n",
      "INFO:root:Successfully scraped total 108 rating for product B09X1J5WVC\n"
     ]
    },
    {
     "name": "stdout",
     "output_type": "stream",
     "text": [
      "Tag not found in https://www.amazon.com/product-reviews/B018K3481A/ref=cm_cr_dp_d_show_all_top?ie=UTF8&reviewerType=all_reviews&sortBy=recent\n",
      "Tag not found in https://www.amazon.com/product-reviews/B018K3481A/ref=cm_cr_dp_d_show_all_top?ie=UTF8&reviewerType=all_reviews&sortBy=recent\n"
     ]
    },
    {
     "name": "stderr",
     "output_type": "stream",
     "text": [
      "INFO:root:Successfully scraped total 22 rating for product B0BRW3MY9C\n"
     ]
    },
    {
     "name": "stdout",
     "output_type": "stream",
     "text": [
      "Helpful Text: One person found this helpful\n",
      "Helpful Text: One person found this helpful\n"
     ]
    },
    {
     "name": "stderr",
     "output_type": "stream",
     "text": [
      "INFO:root:Successfully scraped total 73 rating for product B0B4VZDD7M\n"
     ]
    },
    {
     "name": "stdout",
     "output_type": "stream",
     "text": [
      "Tag not found in https://www.amazon.com/product-reviews/B0BRW3MY9C/ref=cm_cr_dp_d_show_all_top?ie=UTF8&reviewerType=all_reviews&sortBy=recent\n",
      "Tag not found in https://www.amazon.com/product-reviews/B0BRW3MY9C/ref=cm_cr_dp_d_show_all_top?ie=UTF8&reviewerType=all_reviews&sortBy=recent\n"
     ]
    },
    {
     "name": "stderr",
     "output_type": "stream",
     "text": [
      "INFO:root:Successfully scraped total 44 rating for product B0BTV13NZC\n"
     ]
    },
    {
     "name": "stdout",
     "output_type": "stream",
     "text": [
      "Tag not found in https://www.amazon.com/product-reviews/B0B4VZDD7M/ref=cm_cr_dp_d_show_all_top?ie=UTF8&reviewerType=all_reviews&sortBy=recent\n",
      "Tag not found in https://www.amazon.com/product-reviews/B0B4VZDD7M/ref=cm_cr_dp_d_show_all_top?ie=UTF8&reviewerType=all_reviews&sortBy=recent\n"
     ]
    },
    {
     "name": "stderr",
     "output_type": "stream",
     "text": [
      "INFO:root:Successfully scraped total 401 rating for product B09FQ23V4B\n"
     ]
    },
    {
     "name": "stdout",
     "output_type": "stream",
     "text": [
      "Tag not found in https://www.amazon.com/product-reviews/B0BTV13NZC/ref=cm_cr_dp_d_show_all_top?ie=UTF8&reviewerType=all_reviews&sortBy=recent\n",
      "Helpful Text: 4 people found this helpful\n"
     ]
    },
    {
     "name": "stderr",
     "output_type": "stream",
     "text": [
      "INFO:root:Successfully scraped total 7314 rating for product B072B8YFZ2\n"
     ]
    },
    {
     "name": "stdout",
     "output_type": "stream",
     "text": [
      "Tag not found in https://www.amazon.com/product-reviews/B09FQ23V4B/ref=cm_cr_dp_d_show_all_top?ie=UTF8&reviewerType=all_reviews&sortBy=recent\n",
      "Tag not found in https://www.amazon.com/product-reviews/B09FQ23V4B/ref=cm_cr_dp_d_show_all_top?ie=UTF8&reviewerType=all_reviews&sortBy=recent\n"
     ]
    },
    {
     "name": "stderr",
     "output_type": "stream",
     "text": [
      "INFO:root:Successfully scraped total 43 rating for product B09Y5SSS4X\n"
     ]
    },
    {
     "name": "stdout",
     "output_type": "stream",
     "text": [
      "Tag not found in https://www.amazon.com/product-reviews/B072B8YFZ2/ref=cm_cr_dp_d_show_all_top?ie=UTF8&reviewerType=all_reviews&sortBy=recent\n",
      "Tag not found in https://www.amazon.com/product-reviews/B072B8YFZ2/ref=cm_cr_dp_d_show_all_top?ie=UTF8&reviewerType=all_reviews&sortBy=recent\n"
     ]
    },
    {
     "name": "stderr",
     "output_type": "stream",
     "text": [
      "INFO:root:Successfully scraped total 21 rating for product B008ZFOGPM\n",
      "INFO:root:Successfully scraped total 74 rating for product B07Q22QRVG\n"
     ]
    },
    {
     "name": "stdout",
     "output_type": "stream",
     "text": [
      "Tag not found in https://www.amazon.com/product-reviews/B008ZFOGPM/ref=cm_cr_dp_d_show_all_top?ie=UTF8&reviewerType=all_reviews&sortBy=recent\n",
      "Tag not found in https://www.amazon.com/product-reviews/B008ZFOGPM/ref=cm_cr_dp_d_show_all_top?ie=UTF8&reviewerType=all_reviews&sortBy=recent\n"
     ]
    },
    {
     "name": "stderr",
     "output_type": "stream",
     "text": [
      "WARNING:root:Failed to scrape total rating for product B0CG13QQW6\n",
      "INFO:root:Successfully scraped total 1089 rating for product B098SF4S6D\n"
     ]
    },
    {
     "name": "stdout",
     "output_type": "stream",
     "text": [
      "TimeoutException: Could not find reviews for https://www.amazon.com/product-reviews/B0CG13QQW6/ref=cm_cr_dp_d_show_all_top?ie=UTF8&reviewerType=all_reviews&sortBy=recent\n"
     ]
    },
    {
     "name": "stderr",
     "output_type": "stream",
     "text": [
      "INFO:root:Successfully scraped total 3959 rating for product B09P59YRMS\n"
     ]
    },
    {
     "name": "stdout",
     "output_type": "stream",
     "text": [
      "Tag not found in https://www.amazon.com/product-reviews/B098SF4S6D/ref=cm_cr_dp_d_show_all_top?ie=UTF8&reviewerType=all_reviews&sortBy=recent\n",
      "Tag not found in https://www.amazon.com/product-reviews/B098SF4S6D/ref=cm_cr_dp_d_show_all_top?ie=UTF8&reviewerType=all_reviews&sortBy=recent\n"
     ]
    },
    {
     "name": "stderr",
     "output_type": "stream",
     "text": [
      "INFO:root:Successfully scraped total 34 rating for product B0C9MDXJGP\n"
     ]
    },
    {
     "name": "stdout",
     "output_type": "stream",
     "text": [
      "Helpful Text: 3 people found this helpful\n",
      "Tag not found in https://www.amazon.com/product-reviews/B09P59YRMS/ref=cm_cr_dp_d_show_all_top?ie=UTF8&reviewerType=all_reviews&sortBy=recent\n"
     ]
    },
    {
     "name": "stderr",
     "output_type": "stream",
     "text": [
      "INFO:root:Successfully scraped total 109 rating for product B0BRBSZH76\n"
     ]
    },
    {
     "name": "stdout",
     "output_type": "stream",
     "text": [
      "Tag not found in https://www.amazon.com/product-reviews/B0C9MDXJGP/ref=cm_cr_dp_d_show_all_top?ie=UTF8&reviewerType=all_reviews&sortBy=recent\n",
      "Tag not found in https://www.amazon.com/product-reviews/B0C9MDXJGP/ref=cm_cr_dp_d_show_all_top?ie=UTF8&reviewerType=all_reviews&sortBy=recent\n"
     ]
    },
    {
     "name": "stderr",
     "output_type": "stream",
     "text": [
      "INFO:root:Successfully scraped total 2501 rating for product B0C3KFCFCN\n"
     ]
    },
    {
     "name": "stdout",
     "output_type": "stream",
     "text": [
      "Tag not found in https://www.amazon.com/product-reviews/B0BRBSZH76/ref=cm_cr_dp_d_show_all_top?ie=UTF8&reviewerType=all_reviews&sortBy=recent\n",
      "Helpful Text: 3 people found this helpful\n"
     ]
    },
    {
     "name": "stderr",
     "output_type": "stream",
     "text": [
      "INFO:root:Successfully scraped total 62 rating for product B0BTM2SSXX\n"
     ]
    },
    {
     "name": "stdout",
     "output_type": "stream",
     "text": [
      "Tag not found in https://www.amazon.com/product-reviews/B0C3KFCFCN/ref=cm_cr_dp_d_show_all_top?ie=UTF8&reviewerType=all_reviews&sortBy=recent\n",
      "Tag not found in https://www.amazon.com/product-reviews/B0C3KFCFCN/ref=cm_cr_dp_d_show_all_top?ie=UTF8&reviewerType=all_reviews&sortBy=recent\n"
     ]
    },
    {
     "name": "stderr",
     "output_type": "stream",
     "text": [
      "INFO:root:Successfully scraped total 3 rating for product B0C8HRC2H7\n"
     ]
    },
    {
     "name": "stdout",
     "output_type": "stream",
     "text": [
      "Tag not found in https://www.amazon.com/product-reviews/B0BTM2SSXX/ref=cm_cr_dp_d_show_all_top?ie=UTF8&reviewerType=all_reviews&sortBy=recent\n",
      "Tag not found in https://www.amazon.com/product-reviews/B0BTM2SSXX/ref=cm_cr_dp_d_show_all_top?ie=UTF8&reviewerType=all_reviews&sortBy=recent\n"
     ]
    },
    {
     "name": "stderr",
     "output_type": "stream",
     "text": [
      "INFO:root:Successfully scraped total 40 rating for product B0C8TDS9D2\n"
     ]
    },
    {
     "name": "stdout",
     "output_type": "stream",
     "text": [
      "TimeoutException: Could not find reviews for https://www.amazon.com/product-reviews/B0C8HRC2H7/ref=cm_cr_dp_d_show_all_top?ie=UTF8&reviewerType=all_reviews&sortBy=recent\n"
     ]
    },
    {
     "name": "stderr",
     "output_type": "stream",
     "text": [
      "INFO:root:Successfully scraped total 149 rating for product B0BBKPX93P\n"
     ]
    },
    {
     "name": "stdout",
     "output_type": "stream",
     "text": [
      "Tag not found in https://www.amazon.com/product-reviews/B0C8TDS9D2/ref=cm_cr_dp_d_show_all_top?ie=UTF8&reviewerType=all_reviews&sortBy=recent\n",
      "Helpful Text: One person found this helpful\n"
     ]
    },
    {
     "name": "stderr",
     "output_type": "stream",
     "text": [
      "WARNING:root:Failed to scrape total rating for product B0CCXT1Q63\n"
     ]
    },
    {
     "name": "stdout",
     "output_type": "stream",
     "text": [
      "Helpful Text: 9 people found this helpful\n",
      "Helpful Text: 11 people found this helpful\n"
     ]
    },
    {
     "name": "stderr",
     "output_type": "stream",
     "text": [
      "INFO:root:Successfully scraped total 3800 rating for product B01NCUNV8Z\n"
     ]
    },
    {
     "name": "stdout",
     "output_type": "stream",
     "text": [
      "TimeoutException: Could not find reviews for https://www.amazon.com/product-reviews/B0CCXT1Q63/ref=cm_cr_dp_d_show_all_top?ie=UTF8&reviewerType=all_reviews&sortBy=recent\n"
     ]
    },
    {
     "name": "stderr",
     "output_type": "stream",
     "text": [
      "INFO:root:Successfully scraped total 162 rating for product B0CC2JBZL9\n"
     ]
    },
    {
     "name": "stdout",
     "output_type": "stream",
     "text": [
      "Tag not found in https://www.amazon.com/product-reviews/B01NCUNV8Z/ref=cm_cr_dp_d_show_all_top?ie=UTF8&reviewerType=all_reviews&sortBy=recent\n",
      "Tag not found in https://www.amazon.com/product-reviews/B01NCUNV8Z/ref=cm_cr_dp_d_show_all_top?ie=UTF8&reviewerType=all_reviews&sortBy=recent\n"
     ]
    },
    {
     "name": "stderr",
     "output_type": "stream",
     "text": [
      "INFO:root:Successfully scraped total 2650 rating for product B012KMPIJI\n"
     ]
    },
    {
     "name": "stdout",
     "output_type": "stream",
     "text": [
      "Tag not found in https://www.amazon.com/product-reviews/B0CC2JBZL9/ref=cm_cr_dp_d_show_all_top?ie=UTF8&reviewerType=all_reviews&sortBy=recent\n",
      "Helpful Text: One person found this helpful\n"
     ]
    },
    {
     "name": "stderr",
     "output_type": "stream",
     "text": [
      "INFO:root:Successfully scraped total 154 rating for product B0BCR6TXKW\n"
     ]
    },
    {
     "name": "stdout",
     "output_type": "stream",
     "text": [
      "Helpful Text: One person found this helpful\n",
      "Tag not found in https://www.amazon.com/product-reviews/B012KMPIJI/ref=cm_cr_dp_d_show_all_top?ie=UTF8&reviewerType=all_reviews&sortBy=recent\n"
     ]
    },
    {
     "name": "stderr",
     "output_type": "stream",
     "text": [
      "INFO:root:Successfully scraped total 117 rating for product B0C4NHBL65\n"
     ]
    },
    {
     "name": "stdout",
     "output_type": "stream",
     "text": [
      "Tag not found in https://www.amazon.com/product-reviews/B0BCR6TXKW/ref=cm_cr_dp_d_show_all_top?ie=UTF8&reviewerType=all_reviews&sortBy=recent\n",
      "Tag not found in https://www.amazon.com/product-reviews/B0BCR6TXKW/ref=cm_cr_dp_d_show_all_top?ie=UTF8&reviewerType=all_reviews&sortBy=recent\n"
     ]
    },
    {
     "name": "stderr",
     "output_type": "stream",
     "text": [
      "INFO:root:Successfully scraped total 146 rating for product B09JSBF53S\n"
     ]
    },
    {
     "name": "stdout",
     "output_type": "stream",
     "text": [
      "Helpful Text: 6 people found this helpful\n",
      "Helpful Text: 2 people found this helpful\n"
     ]
    },
    {
     "name": "stderr",
     "output_type": "stream",
     "text": [
      "INFO:root:Successfully scraped total 398 rating for product B01BGYLW3M\n"
     ]
    },
    {
     "name": "stdout",
     "output_type": "stream",
     "text": [
      "Tag not found in https://www.amazon.com/product-reviews/B09JSBF53S/ref=cm_cr_dp_d_show_all_top?ie=UTF8&reviewerType=all_reviews&sortBy=recent\n",
      "Helpful Text: 2 people found this helpful\n"
     ]
    },
    {
     "name": "stderr",
     "output_type": "stream",
     "text": [
      "INFO:root:Successfully scraped total 19 rating for product B0CD64F15H\n"
     ]
    },
    {
     "name": "stdout",
     "output_type": "stream",
     "text": [
      "Tag not found in https://www.amazon.com/product-reviews/B01BGYLW3M/ref=cm_cr_dp_d_show_all_top?ie=UTF8&reviewerType=all_reviews&sortBy=recent\n",
      "Helpful Text: One person found this helpful\n"
     ]
    },
    {
     "name": "stderr",
     "output_type": "stream",
     "text": [
      "INFO:root:Successfully scraped total 50 rating for product B08LMM9K3Z\n"
     ]
    },
    {
     "name": "stdout",
     "output_type": "stream",
     "text": [
      "Tag not found in https://www.amazon.com/product-reviews/B0CD64F15H/ref=cm_cr_dp_d_show_all_top?ie=UTF8&reviewerType=all_reviews&sortBy=recent\n",
      "Tag not found in https://www.amazon.com/product-reviews/B0CD64F15H/ref=cm_cr_dp_d_show_all_top?ie=UTF8&reviewerType=all_reviews&sortBy=recent\n"
     ]
    },
    {
     "name": "stderr",
     "output_type": "stream",
     "text": [
      "INFO:root:Successfully scraped total 40 rating for product B0BZRRPQ81\n"
     ]
    },
    {
     "name": "stdout",
     "output_type": "stream",
     "text": [
      "Helpful Text: One person found this helpful\n",
      "Tag not found in https://www.amazon.com/product-reviews/B08LMM9K3Z/ref=cm_cr_dp_d_show_all_top?ie=UTF8&reviewerType=all_reviews&sortBy=recent\n"
     ]
    },
    {
     "name": "stderr",
     "output_type": "stream",
     "text": [
      "INFO:root:Successfully scraped total 3655 rating for product B0C49H6WRS\n"
     ]
    },
    {
     "name": "stdout",
     "output_type": "stream",
     "text": [
      "Tag not found in https://www.amazon.com/product-reviews/B0BZRRPQ81/ref=cm_cr_dp_d_show_all_top?ie=UTF8&reviewerType=all_reviews&sortBy=recent\n",
      "Tag not found in https://www.amazon.com/product-reviews/B0BZRRPQ81/ref=cm_cr_dp_d_show_all_top?ie=UTF8&reviewerType=all_reviews&sortBy=recent\n"
     ]
    },
    {
     "name": "stderr",
     "output_type": "stream",
     "text": [
      "INFO:root:Successfully scraped total 601 rating for product B08LKK3PSH\n"
     ]
    },
    {
     "name": "stdout",
     "output_type": "stream",
     "text": [
      "Helpful Text: One person found this helpful\n",
      "Tag not found in https://www.amazon.com/product-reviews/B0C49H6WRS/ref=cm_cr_dp_d_show_all_top?ie=UTF8&reviewerType=all_reviews&sortBy=recent\n"
     ]
    },
    {
     "name": "stderr",
     "output_type": "stream",
     "text": [
      "INFO:root:Successfully scraped total 1731 rating for product B08VRDKGL4\n"
     ]
    },
    {
     "name": "stdout",
     "output_type": "stream",
     "text": [
      "Tag not found in https://www.amazon.com/product-reviews/B08LKK3PSH/ref=cm_cr_dp_d_show_all_top?ie=UTF8&reviewerType=all_reviews&sortBy=recent\n",
      "Helpful Text: 2 people found this helpful\n"
     ]
    },
    {
     "name": "stderr",
     "output_type": "stream",
     "text": [
      "INFO:root:Successfully scraped total 43 rating for product B0BG92CSJ6\n"
     ]
    },
    {
     "name": "stdout",
     "output_type": "stream",
     "text": [
      "Tag not found in https://www.amazon.com/product-reviews/B08VRDKGL4/ref=cm_cr_dp_d_show_all_top?ie=UTF8&reviewerType=all_reviews&sortBy=recent\n",
      "Helpful Text: One person found this helpful\n"
     ]
    },
    {
     "name": "stderr",
     "output_type": "stream",
     "text": [
      "INFO:root:Successfully scraped total 87 rating for product B0B5MQ4YXK\n",
      "INFO:root:Successfully scraped total 543 rating for product B00YSL03AE\n"
     ]
    },
    {
     "name": "stdout",
     "output_type": "stream",
     "text": [
      "Tag not found in https://www.amazon.com/product-reviews/B0B5MQ4YXK/ref=cm_cr_dp_d_show_all_top?ie=UTF8&reviewerType=all_reviews&sortBy=recent\n",
      "Helpful Text: One person found this helpful\n"
     ]
    },
    {
     "name": "stderr",
     "output_type": "stream",
     "text": [
      "INFO:root:Successfully scraped total 12 rating for product B0BTZ84SN4\n"
     ]
    },
    {
     "name": "stdout",
     "output_type": "stream",
     "text": [
      "Tag not found in https://www.amazon.com/product-reviews/B00YSL03AE/ref=cm_cr_dp_d_show_all_top?ie=UTF8&reviewerType=all_reviews&sortBy=recent\n",
      "Tag not found in https://www.amazon.com/product-reviews/B00YSL03AE/ref=cm_cr_dp_d_show_all_top?ie=UTF8&reviewerType=all_reviews&sortBy=recent\n"
     ]
    },
    {
     "name": "stderr",
     "output_type": "stream",
     "text": [
      "INFO:root:Successfully scraped total 17 rating for product B0BNW83VMP\n",
      "INFO:root:Successfully scraped total 117 rating for product B0BCRXJK4P\n",
      "INFO:root:Successfully scraped total 4 rating for product B0BWY89FX2\n"
     ]
    },
    {
     "name": "stdout",
     "output_type": "stream",
     "text": [
      "Tag not found in https://www.amazon.com/product-reviews/B0BCRXJK4P/ref=cm_cr_dp_d_show_all_top?ie=UTF8&reviewerType=all_reviews&sortBy=recent\n",
      "Helpful Text: 2 people found this helpful\n"
     ]
    },
    {
     "name": "stderr",
     "output_type": "stream",
     "text": [
      "INFO:root:Successfully scraped total 347 rating for product B09N9W2YV2\n",
      "WARNING:root:Failed to scrape total rating for product \n",
      "WARNING:root:Failed to scrape total rating for product \n",
      "WARNING:root:Failed to scrape total rating for product \n",
      "WARNING:root:Failed to scrape total rating for product \n"
     ]
    },
    {
     "name": "stdout",
     "output_type": "stream",
     "text": [
      "Tag not found in https://www.amazon.com/product-reviews/B09N9W2YV2/ref=cm_cr_dp_d_show_all_top?ie=UTF8&reviewerType=all_reviews&sortBy=recent\n",
      "Tag not found in https://www.amazon.com/product-reviews/B09N9W2YV2/ref=cm_cr_dp_d_show_all_top?ie=UTF8&reviewerType=all_reviews&sortBy=recent\n",
      "Failed to scrape item name in https://www.amazon.com/s?k=accessories+for+clothes&ref=nb_sb_noss&page=5\n",
      "Failed to scrape item name in https://www.amazon.com/s?k=accessories+for+clothes&ref=nb_sb_noss&page=5\n",
      "Failed to scrape item name in https://www.amazon.com/s?k=accessories+for+clothes&ref=nb_sb_noss&page=5\n",
      "Failed to scrape item name in https://www.amazon.com/s?k=accessories+for+clothes&ref=nb_sb_noss&page=5\n"
     ]
    },
    {
     "name": "stderr",
     "output_type": "stream",
     "text": [
      "WARNING:root:Failed to scrape total rating for product \n",
      "INFO:root:Successfully scraped total 356 rating for product B0B1J1B14J\n",
      "INFO:root:Successfully scraped total 3 rating for product B0BFW9TCBP\n"
     ]
    },
    {
     "name": "stdout",
     "output_type": "stream",
     "text": [
      "Tag not found in https://www.amazon.com/product-reviews/B0B1J1B14J/ref=cm_cr_dp_d_show_all_top?ie=UTF8&reviewerType=all_reviews&sortBy=recent\n",
      "Tag not found in https://www.amazon.com/product-reviews/B0B1J1B14J/ref=cm_cr_dp_d_show_all_top?ie=UTF8&reviewerType=all_reviews&sortBy=recent\n"
     ]
    },
    {
     "name": "stderr",
     "output_type": "stream",
     "text": [
      "INFO:root:Successfully scraped total 338 rating for product B07XTH9FS4\n",
      "INFO:root:Successfully scraped total 4 rating for product B0BKKSFS2F\n"
     ]
    },
    {
     "name": "stdout",
     "output_type": "stream",
     "text": [
      "Tag not found in https://www.amazon.com/product-reviews/B07XTH9FS4/ref=cm_cr_dp_d_show_all_top?ie=UTF8&reviewerType=all_reviews&sortBy=recent\n",
      "Helpful Text: 2 people found this helpful\n"
     ]
    },
    {
     "name": "stderr",
     "output_type": "stream",
     "text": [
      "INFO:root:Successfully scraped total 77 rating for product B09YYF67T8\n",
      "INFO:root:Successfully scraped total 12 rating for product B0BTZ84SN4\n",
      "INFO:root:Successfully scraped total 17 rating for product B0BNW83VMP\n",
      "INFO:root:Successfully scraped total 279 rating for product \n",
      "WARNING:root:Failed to scrape total rating for product \n",
      "INFO:root:Successfully scraped total 858 rating for product B0CB9YFLD5\n"
     ]
    },
    {
     "name": "stdout",
     "output_type": "stream",
     "text": [
      "Helpful Text: One person found this helpful\n",
      "Tag not found in https://www.amazon.com/product-reviews/B09YYF67T8/ref=cm_cr_dp_d_show_all_top?ie=UTF8&reviewerType=all_reviews&sortBy=recent\n",
      "Failed to scrape item name in https://www.amazon.com/s?k=accessories+for+clothes&ref=nb_sb_noss&page=6\n"
     ]
    },
    {
     "name": "stderr",
     "output_type": "stream",
     "text": [
      "INFO:root:Successfully scraped total 117 rating for product B0BCRXJK4P\n",
      "INFO:root:Successfully scraped total 75 rating for product B09R1R2T74\n"
     ]
    },
    {
     "name": "stdout",
     "output_type": "stream",
     "text": [
      "Helpful Text: 2 people found this helpful\n",
      "Tag not found in https://www.amazon.com/product-reviews/B0CB9YFLD5/ref=cm_cr_dp_d_show_all_top?ie=UTF8&reviewerType=all_reviews&sortBy=recent\n"
     ]
    },
    {
     "name": "stderr",
     "output_type": "stream",
     "text": [
      "INFO:root:Successfully scraped total 347 rating for product B09N9W2YV2\n",
      "INFO:root:Successfully scraped total 31 rating for product B0BVFNST7G\n"
     ]
    },
    {
     "name": "stdout",
     "output_type": "stream",
     "text": [
      "Tag not found in https://www.amazon.com/product-reviews/B09R1R2T74/ref=cm_cr_dp_d_show_all_top?ie=UTF8&reviewerType=all_reviews&sortBy=recent\n",
      "Tag not found in https://www.amazon.com/product-reviews/B09R1R2T74/ref=cm_cr_dp_d_show_all_top?ie=UTF8&reviewerType=all_reviews&sortBy=recent\n"
     ]
    },
    {
     "name": "stderr",
     "output_type": "stream",
     "text": [
      "INFO:root:Successfully scraped total 2 rating for product B0C3RWVHKY\n",
      "INFO:root:Successfully scraped total 31 rating for product B0C539K1BQ\n"
     ]
    },
    {
     "name": "stdout",
     "output_type": "stream",
     "text": [
      "TimeoutException: Could not find reviews for https://www.amazon.com/product-reviews/B0C3RWVHKY/ref=cm_cr_dp_d_show_all_top?ie=UTF8&reviewerType=all_reviews&sortBy=recent\n"
     ]
    },
    {
     "name": "stderr",
     "output_type": "stream",
     "text": [
      "INFO:root:Successfully scraped total 17 rating for product B0C2BV8VV3\n",
      "INFO:root:Successfully scraped total 11054 rating for product B08BFMMKZ5\n",
      "INFO:root:Successfully scraped total 233 rating for product B07JQZGR51\n"
     ]
    },
    {
     "name": "stdout",
     "output_type": "stream",
     "text": [
      "Tag not found in https://www.amazon.com/product-reviews/B08BFMMKZ5/ref=cm_cr_dp_d_show_all_top?ie=UTF8&reviewerType=all_reviews&sortBy=recent\n",
      "Tag not found in https://www.amazon.com/product-reviews/B08BFMMKZ5/ref=cm_cr_dp_d_show_all_top?ie=UTF8&reviewerType=all_reviews&sortBy=recent\n"
     ]
    },
    {
     "name": "stderr",
     "output_type": "stream",
     "text": [
      "INFO:root:Successfully scraped total 533 rating for product B08J7NTVPF\n"
     ]
    },
    {
     "name": "stdout",
     "output_type": "stream",
     "text": [
      "Tag not found in https://www.amazon.com/product-reviews/B07JQZGR51/ref=cm_cr_dp_d_show_all_top?ie=UTF8&reviewerType=all_reviews&sortBy=recent\n",
      "Tag not found in https://www.amazon.com/product-reviews/B07JQZGR51/ref=cm_cr_dp_d_show_all_top?ie=UTF8&reviewerType=all_reviews&sortBy=recent\n"
     ]
    },
    {
     "name": "stderr",
     "output_type": "stream",
     "text": [
      "INFO:root:Successfully scraped total 4308 rating for product B01GVG73ZG\n"
     ]
    },
    {
     "name": "stdout",
     "output_type": "stream",
     "text": [
      "Tag not found in https://www.amazon.com/product-reviews/B08J7NTVPF/ref=cm_cr_dp_d_show_all_top?ie=UTF8&reviewerType=all_reviews&sortBy=recent\n",
      "Tag not found in https://www.amazon.com/product-reviews/B08J7NTVPF/ref=cm_cr_dp_d_show_all_top?ie=UTF8&reviewerType=all_reviews&sortBy=recent\n"
     ]
    },
    {
     "name": "stderr",
     "output_type": "stream",
     "text": [
      "INFO:root:Successfully scraped total 12 rating for product B0BQ74BWP3\n"
     ]
    },
    {
     "name": "stdout",
     "output_type": "stream",
     "text": [
      "Helpful Text: 2 people found this helpful\n",
      "Tag not found in https://www.amazon.com/product-reviews/B01GVG73ZG/ref=cm_cr_dp_d_show_all_top?ie=UTF8&reviewerType=all_reviews&sortBy=recent\n"
     ]
    },
    {
     "name": "stderr",
     "output_type": "stream",
     "text": [
      "INFO:root:Successfully scraped total 492 rating for product B0B8YVB5Y8\n",
      "INFO:root:Successfully scraped total 1310 rating for product B0BXGWZTNC\n"
     ]
    },
    {
     "name": "stdout",
     "output_type": "stream",
     "text": [
      "Tag not found in https://www.amazon.com/product-reviews/B0B8YVB5Y8/ref=cm_cr_dp_d_show_all_top?ie=UTF8&reviewerType=all_reviews&sortBy=recent\n",
      "Helpful Text: One person found this helpful\n"
     ]
    },
    {
     "name": "stderr",
     "output_type": "stream",
     "text": [
      "INFO:root:Successfully scraped total 712 rating for product B0BLJQLGFB\n"
     ]
    },
    {
     "name": "stdout",
     "output_type": "stream",
     "text": [
      "Tag not found in https://www.amazon.com/product-reviews/B0BXGWZTNC/ref=cm_cr_dp_d_show_all_top?ie=UTF8&reviewerType=all_reviews&sortBy=recent\n",
      "Tag not found in https://www.amazon.com/product-reviews/B0BXGWZTNC/ref=cm_cr_dp_d_show_all_top?ie=UTF8&reviewerType=all_reviews&sortBy=recent\n"
     ]
    },
    {
     "name": "stderr",
     "output_type": "stream",
     "text": [
      "INFO:root:Successfully scraped total 4215 rating for product B0BJ7SXDTR\n"
     ]
    },
    {
     "name": "stdout",
     "output_type": "stream",
     "text": [
      "Tag not found in https://www.amazon.com/product-reviews/B0BLJQLGFB/ref=cm_cr_dp_d_show_all_top?ie=UTF8&reviewerType=all_reviews&sortBy=recent\n",
      "Helpful Text: 2 people found this helpful\n"
     ]
    },
    {
     "name": "stderr",
     "output_type": "stream",
     "text": [
      "WARNING:root:Failed to scrape total rating for product B0C58VF41N\n"
     ]
    },
    {
     "name": "stdout",
     "output_type": "stream",
     "text": [
      "Tag not found in https://www.amazon.com/product-reviews/B0BJ7SXDTR/ref=cm_cr_dp_d_show_all_top?ie=UTF8&reviewerType=all_reviews&sortBy=recent\n",
      "Tag not found in https://www.amazon.com/product-reviews/B0BJ7SXDTR/ref=cm_cr_dp_d_show_all_top?ie=UTF8&reviewerType=all_reviews&sortBy=recent\n"
     ]
    },
    {
     "name": "stderr",
     "output_type": "stream",
     "text": [
      "INFO:root:Successfully scraped total 1397 rating for product B081DBZZQR\n"
     ]
    },
    {
     "name": "stdout",
     "output_type": "stream",
     "text": [
      "TimeoutException: Could not find reviews for https://www.amazon.com/product-reviews/B0C58VF41N/ref=cm_cr_dp_d_show_all_top?ie=UTF8&reviewerType=all_reviews&sortBy=recent\n"
     ]
    },
    {
     "name": "stderr",
     "output_type": "stream",
     "text": [
      "INFO:root:Successfully scraped total 967 rating for product B09C5QWGT4\n"
     ]
    },
    {
     "name": "stdout",
     "output_type": "stream",
     "text": [
      "Tag not found in https://www.amazon.com/product-reviews/B081DBZZQR/ref=cm_cr_dp_d_show_all_top?ie=UTF8&reviewerType=all_reviews&sortBy=recent\n",
      "Tag not found in https://www.amazon.com/product-reviews/B081DBZZQR/ref=cm_cr_dp_d_show_all_top?ie=UTF8&reviewerType=all_reviews&sortBy=recent\n"
     ]
    },
    {
     "name": "stderr",
     "output_type": "stream",
     "text": [
      "INFO:root:Successfully scraped total 1770 rating for product B071CKS1HY\n"
     ]
    },
    {
     "name": "stdout",
     "output_type": "stream",
     "text": [
      "Helpful Text: One person found this helpful\n",
      "Helpful Text: 2 people found this helpful\n"
     ]
    },
    {
     "name": "stderr",
     "output_type": "stream",
     "text": [
      "INFO:root:Successfully scraped total 78 rating for product B0B8H9P14P\n"
     ]
    },
    {
     "name": "stdout",
     "output_type": "stream",
     "text": [
      "Tag not found in https://www.amazon.com/product-reviews/B071CKS1HY/ref=cm_cr_dp_d_show_all_top?ie=UTF8&reviewerType=all_reviews&sortBy=recent\n",
      "Tag not found in https://www.amazon.com/product-reviews/B071CKS1HY/ref=cm_cr_dp_d_show_all_top?ie=UTF8&reviewerType=all_reviews&sortBy=recent\n"
     ]
    },
    {
     "name": "stderr",
     "output_type": "stream",
     "text": [
      "INFO:root:Successfully scraped total 800 rating for product B0BL1FKD3J\n"
     ]
    },
    {
     "name": "stdout",
     "output_type": "stream",
     "text": [
      "Tag not found in https://www.amazon.com/product-reviews/B0B8H9P14P/ref=cm_cr_dp_d_show_all_top?ie=UTF8&reviewerType=all_reviews&sortBy=recent\n",
      "Helpful Text: One person found this helpful\n"
     ]
    },
    {
     "name": "stderr",
     "output_type": "stream",
     "text": [
      "INFO:root:Successfully scraped total 412 rating for product B09BQWXQQ6\n"
     ]
    },
    {
     "name": "stdout",
     "output_type": "stream",
     "text": [
      "Helpful Text: One person found this helpful\n",
      "Tag not found in https://www.amazon.com/product-reviews/B0BL1FKD3J/ref=cm_cr_dp_d_show_all_top?ie=UTF8&reviewerType=all_reviews&sortBy=recent\n",
      "Tag not found in https://www.amazon.com/product-reviews/B09BQWXQQ6/ref=cm_cr_dp_d_show_all_top?ie=UTF8&reviewerType=all_reviews&sortBy=recent\n"
     ]
    },
    {
     "name": "stderr",
     "output_type": "stream",
     "text": [
      "INFO:root:Successfully scraped total 10 rating for product B0CGV4VYPF\n"
     ]
    },
    {
     "name": "stdout",
     "output_type": "stream",
     "text": [
      "Tag not found in https://www.amazon.com/product-reviews/B09BQWXQQ6/ref=cm_cr_dp_d_show_all_top?ie=UTF8&reviewerType=all_reviews&sortBy=recent\n"
     ]
    },
    {
     "name": "stderr",
     "output_type": "stream",
     "text": [
      "INFO:root:Successfully scraped total 458 rating for product B00TGDCIOS\n"
     ]
    },
    {
     "name": "stdout",
     "output_type": "stream",
     "text": [
      "Helpful Text: One person found this helpful\n",
      "Helpful Text: One person found this helpful\n"
     ]
    },
    {
     "name": "stderr",
     "output_type": "stream",
     "text": [
      "INFO:root:Successfully scraped total 4487 rating for product B0B5VP57TF\n"
     ]
    },
    {
     "name": "stdout",
     "output_type": "stream",
     "text": [
      "Tag not found in https://www.amazon.com/product-reviews/B00TGDCIOS/ref=cm_cr_dp_d_show_all_top?ie=UTF8&reviewerType=all_reviews&sortBy=recent\n",
      "Helpful Text: 3 people found this helpful\n"
     ]
    },
    {
     "name": "stderr",
     "output_type": "stream",
     "text": [
      "INFO:root:Successfully scraped total 822 rating for product B0B7JMPQ28\n"
     ]
    },
    {
     "name": "stdout",
     "output_type": "stream",
     "text": [
      "Tag not found in https://www.amazon.com/product-reviews/B0B5VP57TF/ref=cm_cr_dp_d_show_all_top?ie=UTF8&reviewerType=all_reviews&sortBy=recent\n",
      "Tag not found in https://www.amazon.com/product-reviews/B0B5VP57TF/ref=cm_cr_dp_d_show_all_top?ie=UTF8&reviewerType=all_reviews&sortBy=recent\n"
     ]
    },
    {
     "name": "stderr",
     "output_type": "stream",
     "text": [
      "INFO:root:Successfully scraped total 73 rating for product B0C9CJHPNS\n"
     ]
    },
    {
     "name": "stdout",
     "output_type": "stream",
     "text": [
      "Tag not found in https://www.amazon.com/product-reviews/B0B7JMPQ28/ref=cm_cr_dp_d_show_all_top?ie=UTF8&reviewerType=all_reviews&sortBy=recent\n",
      "Tag not found in https://www.amazon.com/product-reviews/B0B7JMPQ28/ref=cm_cr_dp_d_show_all_top?ie=UTF8&reviewerType=all_reviews&sortBy=recent\n"
     ]
    },
    {
     "name": "stderr",
     "output_type": "stream",
     "text": [
      "INFO:root:Successfully scraped total 8287 rating for product B0791BH3KD\n"
     ]
    },
    {
     "name": "stdout",
     "output_type": "stream",
     "text": [
      "Helpful Text: One person found this helpful\n",
      "Helpful Text: One person found this helpful\n"
     ]
    },
    {
     "name": "stderr",
     "output_type": "stream",
     "text": [
      "WARNING:root:Failed to scrape total rating for product B0C3MTMYT9\n"
     ]
    },
    {
     "name": "stdout",
     "output_type": "stream",
     "text": [
      "Tag not found in https://www.amazon.com/product-reviews/B0791BH3KD/ref=cm_cr_dp_d_show_all_top?ie=UTF8&reviewerType=all_reviews&sortBy=recent\n",
      "Tag not found in https://www.amazon.com/product-reviews/B0791BH3KD/ref=cm_cr_dp_d_show_all_top?ie=UTF8&reviewerType=all_reviews&sortBy=recent\n"
     ]
    },
    {
     "name": "stderr",
     "output_type": "stream",
     "text": [
      "INFO:root:Successfully scraped total 177 rating for product B09PNJFBDN\n"
     ]
    },
    {
     "name": "stdout",
     "output_type": "stream",
     "text": [
      "TimeoutException: Could not find reviews for https://www.amazon.com/product-reviews/B0C3MTMYT9/ref=cm_cr_dp_d_show_all_top?ie=UTF8&reviewerType=all_reviews&sortBy=recent\n"
     ]
    },
    {
     "name": "stderr",
     "output_type": "stream",
     "text": [
      "INFO:root:Successfully scraped total 8 rating for product B0C7R2JG2N\n"
     ]
    },
    {
     "name": "stdout",
     "output_type": "stream",
     "text": [
      "Tag not found in https://www.amazon.com/product-reviews/B09PNJFBDN/ref=cm_cr_dp_d_show_all_top?ie=UTF8&reviewerType=all_reviews&sortBy=recent\n",
      "Tag not found in https://www.amazon.com/product-reviews/B09PNJFBDN/ref=cm_cr_dp_d_show_all_top?ie=UTF8&reviewerType=all_reviews&sortBy=recent\n"
     ]
    },
    {
     "name": "stderr",
     "output_type": "stream",
     "text": [
      "INFO:root:Successfully scraped total 568 rating for product B0B5PLLP8Y\n",
      "INFO:root:Successfully scraped total 71 rating for product B0B7QS5RKP\n"
     ]
    },
    {
     "name": "stdout",
     "output_type": "stream",
     "text": [
      "Tag not found in https://www.amazon.com/product-reviews/B0B5PLLP8Y/ref=cm_cr_dp_d_show_all_top?ie=UTF8&reviewerType=all_reviews&sortBy=recent\n",
      "Tag not found in https://www.amazon.com/product-reviews/B0B5PLLP8Y/ref=cm_cr_dp_d_show_all_top?ie=UTF8&reviewerType=all_reviews&sortBy=recent\n"
     ]
    },
    {
     "name": "stderr",
     "output_type": "stream",
     "text": [
      "INFO:root:Successfully scraped total 3045 rating for product B08PYHZ1ZD\n"
     ]
    },
    {
     "name": "stdout",
     "output_type": "stream",
     "text": [
      "Tag not found in https://www.amazon.com/product-reviews/B0B7QS5RKP/ref=cm_cr_dp_d_show_all_top?ie=UTF8&reviewerType=all_reviews&sortBy=recent\n",
      "Tag not found in https://www.amazon.com/product-reviews/B0B7QS5RKP/ref=cm_cr_dp_d_show_all_top?ie=UTF8&reviewerType=all_reviews&sortBy=recent\n"
     ]
    },
    {
     "name": "stderr",
     "output_type": "stream",
     "text": [
      "INFO:root:Successfully scraped total 10 rating for product B0BGZ8MZHN\n"
     ]
    },
    {
     "name": "stdout",
     "output_type": "stream",
     "text": [
      "Tag not found in https://www.amazon.com/product-reviews/B08PYHZ1ZD/ref=cm_cr_dp_d_show_all_top?ie=UTF8&reviewerType=all_reviews&sortBy=recent\n",
      "Helpful Text: One person found this helpful\n"
     ]
    },
    {
     "name": "stderr",
     "output_type": "stream",
     "text": [
      "INFO:root:Successfully scraped total 61 rating for product B0C6RK6BLQ\n",
      "INFO:root:Successfully scraped total 147 rating for product B0BHV9MWKM\n"
     ]
    },
    {
     "name": "stdout",
     "output_type": "stream",
     "text": [
      "Tag not found in https://www.amazon.com/product-reviews/B0C6RK6BLQ/ref=cm_cr_dp_d_show_all_top?ie=UTF8&reviewerType=all_reviews&sortBy=recent\n",
      "Helpful Text: 2 people found this helpful\n"
     ]
    },
    {
     "name": "stderr",
     "output_type": "stream",
     "text": [
      "INFO:root:Successfully scraped total 1953 rating for product B07F2T8QRZ\n"
     ]
    },
    {
     "name": "stdout",
     "output_type": "stream",
     "text": [
      "Tag not found in https://www.amazon.com/product-reviews/B0BHV9MWKM/ref=cm_cr_dp_d_show_all_top?ie=UTF8&reviewerType=all_reviews&sortBy=recent\n",
      "Helpful Text: One person found this helpful\n"
     ]
    },
    {
     "name": "stderr",
     "output_type": "stream",
     "text": [
      "INFO:root:Successfully scraped total 13344 rating for product B01LYJHDWT\n"
     ]
    },
    {
     "name": "stdout",
     "output_type": "stream",
     "text": [
      "Tag not found in https://www.amazon.com/product-reviews/B07F2T8QRZ/ref=cm_cr_dp_d_show_all_top?ie=UTF8&reviewerType=all_reviews&sortBy=recent\n",
      "Tag not found in https://www.amazon.com/product-reviews/B07F2T8QRZ/ref=cm_cr_dp_d_show_all_top?ie=UTF8&reviewerType=all_reviews&sortBy=recent\n"
     ]
    },
    {
     "name": "stderr",
     "output_type": "stream",
     "text": [
      "INFO:root:Successfully scraped total 24 rating for product B0BS3V3BFF\n"
     ]
    },
    {
     "name": "stdout",
     "output_type": "stream",
     "text": [
      "Tag not found in https://www.amazon.com/product-reviews/B01LYJHDWT/ref=cm_cr_dp_d_show_all_top?ie=UTF8&reviewerType=all_reviews&sortBy=recent\n",
      "Helpful Text: 2 people found this helpful\n"
     ]
    },
    {
     "name": "stderr",
     "output_type": "stream",
     "text": [
      "INFO:root:Successfully scraped total 145 rating for product B0C5J683ZB\n",
      "INFO:root:Successfully scraped total 1025 rating for product B0BKK9WDXG\n"
     ]
    },
    {
     "name": "stdout",
     "output_type": "stream",
     "text": [
      "Tag not found in https://www.amazon.com/product-reviews/B0C5J683ZB/ref=cm_cr_dp_d_show_all_top?ie=UTF8&reviewerType=all_reviews&sortBy=recent\n",
      "Helpful Text: One person found this helpful\n"
     ]
    },
    {
     "name": "stderr",
     "output_type": "stream",
     "text": [
      "WARNING:root:Failed to scrape total rating for product B0CHFZLSWG\n"
     ]
    },
    {
     "name": "stdout",
     "output_type": "stream",
     "text": [
      "Tag not found in https://www.amazon.com/product-reviews/B0BKK9WDXG/ref=cm_cr_dp_d_show_all_top?ie=UTF8&reviewerType=all_reviews&sortBy=recent\n",
      "Tag not found in https://www.amazon.com/product-reviews/B0BKK9WDXG/ref=cm_cr_dp_d_show_all_top?ie=UTF8&reviewerType=all_reviews&sortBy=recent\n"
     ]
    },
    {
     "name": "stderr",
     "output_type": "stream",
     "text": [
      "INFO:root:Successfully scraped total 8531 rating for product B08JYCDHK8\n"
     ]
    },
    {
     "name": "stdout",
     "output_type": "stream",
     "text": [
      "TimeoutException: Could not find reviews for https://www.amazon.com/product-reviews/B0CHFZLSWG/ref=cm_cr_dp_d_show_all_top?ie=UTF8&reviewerType=all_reviews&sortBy=recent\n"
     ]
    },
    {
     "name": "stderr",
     "output_type": "stream",
     "text": [
      "INFO:root:Successfully scraped total 1117 rating for product B08J4GH846\n"
     ]
    },
    {
     "name": "stdout",
     "output_type": "stream",
     "text": [
      "Helpful Text: One person found this helpful\n",
      "Helpful Text: 10 people found this helpful\n"
     ]
    },
    {
     "name": "stderr",
     "output_type": "stream",
     "text": [
      "INFO:root:Successfully scraped total 28 rating for product B0C8S13J7W\n"
     ]
    },
    {
     "name": "stdout",
     "output_type": "stream",
     "text": [
      "Tag not found in https://www.amazon.com/product-reviews/B08J4GH846/ref=cm_cr_dp_d_show_all_top?ie=UTF8&reviewerType=all_reviews&sortBy=recent\n",
      "Tag not found in https://www.amazon.com/product-reviews/B08J4GH846/ref=cm_cr_dp_d_show_all_top?ie=UTF8&reviewerType=all_reviews&sortBy=recent\n"
     ]
    },
    {
     "name": "stderr",
     "output_type": "stream",
     "text": [
      "INFO:root:Successfully scraped total 155 rating for product B09WVN6QPT\n"
     ]
    },
    {
     "name": "stdout",
     "output_type": "stream",
     "text": [
      "Helpful Text: One person found this helpful\n",
      "Tag not found in https://www.amazon.com/product-reviews/B0C8S13J7W/ref=cm_cr_dp_d_show_all_top?ie=UTF8&reviewerType=all_reviews&sortBy=recent\n"
     ]
    },
    {
     "name": "stderr",
     "output_type": "stream",
     "text": [
      "INFO:root:Successfully scraped total 292 rating for product B0B62DX751\n"
     ]
    },
    {
     "name": "stdout",
     "output_type": "stream",
     "text": [
      "Helpful Text: One person found this helpful\n",
      "Tag not found in https://www.amazon.com/product-reviews/B09WVN6QPT/ref=cm_cr_dp_d_show_all_top?ie=UTF8&reviewerType=all_reviews&sortBy=recent\n"
     ]
    },
    {
     "name": "stderr",
     "output_type": "stream",
     "text": [
      "INFO:root:Successfully scraped total 7682 rating for product B07MSGVZYH\n"
     ]
    },
    {
     "name": "stdout",
     "output_type": "stream",
     "text": [
      "Tag not found in https://www.amazon.com/product-reviews/B0B62DX751/ref=cm_cr_dp_d_show_all_top?ie=UTF8&reviewerType=all_reviews&sortBy=recent\n",
      "Tag not found in https://www.amazon.com/product-reviews/B0B62DX751/ref=cm_cr_dp_d_show_all_top?ie=UTF8&reviewerType=all_reviews&sortBy=recent\n"
     ]
    },
    {
     "name": "stderr",
     "output_type": "stream",
     "text": [
      "INFO:root:Successfully scraped total 6 rating for product B0C7QC1YR4\n"
     ]
    },
    {
     "name": "stdout",
     "output_type": "stream",
     "text": [
      "Tag not found in https://www.amazon.com/product-reviews/B07MSGVZYH/ref=cm_cr_dp_d_show_all_top?ie=UTF8&reviewerType=all_reviews&sortBy=recent\n",
      "Helpful Text: 2 people found this helpful\n"
     ]
    },
    {
     "name": "stderr",
     "output_type": "stream",
     "text": [
      "INFO:root:Successfully scraped total 348 rating for product B0BXCVVT8Q\n",
      "INFO:root:Successfully scraped total 50 rating for product \n",
      "WARNING:root:Failed to scrape total rating for product \n",
      "WARNING:root:Failed to scrape total rating for product \n",
      "WARNING:root:Failed to scrape total rating for product \n",
      "WARNING:root:Failed to scrape total rating for product \n"
     ]
    },
    {
     "name": "stdout",
     "output_type": "stream",
     "text": [
      "Tag not found in https://www.amazon.com/product-reviews/B0BXCVVT8Q/ref=cm_cr_dp_d_show_all_top?ie=UTF8&reviewerType=all_reviews&sortBy=recent\n",
      "Tag not found in https://www.amazon.com/product-reviews/B0BXCVVT8Q/ref=cm_cr_dp_d_show_all_top?ie=UTF8&reviewerType=all_reviews&sortBy=recent\n",
      "Failed to scrape item name in https://www.amazon.com/s?k=accessories+for+clothes&ref=nb_sb_noss&page=6\n",
      "Failed to scrape item name in https://www.amazon.com/s?k=accessories+for+clothes&ref=nb_sb_noss&page=6\n",
      "Failed to scrape item name in https://www.amazon.com/s?k=accessories+for+clothes&ref=nb_sb_noss&page=6\n",
      "Failed to scrape item name in https://www.amazon.com/s?k=accessories+for+clothes&ref=nb_sb_noss&page=6\n"
     ]
    },
    {
     "name": "stderr",
     "output_type": "stream",
     "text": [
      "WARNING:root:Failed to scrape total rating for product \n",
      "INFO:root:Successfully scraped total 53 rating for product B09XHKB3W8\n",
      "WARNING:root:Failed to scrape total rating for product B0C85X6JD7\n",
      "INFO:root:Successfully scraped total 4532 rating for product B073W63HN3\n"
     ]
    },
    {
     "name": "stdout",
     "output_type": "stream",
     "text": [
      "TimeoutException: Could not find reviews for https://www.amazon.com/product-reviews/B0C85X6JD7/ref=cm_cr_dp_d_show_all_top?ie=UTF8&reviewerType=all_reviews&sortBy=recent\n"
     ]
    },
    {
     "name": "stderr",
     "output_type": "stream",
     "text": [
      "INFO:root:Successfully scraped total 234 rating for product B097CPCV2K\n"
     ]
    },
    {
     "name": "stdout",
     "output_type": "stream",
     "text": [
      "Tag not found in https://www.amazon.com/product-reviews/B073W63HN3/ref=cm_cr_dp_d_show_all_top?ie=UTF8&reviewerType=all_reviews&sortBy=recent\n",
      "Tag not found in https://www.amazon.com/product-reviews/B073W63HN3/ref=cm_cr_dp_d_show_all_top?ie=UTF8&reviewerType=all_reviews&sortBy=recent\n"
     ]
    },
    {
     "name": "stderr",
     "output_type": "stream",
     "text": [
      "INFO:root:Successfully scraped total 348 rating for product B0BXCVVT8Q\n",
      "INFO:root:Successfully scraped total 111 rating for product B0BCNWZC92\n"
     ]
    },
    {
     "name": "stdout",
     "output_type": "stream",
     "text": [
      "Tag not found in https://www.amazon.com/product-reviews/B097CPCV2K/ref=cm_cr_dp_d_show_all_top?ie=UTF8&reviewerType=all_reviews&sortBy=recent\n",
      "Helpful Text: 19 people found this helpful\n"
     ]
    },
    {
     "name": "stderr",
     "output_type": "stream",
     "text": [
      "INFO:root:Successfully scraped total 731 rating for product B07M7PP895\n"
     ]
    },
    {
     "name": "stdout",
     "output_type": "stream",
     "text": [
      "Tag not found in https://www.amazon.com/product-reviews/B0BCNWZC92/ref=cm_cr_dp_d_show_all_top?ie=UTF8&reviewerType=all_reviews&sortBy=recent\n",
      "Helpful Text: 2 people found this helpful\n"
     ]
    },
    {
     "name": "stderr",
     "output_type": "stream",
     "text": [
      "INFO:root:Successfully scraped total 673 rating for product \n",
      "WARNING:root:Failed to scrape total rating for product \n",
      "INFO:root:Successfully scraped total 1809 rating for product B08BJZR8TS\n"
     ]
    },
    {
     "name": "stdout",
     "output_type": "stream",
     "text": [
      "Tag not found in https://www.amazon.com/product-reviews/B07M7PP895/ref=cm_cr_dp_d_show_all_top?ie=UTF8&reviewerType=all_reviews&sortBy=recent\n",
      "Helpful Text: 17 people found this helpful\n",
      "Failed to scrape item name in https://www.amazon.com/s?k=accessories+for+clothes&ref=nb_sb_noss&page=7\n"
     ]
    },
    {
     "name": "stderr",
     "output_type": "stream",
     "text": [
      "INFO:root:Successfully scraped total 1 rating for product B0CCNQKLT4\n"
     ]
    },
    {
     "name": "stdout",
     "output_type": "stream",
     "text": [
      "Helpful Text: 2 people found this helpful\n",
      "Helpful Text: One person found this helpful\n"
     ]
    },
    {
     "name": "stderr",
     "output_type": "stream",
     "text": [
      "INFO:root:Successfully scraped total 1412 rating for product B0BQQRLZT7\n"
     ]
    },
    {
     "name": "stdout",
     "output_type": "stream",
     "text": [
      "TimeoutException: Could not find reviews for https://www.amazon.com/product-reviews/B0CCNQKLT4/ref=cm_cr_dp_d_show_all_top?ie=UTF8&reviewerType=all_reviews&sortBy=recent\n"
     ]
    },
    {
     "name": "stderr",
     "output_type": "stream",
     "text": [
      "INFO:root:Successfully scraped total 34 rating for product B0BQJ6ZVTK\n"
     ]
    },
    {
     "name": "stdout",
     "output_type": "stream",
     "text": [
      "Tag not found in https://www.amazon.com/product-reviews/B0BQQRLZT7/ref=cm_cr_dp_d_show_all_top?ie=UTF8&reviewerType=all_reviews&sortBy=recent\n",
      "Tag not found in https://www.amazon.com/product-reviews/B0BQQRLZT7/ref=cm_cr_dp_d_show_all_top?ie=UTF8&reviewerType=all_reviews&sortBy=recent\n"
     ]
    },
    {
     "name": "stderr",
     "output_type": "stream",
     "text": [
      "INFO:root:Successfully scraped total 704 rating for product B09FVCLCFM\n",
      "INFO:root:Successfully scraped total 4304 rating for product B0BTSPHLTH\n"
     ]
    },
    {
     "name": "stdout",
     "output_type": "stream",
     "text": [
      "Tag not found in https://www.amazon.com/product-reviews/B09FVCLCFM/ref=cm_cr_dp_d_show_all_top?ie=UTF8&reviewerType=all_reviews&sortBy=recent\n",
      "Helpful Text: One person found this helpful\n"
     ]
    },
    {
     "name": "stderr",
     "output_type": "stream",
     "text": [
      "INFO:root:Successfully scraped total 774 rating for product B0B4DH4J1L\n"
     ]
    },
    {
     "name": "stdout",
     "output_type": "stream",
     "text": [
      "Helpful Text: 2 people found this helpful\n",
      "Helpful Text: 3 people found this helpful\n"
     ]
    },
    {
     "name": "stderr",
     "output_type": "stream",
     "text": [
      "INFO:root:Successfully scraped total 760 rating for product B08D72ZQQW\n"
     ]
    },
    {
     "name": "stdout",
     "output_type": "stream",
     "text": [
      "Tag not found in https://www.amazon.com/product-reviews/B0B4DH4J1L/ref=cm_cr_dp_d_show_all_top?ie=UTF8&reviewerType=all_reviews&sortBy=recent\n",
      "Tag not found in https://www.amazon.com/product-reviews/B0B4DH4J1L/ref=cm_cr_dp_d_show_all_top?ie=UTF8&reviewerType=all_reviews&sortBy=recent\n"
     ]
    },
    {
     "name": "stderr",
     "output_type": "stream",
     "text": [
      "INFO:root:Successfully scraped total 2104 rating for product B08SJ49ZYP\n"
     ]
    },
    {
     "name": "stdout",
     "output_type": "stream",
     "text": [
      "Tag not found in https://www.amazon.com/product-reviews/B08D72ZQQW/ref=cm_cr_dp_d_show_all_top?ie=UTF8&reviewerType=all_reviews&sortBy=recent\n",
      "Helpful Text: One person found this helpful\n"
     ]
    },
    {
     "name": "stderr",
     "output_type": "stream",
     "text": [
      "INFO:root:Successfully scraped total 102 rating for product B0BBPQWZW3\n"
     ]
    },
    {
     "name": "stdout",
     "output_type": "stream",
     "text": [
      "Tag not found in https://www.amazon.com/product-reviews/B08SJ49ZYP/ref=cm_cr_dp_d_show_all_top?ie=UTF8&reviewerType=all_reviews&sortBy=recent\n",
      "Tag not found in https://www.amazon.com/product-reviews/B08SJ49ZYP/ref=cm_cr_dp_d_show_all_top?ie=UTF8&reviewerType=all_reviews&sortBy=recent\n"
     ]
    },
    {
     "name": "stderr",
     "output_type": "stream",
     "text": [
      "INFO:root:Successfully scraped total 533 rating for product B09BQSR159\n"
     ]
    },
    {
     "name": "stdout",
     "output_type": "stream",
     "text": [
      "Tag not found in https://www.amazon.com/product-reviews/B0BBPQWZW3/ref=cm_cr_dp_d_show_all_top?ie=UTF8&reviewerType=all_reviews&sortBy=recent\n",
      "Tag not found in https://www.amazon.com/product-reviews/B0BBPQWZW3/ref=cm_cr_dp_d_show_all_top?ie=UTF8&reviewerType=all_reviews&sortBy=recent\n"
     ]
    },
    {
     "name": "stderr",
     "output_type": "stream",
     "text": [
      "INFO:root:Successfully scraped total 827 rating for product B0BLVKMYNH\n"
     ]
    },
    {
     "name": "stdout",
     "output_type": "stream",
     "text": [
      "Tag not found in https://www.amazon.com/product-reviews/B09BQSR159/ref=cm_cr_dp_d_show_all_top?ie=UTF8&reviewerType=all_reviews&sortBy=recent\n",
      "Tag not found in https://www.amazon.com/product-reviews/B09BQSR159/ref=cm_cr_dp_d_show_all_top?ie=UTF8&reviewerType=all_reviews&sortBy=recent\n"
     ]
    },
    {
     "name": "stderr",
     "output_type": "stream",
     "text": [
      "INFO:root:Successfully scraped total 456 rating for product B0BW545W5G\n"
     ]
    },
    {
     "name": "stdout",
     "output_type": "stream",
     "text": [
      "Tag not found in https://www.amazon.com/product-reviews/B0BLVKMYNH/ref=cm_cr_dp_d_show_all_top?ie=UTF8&reviewerType=all_reviews&sortBy=recent\n",
      "Tag not found in https://www.amazon.com/product-reviews/B0BLVKMYNH/ref=cm_cr_dp_d_show_all_top?ie=UTF8&reviewerType=all_reviews&sortBy=recent\n"
     ]
    },
    {
     "name": "stderr",
     "output_type": "stream",
     "text": [
      "INFO:root:Successfully scraped total 3473 rating for product B07PNKBFN9\n"
     ]
    },
    {
     "name": "stdout",
     "output_type": "stream",
     "text": [
      "Helpful Text: One person found this helpful\n",
      "Tag not found in https://www.amazon.com/product-reviews/B0BW545W5G/ref=cm_cr_dp_d_show_all_top?ie=UTF8&reviewerType=all_reviews&sortBy=recent\n"
     ]
    },
    {
     "name": "stderr",
     "output_type": "stream",
     "text": [
      "INFO:root:Successfully scraped total 142 rating for product B0B3S9HJTX\n"
     ]
    },
    {
     "name": "stdout",
     "output_type": "stream",
     "text": [
      "Helpful Text: 4 people found this helpful\n",
      "Helpful Text: 4 people found this helpful\n"
     ]
    },
    {
     "name": "stderr",
     "output_type": "stream",
     "text": [
      "INFO:root:Successfully scraped total 9 rating for product B0C1J9DDZ9\n"
     ]
    },
    {
     "name": "stdout",
     "output_type": "stream",
     "text": [
      "Tag not found in https://www.amazon.com/product-reviews/B0B3S9HJTX/ref=cm_cr_dp_d_show_all_top?ie=UTF8&reviewerType=all_reviews&sortBy=recent\n",
      "Tag not found in https://www.amazon.com/product-reviews/B0B3S9HJTX/ref=cm_cr_dp_d_show_all_top?ie=UTF8&reviewerType=all_reviews&sortBy=recent\n"
     ]
    },
    {
     "name": "stderr",
     "output_type": "stream",
     "text": [
      "INFO:root:Successfully scraped total 76 rating for product B0BDYL2PRH\n",
      "INFO:root:Successfully scraped total 92 rating for product B08NBZX6VL\n"
     ]
    },
    {
     "name": "stdout",
     "output_type": "stream",
     "text": [
      "Tag not found in https://www.amazon.com/product-reviews/B0BDYL2PRH/ref=cm_cr_dp_d_show_all_top?ie=UTF8&reviewerType=all_reviews&sortBy=recent\n",
      "Tag not found in https://www.amazon.com/product-reviews/B0BDYL2PRH/ref=cm_cr_dp_d_show_all_top?ie=UTF8&reviewerType=all_reviews&sortBy=recent\n"
     ]
    },
    {
     "name": "stderr",
     "output_type": "stream",
     "text": [
      "INFO:root:Successfully scraped total 135 rating for product B0BCK8SJQ2\n"
     ]
    },
    {
     "name": "stdout",
     "output_type": "stream",
     "text": [
      "Tag not found in https://www.amazon.com/product-reviews/B08NBZX6VL/ref=cm_cr_dp_d_show_all_top?ie=UTF8&reviewerType=all_reviews&sortBy=recent\n",
      "Tag not found in https://www.amazon.com/product-reviews/B08NBZX6VL/ref=cm_cr_dp_d_show_all_top?ie=UTF8&reviewerType=all_reviews&sortBy=recent\n"
     ]
    },
    {
     "name": "stderr",
     "output_type": "stream",
     "text": [
      "INFO:root:Successfully scraped total 76 rating for product B0BMWW4YW9\n"
     ]
    },
    {
     "name": "stdout",
     "output_type": "stream",
     "text": [
      "Tag not found in https://www.amazon.com/product-reviews/B0BCK8SJQ2/ref=cm_cr_dp_d_show_all_top?ie=UTF8&reviewerType=all_reviews&sortBy=recent\n",
      "Tag not found in https://www.amazon.com/product-reviews/B0BCK8SJQ2/ref=cm_cr_dp_d_show_all_top?ie=UTF8&reviewerType=all_reviews&sortBy=recent\n"
     ]
    },
    {
     "name": "stderr",
     "output_type": "stream",
     "text": [
      "INFO:root:Successfully scraped total 1428 rating for product B07Z5Q51GJ\n"
     ]
    },
    {
     "name": "stdout",
     "output_type": "stream",
     "text": [
      "Tag not found in https://www.amazon.com/product-reviews/B0BMWW4YW9/ref=cm_cr_dp_d_show_all_top?ie=UTF8&reviewerType=all_reviews&sortBy=recent\n",
      "Tag not found in https://www.amazon.com/product-reviews/B0BMWW4YW9/ref=cm_cr_dp_d_show_all_top?ie=UTF8&reviewerType=all_reviews&sortBy=recent\n"
     ]
    },
    {
     "name": "stderr",
     "output_type": "stream",
     "text": [
      "INFO:root:Successfully scraped total 96 rating for product B0BQ313PVZ\n"
     ]
    },
    {
     "name": "stdout",
     "output_type": "stream",
     "text": [
      "Tag not found in https://www.amazon.com/product-reviews/B07Z5Q51GJ/ref=cm_cr_dp_d_show_all_top?ie=UTF8&reviewerType=all_reviews&sortBy=recent\n",
      "Helpful Text: 2 people found this helpful\n"
     ]
    },
    {
     "name": "stderr",
     "output_type": "stream",
     "text": [
      "INFO:root:Successfully scraped total 9 rating for product B0BYFBQNJK\n"
     ]
    },
    {
     "name": "stdout",
     "output_type": "stream",
     "text": [
      "Tag not found in https://www.amazon.com/product-reviews/B0BQ313PVZ/ref=cm_cr_dp_d_show_all_top?ie=UTF8&reviewerType=all_reviews&sortBy=recent\n",
      "Tag not found in https://www.amazon.com/product-reviews/B0BQ313PVZ/ref=cm_cr_dp_d_show_all_top?ie=UTF8&reviewerType=all_reviews&sortBy=recent\n"
     ]
    },
    {
     "name": "stderr",
     "output_type": "stream",
     "text": [
      "INFO:root:Successfully scraped total 730 rating for product \n",
      "WARNING:root:Failed to scrape total rating for product \n",
      "WARNING:root:Failed to scrape total rating for product \n",
      "WARNING:root:Failed to scrape total rating for product \n",
      "WARNING:root:Failed to scrape total rating for product \n"
     ]
    },
    {
     "name": "stdout",
     "output_type": "stream",
     "text": [
      "Failed to scrape item name in https://www.amazon.com/s?k=accessories+for+clothes&ref=nb_sb_noss&page=7\n",
      "Failed to scrape item name in https://www.amazon.com/s?k=accessories+for+clothes&ref=nb_sb_noss&page=7\n",
      "Failed to scrape item name in https://www.amazon.com/s?k=accessories+for+clothes&ref=nb_sb_noss&page=7\n",
      "Failed to scrape item name in https://www.amazon.com/s?k=accessories+for+clothes&ref=nb_sb_noss&page=7\n"
     ]
    },
    {
     "name": "stderr",
     "output_type": "stream",
     "text": [
      "WARNING:root:Failed to scrape total rating for product \n",
      "INFO:root:Successfully scraped total 2482 rating for product B019H1I4JG\n"
     ]
    },
    {
     "name": "stdout",
     "output_type": "stream",
     "text": [
      "Failed to scrape item name in https://www.amazon.com/s?k=accessories+for+clothes&ref=nb_sb_noss&page=8\n"
     ]
    },
    {
     "name": "stderr",
     "output_type": "stream",
     "text": [
      "INFO:root:Successfully scraped total 59 rating for product B0BM423SP1\n"
     ]
    },
    {
     "name": "stdout",
     "output_type": "stream",
     "text": [
      "Tag not found in https://www.amazon.com/product-reviews/B019H1I4JG/ref=cm_cr_dp_d_show_all_top?ie=UTF8&reviewerType=all_reviews&sortBy=recent\n",
      "Helpful Text: 6 people found this helpful\n"
     ]
    },
    {
     "name": "stderr",
     "output_type": "stream",
     "text": [
      "INFO:root:Successfully scraped total 47 rating for product B082X8MGDN\n"
     ]
    },
    {
     "name": "stdout",
     "output_type": "stream",
     "text": [
      "Tag not found in https://www.amazon.com/product-reviews/B0BM423SP1/ref=cm_cr_dp_d_show_all_top?ie=UTF8&reviewerType=all_reviews&sortBy=recent\n",
      "Helpful Text: 2 people found this helpful\n"
     ]
    },
    {
     "name": "stderr",
     "output_type": "stream",
     "text": [
      "WARNING:root:Failed to scrape total rating for product B0CDFSLNKM\n"
     ]
    },
    {
     "name": "stdout",
     "output_type": "stream",
     "text": [
      "Helpful Text: 2 people found this helpful\n",
      "Tag not found in https://www.amazon.com/product-reviews/B082X8MGDN/ref=cm_cr_dp_d_show_all_top?ie=UTF8&reviewerType=all_reviews&sortBy=recent\n"
     ]
    },
    {
     "name": "stderr",
     "output_type": "stream",
     "text": [
      "INFO:root:Successfully scraped total 9894 rating for product B0777DZXFH\n"
     ]
    },
    {
     "name": "stdout",
     "output_type": "stream",
     "text": [
      "TimeoutException: Could not find reviews for https://www.amazon.com/product-reviews/B0CDFSLNKM/ref=cm_cr_dp_d_show_all_top?ie=UTF8&reviewerType=all_reviews&sortBy=recent\n"
     ]
    },
    {
     "name": "stderr",
     "output_type": "stream",
     "text": [
      "INFO:root:Successfully scraped total 1860 rating for product B07Y2Y7GZL\n"
     ]
    },
    {
     "name": "stdout",
     "output_type": "stream",
     "text": [
      "Helpful Text: 2 people found this helpful\n",
      "Tag not found in https://www.amazon.com/product-reviews/B0777DZXFH/ref=cm_cr_dp_d_show_all_top?ie=UTF8&reviewerType=all_reviews&sortBy=recent\n"
     ]
    },
    {
     "name": "stderr",
     "output_type": "stream",
     "text": [
      "INFO:root:Successfully scraped total 1934 rating for product B07YCQ5H4W\n"
     ]
    },
    {
     "name": "stdout",
     "output_type": "stream",
     "text": [
      "Tag not found in https://www.amazon.com/product-reviews/B07Y2Y7GZL/ref=cm_cr_dp_d_show_all_top?ie=UTF8&reviewerType=all_reviews&sortBy=recent\n",
      "Tag not found in https://www.amazon.com/product-reviews/B07Y2Y7GZL/ref=cm_cr_dp_d_show_all_top?ie=UTF8&reviewerType=all_reviews&sortBy=recent\n"
     ]
    },
    {
     "name": "stderr",
     "output_type": "stream",
     "text": [
      "INFO:root:Successfully scraped total 727 rating for product B09LCQD546\n"
     ]
    },
    {
     "name": "stdout",
     "output_type": "stream",
     "text": [
      "Tag not found in https://www.amazon.com/product-reviews/B07YCQ5H4W/ref=cm_cr_dp_d_show_all_top?ie=UTF8&reviewerType=all_reviews&sortBy=recent\n",
      "Tag not found in https://www.amazon.com/product-reviews/B07YCQ5H4W/ref=cm_cr_dp_d_show_all_top?ie=UTF8&reviewerType=all_reviews&sortBy=recent\n"
     ]
    },
    {
     "name": "stderr",
     "output_type": "stream",
     "text": [
      "INFO:root:Successfully scraped total 2501 rating for product B0C23YS383\n"
     ]
    },
    {
     "name": "stdout",
     "output_type": "stream",
     "text": [
      "Tag not found in https://www.amazon.com/product-reviews/B09LCQD546/ref=cm_cr_dp_d_show_all_top?ie=UTF8&reviewerType=all_reviews&sortBy=recent\n",
      "Tag not found in https://www.amazon.com/product-reviews/B09LCQD546/ref=cm_cr_dp_d_show_all_top?ie=UTF8&reviewerType=all_reviews&sortBy=recent\n"
     ]
    },
    {
     "name": "stderr",
     "output_type": "stream",
     "text": [
      "INFO:root:Successfully scraped total 3135 rating for product B074KG9WSX\n"
     ]
    },
    {
     "name": "stdout",
     "output_type": "stream",
     "text": [
      "Tag not found in https://www.amazon.com/product-reviews/B0C23YS383/ref=cm_cr_dp_d_show_all_top?ie=UTF8&reviewerType=all_reviews&sortBy=recent\n",
      "Tag not found in https://www.amazon.com/product-reviews/B0C23YS383/ref=cm_cr_dp_d_show_all_top?ie=UTF8&reviewerType=all_reviews&sortBy=recent\n"
     ]
    },
    {
     "name": "stderr",
     "output_type": "stream",
     "text": [
      "INFO:root:Successfully scraped total 533 rating for product B09DYK69XP\n"
     ]
    },
    {
     "name": "stdout",
     "output_type": "stream",
     "text": [
      "Tag not found in https://www.amazon.com/product-reviews/B074KG9WSX/ref=cm_cr_dp_d_show_all_top?ie=UTF8&reviewerType=all_reviews&sortBy=recent\n",
      "Helpful Text: One person found this helpful\n"
     ]
    },
    {
     "name": "stderr",
     "output_type": "stream",
     "text": [
      "INFO:root:Successfully scraped total 467 rating for product B07KVN8XXV\n"
     ]
    },
    {
     "name": "stdout",
     "output_type": "stream",
     "text": [
      "Tag not found in https://www.amazon.com/product-reviews/B09DYK69XP/ref=cm_cr_dp_d_show_all_top?ie=UTF8&reviewerType=all_reviews&sortBy=recent\n",
      "Tag not found in https://www.amazon.com/product-reviews/B09DYK69XP/ref=cm_cr_dp_d_show_all_top?ie=UTF8&reviewerType=all_reviews&sortBy=recent\n"
     ]
    },
    {
     "name": "stderr",
     "output_type": "stream",
     "text": [
      "INFO:root:Successfully scraped total 1269 rating for product \n",
      "WARNING:root:Failed to scrape total rating for product \n",
      "WARNING:root:Failed to scrape total rating for product \n",
      "WARNING:root:Failed to scrape total rating for product \n",
      "WARNING:root:Failed to scrape total rating for product \n"
     ]
    },
    {
     "name": "stdout",
     "output_type": "stream",
     "text": [
      "Helpful Text: 2 people found this helpful\n",
      "Tag not found in https://www.amazon.com/product-reviews/B07KVN8XXV/ref=cm_cr_dp_d_show_all_top?ie=UTF8&reviewerType=all_reviews&sortBy=recent\n",
      "Failed to scrape item name in https://www.amazon.com/s?k=accessories+for+clothes&ref=nb_sb_noss&page=8\n",
      "Failed to scrape item name in https://www.amazon.com/s?k=accessories+for+clothes&ref=nb_sb_noss&page=8\n",
      "Failed to scrape item name in https://www.amazon.com/s?k=accessories+for+clothes&ref=nb_sb_noss&page=8\n"
     ]
    },
    {
     "name": "stderr",
     "output_type": "stream",
     "text": [
      "WARNING:root:Failed to scrape total rating for product \n",
      "INFO:root:Successfully scraped total 15268 rating for product B07PLW7S7V\n"
     ]
    },
    {
     "name": "stdout",
     "output_type": "stream",
     "text": [
      "Failed to scrape item name in https://www.amazon.com/s?k=accessories+for+clothes&ref=nb_sb_noss&page=9\n"
     ]
    },
    {
     "name": "stderr",
     "output_type": "stream",
     "text": [
      "INFO:root:Successfully scraped total 492 rating for product B09DKLS8SC\n"
     ]
    },
    {
     "name": "stdout",
     "output_type": "stream",
     "text": [
      "Helpful Text: 4 people found this helpful\n",
      "Tag not found in https://www.amazon.com/product-reviews/B07PLW7S7V/ref=cm_cr_dp_d_show_all_top?ie=UTF8&reviewerType=all_reviews&sortBy=recent\n"
     ]
    },
    {
     "name": "stderr",
     "output_type": "stream",
     "text": [
      "INFO:root:Successfully scraped total 967 rating for product B09C5RQN93\n"
     ]
    },
    {
     "name": "stdout",
     "output_type": "stream",
     "text": [
      "Helpful Text: 4 people found this helpful\n",
      "Helpful Text: 2 people found this helpful\n"
     ]
    },
    {
     "name": "stderr",
     "output_type": "stream",
     "text": [
      "INFO:root:Successfully scraped total 1670 rating for product B015GBRFPU\n"
     ]
    },
    {
     "name": "stdout",
     "output_type": "stream",
     "text": [
      "Helpful Text: One person found this helpful\n",
      "Helpful Text: 2 people found this helpful\n"
     ]
    },
    {
     "name": "stderr",
     "output_type": "stream",
     "text": [
      "INFO:root:Successfully scraped total 12418 rating for product B0912YC238\n"
     ]
    },
    {
     "name": "stdout",
     "output_type": "stream",
     "text": [
      "Tag not found in https://www.amazon.com/product-reviews/B015GBRFPU/ref=cm_cr_dp_d_show_all_top?ie=UTF8&reviewerType=all_reviews&sortBy=recent\n",
      "Helpful Text: One person found this helpful\n"
     ]
    },
    {
     "name": "stderr",
     "output_type": "stream",
     "text": [
      "INFO:root:Successfully scraped total 1934 rating for product B00P5YUTJ8\n"
     ]
    },
    {
     "name": "stdout",
     "output_type": "stream",
     "text": [
      "Tag not found in https://www.amazon.com/product-reviews/B0912YC238/ref=cm_cr_dp_d_show_all_top?ie=UTF8&reviewerType=all_reviews&sortBy=recent\n",
      "Helpful Text: One person found this helpful\n"
     ]
    },
    {
     "name": "stderr",
     "output_type": "stream",
     "text": [
      "INFO:root:Successfully scraped total 11635 rating for product B08ZC59MRQ\n"
     ]
    },
    {
     "name": "stdout",
     "output_type": "stream",
     "text": [
      "Tag not found in https://www.amazon.com/product-reviews/B00P5YUTJ8/ref=cm_cr_dp_d_show_all_top?ie=UTF8&reviewerType=all_reviews&sortBy=recent\n",
      "Tag not found in https://www.amazon.com/product-reviews/B00P5YUTJ8/ref=cm_cr_dp_d_show_all_top?ie=UTF8&reviewerType=all_reviews&sortBy=recent\n"
     ]
    },
    {
     "name": "stderr",
     "output_type": "stream",
     "text": [
      "INFO:root:Successfully scraped total 533 rating for product B0BRZ2SK7N\n"
     ]
    },
    {
     "name": "stdout",
     "output_type": "stream",
     "text": [
      "Helpful Text: 12 people found this helpful\n",
      "Helpful Text: 40 people found this helpful\n"
     ]
    },
    {
     "name": "stderr",
     "output_type": "stream",
     "text": [
      "INFO:root:Successfully scraped total 343 rating for product B0B97KPBPY\n"
     ]
    },
    {
     "name": "stdout",
     "output_type": "stream",
     "text": [
      "Tag not found in https://www.amazon.com/product-reviews/B0BRZ2SK7N/ref=cm_cr_dp_d_show_all_top?ie=UTF8&reviewerType=all_reviews&sortBy=recent\n",
      "Tag not found in https://www.amazon.com/product-reviews/B0BRZ2SK7N/ref=cm_cr_dp_d_show_all_top?ie=UTF8&reviewerType=all_reviews&sortBy=recent\n"
     ]
    },
    {
     "name": "stderr",
     "output_type": "stream",
     "text": [
      "INFO:root:Successfully scraped total 30 rating for product B07MXH87VJ\n"
     ]
    },
    {
     "name": "stdout",
     "output_type": "stream",
     "text": [
      "Helpful Text: One person found this helpful\n",
      "Tag not found in https://www.amazon.com/product-reviews/B0B97KPBPY/ref=cm_cr_dp_d_show_all_top?ie=UTF8&reviewerType=all_reviews&sortBy=recent\n"
     ]
    },
    {
     "name": "stderr",
     "output_type": "stream",
     "text": [
      "INFO:root:Successfully scraped total 9 rating for product B0B9GPV6FF\n",
      "INFO:root:Successfully scraped total 4 rating for product B0BF8S8KX6\n",
      "WARNING:root:Failed to scrape total rating for product \n",
      "WARNING:root:Failed to scrape total rating for product \n",
      "WARNING:root:Failed to scrape total rating for product \n"
     ]
    },
    {
     "name": "stdout",
     "output_type": "stream",
     "text": [
      "TimeoutException: Could not find reviews for https://www.amazon.com/product-reviews/B0BF8S8KX6/ref=cm_cr_dp_d_show_all_top?ie=UTF8&reviewerType=all_reviews&sortBy=recent\n",
      "Failed to scrape item name in https://www.amazon.com/s?k=accessories+for+clothes&ref=nb_sb_noss&page=9\n",
      "Failed to scrape item name in https://www.amazon.com/s?k=accessories+for+clothes&ref=nb_sb_noss&page=9\n",
      "Failed to scrape item name in https://www.amazon.com/s?k=accessories+for+clothes&ref=nb_sb_noss&page=9\n"
     ]
    }
   ],
   "source": [
    "import time\n",
    "import json\n",
    "import random\n",
    "import html\n",
    "from bs4 import BeautifulSoup\n",
    "from selenium import webdriver\n",
    "from selenium.webdriver.edge.service import Service\n",
    "from selenium.webdriver.support.ui import WebDriverWait\n",
    "from selenium.webdriver.support import expected_conditions as EC\n",
    "from selenium.webdriver.common.by import By\n",
    "from selenium.common.exceptions import TimeoutException\n",
    "from webdriver_manager.microsoft import EdgeChromiumDriverManager\n",
    "import traceback\n",
    "import logging\n",
    "import re  # Make sure to include this import\n",
    "from word2number import w2n\n",
    "from datetime import datetime\n",
    "import logging\n",
    "from datetime import datetime\n",
    "\n",
    "logging.basicConfig(level=logging.INFO)\n",
    "\n",
    "def process_review_count(text):\n",
    "    text = text.strip().replace(',', '')\n",
    "    if 'K+' in text:\n",
    "        return str(int(float(text.replace('(', '').replace(')', '').replace('K+', '').strip()) * 1000))\n",
    "    return text\n",
    "\n",
    "def setup_driver():\n",
    "    options = webdriver.EdgeOptions()\n",
    "    options.add_argument('--no-sandbox')\n",
    "    try:\n",
    "        driver = webdriver.Edge(service=Service(EdgeChromiumDriverManager().install()), options=options)\n",
    "    except Exception as e:\n",
    "        print(e)\n",
    "        raise Exception(\"Failed to install Edge Chromium driver.\")\n",
    "    return driver\n",
    "\n",
    "\n",
    "\n",
    "def scrape_extra_parameters(url: str, driver: webdriver.Edge) -> dict:\n",
    "    try:\n",
    "        driver.get(url)\n",
    "        try:\n",
    "            WebDriverWait(driver, 20).until(EC.presence_of_all_elements_located((By.CSS_SELECTOR, \"div[data-hook='review']\")))\n",
    "\n",
    "        except TimeoutException:\n",
    "            print(f\"TimeoutException: Could not find reviews for {url}\")\n",
    "            return {}\n",
    "        \n",
    "        soup = BeautifulSoup(driver.page_source, 'html.parser')\n",
    "\n",
    "        # Extract the general reviews\n",
    "        reviews_tags = soup.find_all('div', attrs={'data-hook': 'review'})\n",
    "\n",
    "        result = {}\n",
    "        for i, review_tag in enumerate(reviews_tags[:5]):\n",
    "            result[f'Customer_{i + 1}_ID'] = review_tag.attrs.get('id', 'None')\n",
    "            \n",
    "            # Extract the Star Rating\n",
    "            star_rating_tag = review_tag.select_one('i[data-hook=\"review-star-rating\"] span.a-icon-alt')\n",
    "            star_rating = float(star_rating_tag.text.split()[0]) if star_rating_tag else 0.0\n",
    "            result[f'Customer_{i+1}_Star_Rating'] = star_rating\n",
    "            \n",
    "            # Extract the Comment Title\n",
    "            comment_title_tag = review_tag.select_one('a[data-hook=\"review-title\"]')\n",
    "            # Inside the for loop, after extracting the comment title:\n",
    "            if comment_title_tag:\n",
    "                actual_comment_title = comment_title_tag.text.strip()\n",
    "            else:\n",
    "                # Handle alternate structure\n",
    "                comment_title_tag = review_tag.select_one('span.cr-original-review-content')\n",
    "                actual_comment_title = comment_title_tag.text.strip() if comment_title_tag else 'NaN'\n",
    "\n",
    "            # Remove the pattern \"k out of 5 stars\\n\" from the comment\n",
    "            actual_comment_title = re.sub(r'\\d+(\\.\\d+)? out of 5 stars\\n', '', actual_comment_title)\n",
    "\n",
    "            result[f'Customer_{i+1}_Comment'] = actual_comment_title\n",
    "\n",
    "            # Extract the Number of people who found the review helpful\n",
    "            helpful_vote_tag = review_tag.select_one('span[data-hook=\"helpful-vote-statement\"]')\n",
    "            helpful_count = w2n.word_to_num(helpful_vote_tag.text.split()[0]) if helpful_vote_tag else 0\n",
    "            result[f'Customer_{i+1}_buying_influence'] = helpful_count\n",
    "        \n",
    "\n",
    "        # Extract Top Positive and Critical Reviews (Moved outside of the above loop)\n",
    "        Parent_review_tags = soup.select('div[id^=\"viewpoint-\"]')\n",
    "        if len(Parent_review_tags) > 0: \n",
    "            ts = 'positive-review'\n",
    "            result.update(extract_specific_review(Parent_review_tags[0], 'Top_Positive', ts, soup, url))\n",
    "\n",
    "        else:\n",
    "            result.update(set_default_values('Top_Positive'))\n",
    "            \n",
    "        if len(Parent_review_tags) > 1: \n",
    "            ts = 'critical-review.a-span-last'\n",
    "            result.update(extract_specific_review(Parent_review_tags[1], 'Critical', ts, soup, url))\n",
    "\n",
    "        else:\n",
    "            result.update(set_default_values('Critical'))\n",
    "            \n",
    "        return result\n",
    "    except Exception as e:\n",
    "        print(f\"Error scraping extra parameters: {e}\")\n",
    "        traceback.print_exc()\n",
    "        return {}\n",
    "\n",
    "def extract_specific_review(review_tag, review_type, ts, soup, url):\n",
    "    specific_result = {}\n",
    "    \n",
    "    # Extracting ID\n",
    "    review_id = review_tag.get('id', 'None').replace('viewpoint-', '')\n",
    "    specific_result[f'{review_type}_Review_Cust_ID'] = review_id\n",
    "\n",
    "    # # Extract Customer Name and Influenced\n",
    " \n",
    "     # Corrected Extraction for Customer Name\n",
    "    customer_name_selector = 'div.a-profile-content span.a-profile-name'\n",
    "    specific_result[f'{review_type}_Review_Cust_Name'] = review_tag.select_one(customer_name_selector).text if review_tag.select_one(customer_name_selector) else 'None'\n",
    "\n",
    "    # Corrected Selector\n",
    "    influenced_selector = f'div.a-column.a-span6.view-point-review.{ts} div.a-row.a-spacing-top-small span.a-size-small.a-color-tertiary span.review-votes'\n",
    "    influenced_element = soup.select_one(influenced_selector)\n",
    "\n",
    "    if influenced_element:\n",
    "        # Directly extract the text from the found element\n",
    "        helpful_text = influenced_element.text.strip()\n",
    "        print(\"Helpful Text:\", helpful_text)  # Debugging line\n",
    "        \n",
    "        # Check if the text starts with a digit and extract the first contiguous digit sequence\n",
    "        match = re.match(r'\\d+', helpful_text)\n",
    "        if match:\n",
    "            helpful_count = int(match.group())\n",
    "        else:\n",
    "            # If the text doesn't start with a digit, try converting the first word to a number\n",
    "            helpful_count = w2n.word_to_num(helpful_text.split()[0])\n",
    "    else:\n",
    "        print(f\"Tag not found in {url}\")  # Debugging line\n",
    "        helpful_count = 0\n",
    "\n",
    "    specific_result[f'{review_type}_Review_Cust_Influenced'] = helpful_count\n",
    "\n",
    "    \n",
    " \n",
    "  # # customer_name_tags = review_tag.select('span.a-profile-name')\n",
    "    # customer_name_tags = review_tag.select('div.a-expander-content.a-expander-partial-collapse-content div.a-profile-content')\n",
    "    # specific_result[f'{review_type}_Review_Cust_Name'] = customer_name_tags[1].text if len(customer_name_tags) > 1 else 'None'\n",
    "    \n",
    "    # Extract Customer Review Comment\n",
    "    review_comment_tag = review_tag.find('div', class_='a-row a-spacing-top-mini')\n",
    "    specific_result[f'{review_type}_Review_Cust_Comment'] = review_comment_tag.text.strip() if review_comment_tag else 'None'\n",
    "    \n",
    "    # Extract Customer Review Title\n",
    "    review_title_tag = review_tag.select_one('span[data-hook=\"review-title\"]')\n",
    "    specific_result[f'{review_type}_Review_Cust_Comment_Title'] = review_title_tag.text if review_title_tag else 'None'\n",
    "    \n",
    "    # Extract the post time\n",
    "    review_tags_date = review_tag.select('div.a-expander-content.a-expander-partial-collapse-content span.a-size-base.a-color-secondary.review-date')\n",
    "    if review_tags_date:\n",
    "        post_time_text = review_tags_date[0].text.strip()\n",
    "        match = re.search(r'on (.+)$', post_time_text)\n",
    "        if match:\n",
    "            date_string = match.group(1)\n",
    "            try:\n",
    "                post_date = datetime.strptime(date_string, '%B %d, %Y')\n",
    "                specific_result[f'{review_type}_Review_Cust_Date'] = post_date.isoformat()                            \n",
    "            except ValueError as ve:\n",
    "                print(f\"Error parsing date string {date_string}: {ve}\")\n",
    "                specific_result[f'{review_type}_Review_Cust_Date'] = '-'\n",
    "        else:\n",
    "            print(\"Date not found in text:\", post_time_text)\n",
    "            specific_result[f'{review_type}_Review_Cust_Date'] = '-'\n",
    "    else:\n",
    "        print(\"Date tag not found\")\n",
    "        specific_result[f'{review_type}_Review_Cust_Date'] = None\n",
    "    \n",
    "    \n",
    "    # Extract the Star Rating\n",
    "    review_star_rating_tag = review_tag.select_one('i[data-hook=\"review-star-rating-view-point\"] span.a-icon-alt')\n",
    "    star_rating = float(review_star_rating_tag.text.split()[0]) if review_star_rating_tag else 0.0\n",
    "    specific_result[f'{review_type}_Review_Cust_Star_Rating'] = star_rating\n",
    "    \n",
    "    return specific_result\n",
    "\n",
    "def set_default_values(review_type):\n",
    "    default_values = {\n",
    "        f'{review_type}_Review_Cust_ID': 'None',\n",
    "        f'{review_type}_Review_Cust_Name': 'None',\n",
    "        f'{review_type}_Review_Cust_Comment': 'None',\n",
    "        f'{review_type}_Review_Cust_Comment_Title': 'None',\n",
    "        f'{review_type}_Review_Cust_Influenced': 0,\n",
    "        f'{review_type}_Review_Cust_Star_Rating': 0.0,\n",
    "        f'{review_type}_Review_Cust_Date': None,\n",
    "    }\n",
    "    return default_values\n",
    "\n",
    "    #     return result\n",
    "    # except Exception as e:\n",
    "    #     print(f\"Error scraping extra parameters for {url}: {e}\")\n",
    "    #     traceback.print_exc()\n",
    "    # return {}\n",
    "\n",
    "def scrape_amazon(categories):\n",
    " \n",
    "    driver = setup_driver()\n",
    "    all_products = []\n",
    "    seen_products = set()\n",
    "\n",
    "    for category, base_url in categories.items():\n",
    "        products = []\n",
    "\n",
    "        for page in range(1, 10):\n",
    "            url = f\"{base_url}&page={page}\"\n",
    "\n",
    "            try:\n",
    "                driver.get(url)\n",
    "                WebDriverWait(driver, 25).until(EC.presence_of_element_located((By.CSS_SELECTOR, \"#search > div.s-desktop-width-max.s-desktop-content.s-wide-grid-style-t1.s-opposite-dir.s-wide-grid-style.sg-row > div.sg-col-20-of-24.s-matching-dir.sg-col-16-of-20.sg-col.sg-col-8-of-12.sg-col-12-of-16 > div > span.rush-component.s-latency-cf-section > div.s-main-slot.s-result-list.s-search-results.sg-row > div:nth-child(1)\")))\n",
    "            except TimeoutException:\n",
    "                print(f\"Timed out waiting for elements on page {page} of category {category}.\")\n",
    "                continue\n",
    "\n",
    "            time.sleep(random.uniform(3.0, 6.0))\n",
    "            soup = BeautifulSoup(driver.page_source, 'html.parser')\n",
    "            \n",
    "            # Find all products using the given CSS selector\n",
    "            products_tags = soup.select(\"#search > div.s-desktop-width-max.s-desktop-content.s-wide-grid-style-t1.s-opposite-dir.s-wide-grid-style.sg-row > div.sg-col-20-of-24.s-matching-dir.sg-col-16-of-20.sg-col.sg-col-8-of-12.sg-col-12-of-16 > div > span.rush-component.s-latency-cf-section > div.s-main-slot.s-result-list.s-search-results.sg-row > div\")\n",
    "\n",
    "            products_list = []  # Use a different name for the list of product_dict dictionaries\n",
    "\n",
    "            for product in products_tags:\n",
    "                product_dict = {}\n",
    "                product_dict['Product_ID'] = product.attrs.get('data-asin', None)\n",
    "\n",
    "                # Try to find item_name with the general class\n",
    "                item_name = product.find('span', class_='a-text-normal')\n",
    "\n",
    "                # If not found, try the first specific class\n",
    "                if item_name is None:\n",
    "                    item_name = product.find('span', class_='a-size-base-plus a-color-base a-text-normal')\n",
    "\n",
    "                # If still not found, try the second specific class\n",
    "                if item_name is None:\n",
    "                    item_name = product.find('span', class_='a-size-medium a-color-base a-text-normal')\n",
    "\n",
    "                # If item_name is found with any class, extract the text\n",
    "                if item_name:\n",
    "                    product_dict['product'] = item_name.text.strip()\n",
    "                else:\n",
    "                    print(f\"Failed to scrape item name in {url}\")\n",
    "                    product_dict['product'] = \"Unknown\"\n",
    "                product_price = product.find('span', class_='a-offscreen')\n",
    "                if product_price:\n",
    "                    product_price = product_price.text.strip().replace(\"$\", \"\").replace(\",\", \"\").strip()\n",
    "                    product_dict['price'] = product_price\n",
    "\n",
    "                rating_spans = product.find_all('span', attrs={\"aria-label\": True})\n",
    "                for rating_span in rating_spans:\n",
    "                    aria_label_value = rating_span.attrs[\"aria-label\"]\n",
    "                    if \"stars\" in aria_label_value:\n",
    "                        product_dict['ratings'] = aria_label_value.split(\" \")[0]\n",
    "                    else:\n",
    "                        if 'K+' in aria_label_value:\n",
    "                            product_dict['review_responders'] = aria_label_value\n",
    "                        else:\n",
    "                            try:\n",
    "                                int_value = int(aria_label_value)\n",
    "                                product_dict['review_responders'] = aria_label_value\n",
    "                            except ValueError:\n",
    "                                pass\n",
    "\n",
    "                item_reviews = product.find('span', class_='a-size-base s-underline-text')\n",
    "                if item_reviews:\n",
    "                    try:\n",
    "                        reviews_text = item_reviews.text.strip()\n",
    "                        reviews_count = process_review_count(reviews_text)\n",
    "                        product_dict['reviews'] = reviews_count\n",
    "                        logging.info(f\"Successfully scraped total {product_dict['reviews']} rating for product {product_dict.get('Product_ID', 'Unknown ID')}\")\n",
    "                    except Exception as e:\n",
    "                        logging.error(f\"Error processing review count for product {product_dict.get('Product_ID', 'Unknown ID')}: {e}\")\n",
    "                else:\n",
    "                    logging.warning(f\"Failed to scrape total rating for product {product_dict.get('Product_ID', 'Unknown ID')}\")\n",
    "\n",
    "            \n",
    "\n",
    "                # Extract ASIN\n",
    "                product_dict['Product_ID'] = product.attrs.get('data-asin', None)\n",
    "\n",
    "                # Construct the review URL using ASIN\n",
    "                if product_dict['Product_ID']:\n",
    "                    asin = product_dict['Product_ID']\n",
    "                    product_dict['url'] = f\"https://www.amazon.com/product-reviews/{asin}/ref=cm_cr_dp_d_show_all_top?ie=UTF8&reviewerType=all_reviews&sortBy=recent\"\n",
    "                else:\n",
    "                    product_dict['url'] = \"None\"\n",
    "\n",
    "\n",
    "                product_dict['category'] = category\n",
    "\n",
    "                if 'Product_ID' in product_dict and product_dict['Product_ID']:\n",
    "                # Create a unique identifier for the product\n",
    "                    identifier = product_dict['Product_ID']\n",
    "\n",
    "                    if identifier not in seen_products:\n",
    "                        seen_products.add(identifier) #\n",
    "                        if product_dict.get('url'):\n",
    "                            extra_params = scrape_extra_parameters(product_dict['url'], driver)\n",
    "                            product_dict.update(extra_params)\n",
    "                            products_list.append(product_dict)\n",
    "\n",
    "                        all_products.extend(products_list)\n",
    "    driver.quit()\n",
    "    return json.dumps(all_products)\n",
    "\n",
    "\n",
    "if __name__ == '__main__':\n",
    "    categories = {\n",
    "        # 'Smartphones': 'https://www.amazon.com/s?k=smartphone&ref=nb_sb_noss',\n",
    "        # 'Laptops': 'https://www.amazon.com/s?k=Laptops&ref=nb_sb_noss',\n",
    "        # 'video_games': 'https://www.amazon.com/s?k=video_games&ref=nb_sb_noss',\n",
    "        # 'Dresses':'https://www.amazon.com/s?k=Dresses&ref=nb_sb_noss',\n",
    "        # 'Shoes':'https://www.amazon.com/s?k=Shoes&ref=nb_sb_noss',\n",
    "        'Accessories':'https://www.amazon.com/s?k=accessories+for+clothes&ref=nb_sb_noss',\n",
    "    }\n",
    "\n",
    "    all_products = []\n",
    "    try:\n",
    "        all_products = json.loads(scrape_amazon(categories))\n",
    "    except Exception as e:\n",
    "        print(f\"Error occurred during scraping: {e}\")\n",
    "    finally:\n",
    "        with open('amazon_data_ext.json', 'w') as file:\n",
    "            json.dump(all_products, file)\n"
   ]
  },
  {
   "cell_type": "code",
   "execution_count": 14,
   "metadata": {},
   "outputs": [],
   "source": [
    "import pandas as pd\n",
    "import psycopg2\n",
    "import numpy as np\n",
    "import re\n",
    "import logging\n",
    "from datetime import datetime\n",
    "\n",
    "logging.basicConfig(level=logging.INFO)\n",
    "\n",
    "# Load the JSON data into a pandas DataFrame\n",
    "df = pd.read_json('amazon_data_ext.json')\n",
    "# ---- START OF INSERTED CODE ----\n",
    "def fix_products_length(df):\n",
    "    \"\"\"Ensure each record has a length of 42 by appending None values.\"\"\"\n",
    "    max_len = df.shape[1]\n",
    "    if max_len < 42:\n",
    "        for _ in range(42 - max_len):\n",
    "            df[f'Extra_Column_{_}'] = None\n",
    "    return df\n",
    "\n",
    "# Call the function to ensure data consistency\n",
    "df = fix_products_length(df)\n",
    "# ---- END OF INSERTED CODE ----\n",
    "\n",
    "# Check if specific columns are in the DataFrame\n",
    "columns_to_check = ['Critical_Review_Cust_Influenced', 'Top_Positive_Review_Cust_Influenced']\n",
    "for column in columns_to_check:\n",
    "    if column not in df.columns:\n",
    "        logging.warning(f\"Column '{column}' not found in the DataFrame. Please check the column name in the JSON file.\")\n",
    "\n",
    "# Convert date columns to datetime objects and then to 'yyyy-mm-dd' string format\n",
    "date_columns = ['Critical_Review_Cust_Date', 'Top_Positive_Review_Cust_Date']\n",
    "for column in date_columns:\n",
    "    df[column] = pd.to_datetime(df[column], errors='coerce', format='%Y-%m-%dT%H:%M:%S')\n",
    "    df[column].fillna(pd.NaT, inplace=True)\n",
    "    df[column] = df[column].apply(lambda x: x.strftime('%Y-%m-%d') if pd.notna(x) else '1677-09-21')\n",
    "\n",
    "# Replace NaN values with 'None' in specific columns\n",
    "columns_to_replace_nan = [\n",
    "    'Critical_Review_Cust_ID', 'Critical_Review_Cust_Name', 'Critical_Review_Cust_Comment',\n",
    "    'Critical_Review_Cust_Comment_Title', 'Critical_Review_Cust_Influenced',\n",
    "    'Top_Positive_Review_Cust_ID', 'Top_Positive_Review_Cust_Name', 'Top_Positive_Review_Cust_Comment',\n",
    "    'Top_Positive_Review_Cust_Comment_Title', 'Top_Positive_Review_Cust_Influenced'\n",
    "]\n",
    "for column in columns_to_replace_nan:\n",
    "    df[column] = df[column].replace({np.nan: 'None'})\n",
    "\n",
    "# Remove any duplicates that may have been created due to URL changes\n",
    "df = df.drop_duplicates(subset=['Product_ID'], keep='first')\n",
    "\n",
    "# Replace NaN values with 'None' in customer comment and ID columns\n",
    "for i in range(1, 6):\n",
    "    df[f'Customer_{i}_Comment'] = df[f'Customer_{i}_Comment'].replace({np.nan: 'None'})\n",
    "    df[f'Customer_{i}_ID'] = df[f'Customer_{i}_ID'].replace({np.nan: 'None'})\n",
    "\n",
    "# Define variations of NaN or missing values and replace in customer comment columns\n",
    "nan_variants = [np.nan, 'NaN', 'nan', 'None', 'none', 'N/A', 'n/a', 'NA', 'na', 'null', '']\n",
    "for i in range(1, 6):\n",
    "    col_name = f'Customer_{i}_Comment'\n",
    "    df[col_name] = df[col_name].astype(str).replace(nan_variants, 'None')\n",
    "\n",
    "# Drop rows where specific columns have undesired values\n",
    "df.dropna(subset=['price'], inplace=True)\n",
    "df.drop(df.index[df['Customer_1_ID'] == 'None'], inplace=True)\n",
    "df.drop(df.index[df['reviews'] == '0'], inplace=True)\n",
    "\n",
    "# Update the 'Critical_Review_Cust_Influenced' and 'Top_Positive_Review_Cust_Influenced' columns\n",
    "for column in ['Critical_Review_Cust_Influenced', 'Top_Positive_Review_Cust_Influenced']:\n",
    "    df[column] = df[column].replace({'\"NaN\"': 0.0, 'NaN': 0.0})\n",
    "\n",
    "# Drop the 'review_responders' column if it exists\n",
    "if 'review_responders' in df.columns:\n",
    "    df.drop(columns=['review_responders'], inplace=True)\n",
    "\n",
    "# Clean other columns\n",
    "df['price'] = df['price'].apply(lambda value: float(value) if isinstance(value, (int, float)) else 0.0)\n",
    "df['ratings'] = df['ratings'].apply(lambda x: float(x) if pd.notna(x) else None)\n",
    "df['reviews'] = df['reviews'].replace('(', '').replace(')', '').replace(nan_variants, 0).fillna(0).astype(int)\n",
    "\n",
    "\n",
    "\n",
    "# Connect to PostgreSQL\n",
    "conn = psycopg2.connect(\n",
    "    host=\"localhost\",\n",
    "    database=\"postgres\",\n",
    "    user=\"postgres\",\n",
    "    password=\"demopass\",\n",
    "    client_encoding='utf8'\n",
    ")\n",
    "cur = conn.cursor()\n",
    "\n",
    "# Modify the CREATE TABLE query to include additional columns\n",
    "create_table_query = \"\"\"\n",
    "DROP TABLE IF EXISTS amazon_data_ext;\n",
    "CREATE TABLE IF NOT EXISTS amazon_data_ext (\n",
    "    Product_ID TEXT NOT NULL,\n",
    "    product TEXT NOT NULL,\n",
    "    price NUMERIC NULL,\n",
    "    ratings NUMERIC NULL,\n",
    "    reviews INTEGER NOT NULL,\n",
    "    category TEXT NOT NULL,\n",
    "    url TEXT NOT NULL,\n",
    "    Top_Positive_Review_Cust_ID TEXT,\n",
    "    Top_Positive_Review_Cust_Name TEXT,\n",
    "    Top_Positive_Review_Cust_Date DATE,\n",
    "    Top_Positive_Review_Cust_Comment TEXT,\n",
    "    Top_Positive_Review_Cust_Comment_Title TEXT,\n",
    "    Top_Positive_Review_Cust_Influenced INTEGER,\n",
    "    Top_Positive_Review_Cust_Star_Rating NUMERIC,\n",
    "    Critical_Review_Cust_ID TEXT,\n",
    "    Critical_Review_Cust_Name TEXT,\n",
    "    Critical_Review_Cust_Date DATE,\n",
    "    Critical_Review_Cust_Comment TEXT,\n",
    "    Critical_Review_Cust_Comment_Title TEXT,\n",
    "    Critical_Review_Cust_Influenced INTEGER,\n",
    "    Critical_Review_Cust_Star_Rating NUMERIC,\n",
    "    \"\"\" + \",\\n    \".join([f\"Customer_{i}_ID TEXT, Customer_{i}_Star_Rating NUMERIC, Customer_{i}_Comment TEXT, Customer_{i}_buying_influence INTEGER\" for i in range(1, 6)]) + \"\"\"\n",
    ")\n",
    "\"\"\"\n",
    "cur.execute(create_table_query)\n",
    "conn.commit()\n",
    "\n",
    "def clean_format_data(row):\n",
    "    # Extract values directly, as they are already cleaned\n",
    "    ratings = row['ratings']\n",
    "    price = row['price']\n",
    "    reviews = row['reviews']\n",
    "    product_id = row['Product_ID']\n",
    "    product = row['product']\n",
    "    category = row['category']\n",
    "    url = row['url']\n",
    "      \n",
    "    critical_review_id = row['Critical_Review_Cust_ID'] if row['Critical_Review_Cust_ID'] != 'None' else None\n",
    "    critical_review_cust_name = row['Critical_Review_Cust_Name'] if row['Critical_Review_Cust_Name'] != 'None' else None\n",
    "    critical_review_cust_comment = row['Critical_Review_Cust_Comment']\n",
    "    if critical_review_cust_comment in nan_variants or critical_review_cust_comment == 'None':\n",
    "        critical_review_cust_comment = 'Unavailable'\n",
    "    \n",
    "    critical_review_cust_comment_title = row['Critical_Review_Cust_Comment_Title'] if row['Critical_Review_Cust_Comment_Title'] != 'None' else None\n",
    "    critical_review_cust_influenced = row['Critical_Review_Cust_Influenced'] if row['Critical_Review_Cust_Influenced'] != 'None' else 0  # Correctly handle NaN values\n",
    "    critical_review_star_rating = row['Critical_Review_Cust_Star_Rating'] if pd.notna(row['Critical_Review_Cust_Star_Rating']) else 0.0\n",
    "    critical_review_cust_date = row['Critical_Review_Cust_Date'] if row['Critical_Review_Cust_Date'] != 'None' else '0001-01-01'  # Correctly handle NaN values\n",
    "\n",
    "    top_positive_review_id = row['Top_Positive_Review_Cust_ID'] if row['Top_Positive_Review_Cust_ID'] != 'None' else None\n",
    "    top_positive_review_cust_name = row['Top_Positive_Review_Cust_Name'] if row['Top_Positive_Review_Cust_Name'] != 'None' else None\n",
    "    top_positive_review_cust_comment = row['Critical_Review_Cust_Comment']\n",
    "    if top_positive_review_cust_comment in nan_variants or top_positive_review_cust_comment == 'None':\n",
    "        top_positive_review_cust_comment = None    \n",
    "    top_positive_review_cust_comment_title = row['Top_Positive_Review_Cust_Comment_Title'] if row['Top_Positive_Review_Cust_Comment_Title'] != 'None' else None\n",
    "    top_positive_review_cust_influenced = row['Top_Positive_Review_Cust_Influenced'] if row['Top_Positive_Review_Cust_Influenced'] != 'None' else 0  # Correctly handle NaN values\n",
    "    top_positive_review_star_rating = row['Top_Positive_Review_Cust_Star_Rating'] if pd.notna(row['Top_Positive_Review_Cust_Star_Rating']) else 0.0\n",
    "    top_positive_review_cust_date = row['Top_Positive_Review_Cust_Date'] if row['Top_Positive_Review_Cust_Date'] != 'None' else '0001-01-01'  # Correctly handle NaN values\n",
    "    \n",
    "    top_positive_date = row['Top_Positive_Review_Cust_Date']\n",
    "    critical_review_date = row['Critical_Review_Cust_Date']\n",
    "\n",
    "    def format_date(date_value):\n",
    "        if isinstance(date_value, str) and re.match(r'\\d{4}-\\d{2}-\\d{2}', date_value):\n",
    "            return date_value\n",
    "        else:\n",
    "            return '0001-01-01'  # Default value for invalid date formats or non-string values\n",
    "\n",
    "    top_positive_review_cust_date = format_date(top_positive_date)\n",
    "    critical_review_cust_date = format_date(critical_review_date)\n",
    "\n",
    "\n",
    "\n",
    "    # Handle additional customer information\n",
    "    customer_data = []\n",
    "    for i in range(1, 6):\n",
    "        customer_id = row[f'Customer_{i}_ID'] if row[f'Customer_{i}_ID'] != 'None' else \"Unavailable\"\n",
    "        star_rating = row[f'Customer_{i}_Star_Rating'] if pd.notna(row[f'Customer_{i}_Star_Rating']) else 0.0\n",
    "        comment = row[f'Customer_{i}_Comment'] if row[f'Customer_{i}_Comment'] != 'None' else \"Unavailable\"\n",
    "        buying_influence = row[f'Customer_{i}_buying_influence'] if pd.notna(row[f'Customer_{i}_buying_influence']) else 0\n",
    "        customer_data.extend([customer_id, star_rating, comment, buying_influence])\n",
    "\n",
    "    # Construct the return tuple\n",
    "    result_tuple = (product_id, product, price, ratings, reviews, category, url, \n",
    "                   top_positive_review_id, top_positive_review_cust_name, top_positive_review_cust_date, \n",
    "                   top_positive_review_cust_comment, top_positive_review_cust_comment_title, \n",
    "                   top_positive_review_cust_influenced, top_positive_review_star_rating, \n",
    "                   critical_review_id, critical_review_cust_name, critical_review_cust_date, critical_review_cust_comment, \n",
    "                   critical_review_cust_comment_title, critical_review_cust_influenced, \n",
    "                   critical_review_star_rating, *customer_data)\n",
    "    \n",
    "    if not result_tuple:\n",
    "        logging.error(f\"Failed to construct tuple for row: {row}\")\n",
    "        return None\n",
    "    \n",
    "    return result_tuple\n",
    "\n",
    "# Check for the presence of the column `Customer_{i}_buying_influence` in the DataFrame\n",
    "for i in range(1, 6):\n",
    "    if f'Customer_{i}_buying_influence' not in df.columns:\n",
    "        logging.error(f\"Column 'Customer_{i}_buying_influence' not found in the DataFrame.\")\n",
    "\n",
    "\n",
    "# Define the INSERT query\n",
    "insert_query = \"\"\"\n",
    "INSERT INTO amazon_data_ext (\n",
    "    Product_ID, product, price, ratings, reviews, category, url,\n",
    "    Top_Positive_Review_Cust_ID, Top_Positive_Review_Cust_Name, Top_Positive_Review_Cust_Date, Top_Positive_Review_Cust_Comment, Top_Positive_Review_Cust_Comment_Title, Top_Positive_Review_Cust_Influenced, Top_Positive_Review_Cust_Star_Rating, Critical_Review_Cust_ID, Critical_Review_Cust_Name, Critical_Review_Cust_Date, Critical_Review_Cust_Comment, Critical_Review_Cust_Comment_Title, Critical_Review_Cust_Influenced, Critical_Review_Cust_Star_Rating,\n",
    "    \"\"\" + \", \".join([f\"Customer_{i}_ID, Customer_{i}_Star_Rating, Customer_{i}_Comment, Customer_{i}_buying_influence\" for i in range(1, 6)]) + \"\"\"\n",
    ") VALUES (\"\"\" + \", \".join([\"%s\"] * (21 + 20)) + \")\"\n",
    "\n",
    "\n",
    "# Count the number of placeholders in the SQL query\n",
    "num_placeholders = insert_query.count('%s')\n",
    "\n",
    "for index, row in df.iterrows():\n",
    "    tuple_values = clean_format_data(row)\n",
    "    if not tuple_values:\n",
    "        logging.warning(f\"Skipping row at index {index} due to errors in data processing.\")\n",
    "        continue\n",
    "    num_tuple_values = len(tuple_values)\n",
    "    \n",
    "    # Check for mismatch between placeholders and tuple values\n",
    "    if num_placeholders != num_tuple_values:\n",
    "        logging.error(f\"Mismatch at index {index}! Number of placeholders: {num_placeholders}, Number of tuple values: {num_tuple_values}\")\n",
    "        logging.error(f\"Tuple values: {tuple_values}\")\n",
    "        \n",
    "        # Expected columns based on the INSERT query\n",
    "        expected_columns = [\n",
    "            \"Product_ID\", \"product\", \"price\", \"ratings\", \"reviews\", \"category\", \"url\",\n",
    "            \"Top_Positive_Review_Cust_ID\", \"Top_Positive_Review_Cust_Name\", \"Top_Positive_Review_Cust_Date\", \"Top_Positive_Review_Cust_Comment\", \"Top_Positive_Review_Cust_Comment_Title\", \"Top_Positive_Review_Cust_Influenced\",\n",
    "            \"Top_Positive_Review_Cust_Star_Rating\", \"Critical_Review_Cust_ID\", \"Critical_Review_Cust_Name\", \"Critical_Review_Cust_Date\", \"Critical_Review_Cust_Comment\", \"Critical_Review_Cust_Comment_Title\",\n",
    "            \"Critical_Review_Cust_Influenced\", \"Critical_Review_Cust_Star_Rating\"\n",
    "        ] + [f\"Customer_{i}_ID\" for i in range(1, 6)] + [f\"Customer_{i}_Star_Rating\" for i in range(1, 6)] + [f\"Customer_{i}_Comment\" for i in range(1, 6)] + [f\"Customer_{i}_buying_influence\" for i in range(1, 6)]\n",
    "\n",
    "\n",
    "\n",
    "        # In the section where you're logging the mismatch error, add this:\n",
    "        for col, val in zip(expected_columns, tuple_values):\n",
    "            print(f\"{col}: {val}\")\n",
    "\n",
    "        \n",
    "        continue  # Skip this iteration\n",
    "\n",
    "\n",
    "    try:\n",
    "        cur.execute(insert_query, tuple_values)\n",
    "    except Exception as e:\n",
    "        logging.error(f\"Error inserting row at index {index}: {e}\")\n",
    "        logging.debug(f\"Row data: {row}\")\n",
    "        conn.rollback()\n",
    "\n",
    "        \n",
    "\n",
    "conn.commit()\n",
    "cur.close()\n",
    "conn.close()\n",
    "# Rename the columns in the DataFrame\n",
    "df.rename(columns={'ratings': 'star_ratings', 'reviews': 'total_ratings', 'price': 'price_dollars'}, inplace=True)\n",
    "\n",
    "# Save the DataFrame to a CSV file with updated column names\n",
    "df.to_csv('amazon_data_ext.csv', index=False, encoding='utf-8')"
   ]
  }
 ],
 "metadata": {
  "kernelspec": {
   "display_name": "Python 3",
   "language": "python",
   "name": "python3"
  },
  "language_info": {
   "codemirror_mode": {
    "name": "ipython",
    "version": 3
   },
   "file_extension": ".py",
   "mimetype": "text/x-python",
   "name": "python",
   "nbconvert_exporter": "python",
   "pygments_lexer": "ipython3",
   "version": "3.9.13"
  },
  "orig_nbformat": 4
 },
 "nbformat": 4,
 "nbformat_minor": 2
}
