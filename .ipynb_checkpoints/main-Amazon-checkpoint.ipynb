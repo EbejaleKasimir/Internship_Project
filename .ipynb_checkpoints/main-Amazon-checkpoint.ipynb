{
 "cells": [
  {
   "cell_type": "code",
   "execution_count": 2,
   "metadata": {},
   "outputs": [],
   "source": [
    "import requests\n",
    "from bs4 import BeautifulSoup\n",
    "import pandas as pd\n",
    "import csv\n",
    "\n",
    "\n",
    "headers = {\n",
    "    'User-Agent': 'Mozilla/5.0 (Windows NT 10.0; Win64; x64) AppleWebKit/537.36 (KHTML, like Gecko) Chrome/58.0.3029.110 Safari/537.3'}\n",
    "\n",
    "def get_reviews(url):\n",
    "    response = requests.get(url, headers=headers)\n",
    "    soup = BeautifulSoup(response.content, 'html.parser')\n",
    "    reviews = soup.find_all('div', {'data-hook': 'review'})\n",
    "    return reviews\n",
    "\n",
    "def parse_reviews(reviews):\n",
    "    all_reviews = []\n",
    "    for review in reviews:\n",
    "        review_id = review.get('id')\n",
    "        review_body = review.find('span', {'data-hook': 'review-body'}).text.strip()\n",
    "        review_date = review.find('span', {'data-hook': 'review-date'}).text\n",
    "        rating = review.find('i', {'data-hook': 'review-star-rating'}).text\n",
    "        reviewer = review.find('span', {'class': 'a-profile-name'}).text\n",
    "        all_reviews.append([review_id, review_body, review_date, rating, reviewer])\n",
    "    return all_reviews\n",
    "\n",
    "# URL of the Amazon product\n",
    "url = \"https://www.amazon.com/product-reviews/B015EDLTWU\"\n",
    "\n",
    "reviews = get_reviews(url)\n",
    "all_reviews = parse_reviews(reviews)\n",
    "df = pd.DataFrame(all_reviews, columns=['ReviewID', 'ReviewText', 'ReviewDate', 'Rating', 'Reviewer'])\n",
    "\n",
    "# Save DataFrame to CSV\n",
    "df.to_csv('amazon_reviews.csv', index=False, quoting=csv.QUOTE_NONNUMERIC)\n",
    "\n"
   ]
  },
  {
   "cell_type": "code",
   "execution_count": null,
   "metadata": {},
   "outputs": [],
   "source": []
  }
 ],
 "metadata": {
  "kernelspec": {
   "display_name": "Python 3 (ipykernel)",
   "language": "python",
   "name": "python3"
  },
  "language_info": {
   "codemirror_mode": {
    "name": "ipython",
    "version": 3
   },
   "file_extension": ".py",
   "mimetype": "text/x-python",
   "name": "python",
   "nbconvert_exporter": "python",
   "pygments_lexer": "ipython3",
   "version": "3.11.4"
  }
 },
 "nbformat": 4,
 "nbformat_minor": 2
}
